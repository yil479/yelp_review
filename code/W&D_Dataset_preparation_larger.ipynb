{
 "cells": [
  {
   "cell_type": "code",
   "execution_count": 0,
   "metadata": {
    "colab": {},
    "colab_type": "code",
    "collapsed": true,
    "id": "OXYzIlXmdVTz"
   },
   "outputs": [],
   "source": [
    "import pandas as pd\n",
    "import numpy as np\n",
    "import random\n",
    "import matplotlib.pyplot as plt\n",
    "import time\n",
    "import sklearn\n",
    "from sklearn.model_selection import train_test_split\n",
    "from random import shuffle\n",
    "import seaborn as sns  "
   ]
  },
  {
   "cell_type": "code",
   "execution_count": 2,
   "metadata": {
    "colab": {
     "base_uri": "https://localhost:8080/",
     "height": 122
    },
    "colab_type": "code",
    "id": "hFy5KH6Wdbno",
    "outputId": "6e43c37a-173d-4465-a7a8-411a0611858b"
   },
   "outputs": [
    {
     "name": "stdout",
     "output_type": "stream",
     "text": [
      "Go to this URL in a browser: https://accounts.google.com/o/oauth2/auth?client_id=947318989803-6bn6qk8qdgf4n4g3pfee6491hc0brc4i.apps.googleusercontent.com&redirect_uri=urn%3aietf%3awg%3aoauth%3a2.0%3aoob&response_type=code&scope=email%20https%3a%2f%2fwww.googleapis.com%2fauth%2fdocs.test%20https%3a%2f%2fwww.googleapis.com%2fauth%2fdrive%20https%3a%2f%2fwww.googleapis.com%2fauth%2fdrive.photos.readonly%20https%3a%2f%2fwww.googleapis.com%2fauth%2fpeopleapi.readonly\n",
      "\n",
      "Enter your authorization code:\n",
      "··········\n",
      "Mounted at /content/drive\n"
     ]
    }
   ],
   "source": [
    "from google.colab import drive\n",
    "drive.mount('/content/drive',force_remount=True)\n"
   ]
  },
  {
   "cell_type": "code",
   "execution_count": 0,
   "metadata": {
    "colab": {},
    "colab_type": "code",
    "collapsed": true,
    "id": "noI0QtJHdlUs"
   },
   "outputs": [],
   "source": [
    "path=\"/content/drive/My Drive/yelp_final_data/\""
   ]
  },
  {
   "cell_type": "markdown",
   "metadata": {
    "colab_type": "text",
    "id": "bDOX_13scGG8"
   },
   "source": [
    "### This notebook is for preparing train and test set for Wide and Deep model."
   ]
  },
  {
   "cell_type": "markdown",
   "metadata": {
    "colab_type": "text",
    "id": "S4Y5OKQqc6kh"
   },
   "source": [
    "There are two parts:\n",
    "1. Prepare the large train and test set using the test index we prepared before.\n",
    "2. Segment the test set into different levels of users and business."
   ]
  },
  {
   "cell_type": "markdown",
   "metadata": {
    "colab_type": "text",
    "id": "xiIbk3xXejNy"
   },
   "source": [
    "Read the dataset we prepared before. We only want the restaurant that has been rated more than twice and the users that rated at least 5 times."
   ]
  },
  {
   "cell_type": "markdown",
   "metadata": {
    "colab_type": "text",
    "id": "oOcnl86RekSE"
   },
   "source": [
    "Read the test index we saved before, so that we split the data into train and test set."
   ]
  },
  {
   "cell_type": "code",
   "execution_count": 4,
   "metadata": {
    "colab": {
     "base_uri": "https://localhost:8080/",
     "height": 139
    },
    "colab_type": "code",
    "id": "qFtHNlTNUb4V",
    "outputId": "db068cf2-4442-415d-bd4c-b710fe9a6eaf"
   },
   "outputs": [
    {
     "name": "stderr",
     "output_type": "stream",
     "text": [
      "/usr/local/lib/python3.6/dist-packages/ipykernel_launcher.py:5: SettingWithCopyWarning: \n",
      "A value is trying to be set on a copy of a slice from a DataFrame.\n",
      "Try using .loc[row_indexer,col_indexer] = value instead\n",
      "\n",
      "See the caveats in the documentation: http://pandas.pydata.org/pandas-docs/stable/user_guide/indexing.html#returning-a-view-versus-a-copy\n",
      "  \"\"\"\n"
     ]
    }
   ],
   "source": [
    "#start_time=time.time()\n",
    "review=pd.read_csv(path+'review.csv')\n",
    "del review['text_review']\n",
    "review['freq_business'] = review.groupby('business_id')['business_id'].transform('count')\n",
    "review2=review.loc[review['freq_business']>2]\n",
    "review2['freq_user'] = review2.groupby('user_id')['user_id'].transform('count')\n",
    "review3=review2.loc[review2['freq_user']>=5]\n",
    "review3=review3.reset_index()\n",
    "test_idx=pd.read_csv(path+'all_test_idx_df2.csv')\n",
    "test_idx=test_idx.rename({'0':'index'},axis=1)\n",
    "\n"
   ]
  },
  {
   "cell_type": "markdown",
   "metadata": {
    "colab_type": "text",
    "id": "k32OThtXXwv4"
   },
   "source": [
    "Using the test row index we saved before to get train and test set."
   ]
  },
  {
   "cell_type": "code",
   "execution_count": 0,
   "metadata": {
    "colab": {},
    "colab_type": "code",
    "collapsed": true,
    "id": "sxD5_c4iUcBK"
   },
   "outputs": [],
   "source": [
    "test=review3.loc[review3['index'].isin(test_idx['index'])]\n",
    "train=review3.loc[~review3['index'].isin(test_idx['index'])]"
   ]
  },
  {
   "cell_type": "code",
   "execution_count": 0,
   "metadata": {
    "colab": {
     "base_uri": "https://localhost:8080/",
     "height": 213
    },
    "colab_type": "code",
    "id": "bQQiECvWq9ju",
    "outputId": "c3f81e13-ce47-45c8-8174-e8d33141eab7"
   },
   "outputs": [
    {
     "data": {
      "text/html": [
       "<div>\n",
       "<style scoped>\n",
       "    .dataframe tbody tr th:only-of-type {\n",
       "        vertical-align: middle;\n",
       "    }\n",
       "\n",
       "    .dataframe tbody tr th {\n",
       "        vertical-align: top;\n",
       "    }\n",
       "\n",
       "    .dataframe thead th {\n",
       "        text-align: right;\n",
       "    }\n",
       "</style>\n",
       "<table border=\"1\" class=\"dataframe\">\n",
       "  <thead>\n",
       "    <tr style=\"text-align: right;\">\n",
       "      <th></th>\n",
       "      <th>index</th>\n",
       "      <th>user_id</th>\n",
       "      <th>business_id</th>\n",
       "      <th>rating_review</th>\n",
       "      <th>date_review</th>\n",
       "      <th>useful_review</th>\n",
       "      <th>funny_review</th>\n",
       "      <th>cool_review</th>\n",
       "      <th>freq_business</th>\n",
       "      <th>freq_user</th>\n",
       "    </tr>\n",
       "  </thead>\n",
       "  <tbody>\n",
       "    <tr>\n",
       "      <th>0</th>\n",
       "      <td>0</td>\n",
       "      <td>hG7b0MtEbXx5QzbzE6C_VA</td>\n",
       "      <td>ujmEBvifdJM6h6RLv4wQIg</td>\n",
       "      <td>1.0</td>\n",
       "      <td>2013-05-07 04:34:36</td>\n",
       "      <td>6.0</td>\n",
       "      <td>1.0</td>\n",
       "      <td>0.0</td>\n",
       "      <td>183</td>\n",
       "      <td>10</td>\n",
       "    </tr>\n",
       "    <tr>\n",
       "      <th>1</th>\n",
       "      <td>1</td>\n",
       "      <td>n6-Gk65cPZL6Uz8qRm3NYw</td>\n",
       "      <td>WTqjgwHlXbSFevF32_DJVw</td>\n",
       "      <td>5.0</td>\n",
       "      <td>2016-11-09 20:09:03</td>\n",
       "      <td>3.0</td>\n",
       "      <td>0.0</td>\n",
       "      <td>0.0</td>\n",
       "      <td>20</td>\n",
       "      <td>9</td>\n",
       "    </tr>\n",
       "    <tr>\n",
       "      <th>2</th>\n",
       "      <td>2</td>\n",
       "      <td>jlu4CztcSxrKx56ba1a5AQ</td>\n",
       "      <td>3fw2X5bZYeW9xCz_zGhOHg</td>\n",
       "      <td>3.0</td>\n",
       "      <td>2016-05-07 01:21:02</td>\n",
       "      <td>5.0</td>\n",
       "      <td>4.0</td>\n",
       "      <td>5.0</td>\n",
       "      <td>108</td>\n",
       "      <td>336</td>\n",
       "    </tr>\n",
       "  </tbody>\n",
       "</table>\n",
       "</div>"
      ],
      "text/plain": [
       "   index                 user_id  ... freq_business  freq_user\n",
       "0      0  hG7b0MtEbXx5QzbzE6C_VA  ...           183         10\n",
       "1      1  n6-Gk65cPZL6Uz8qRm3NYw  ...            20          9\n",
       "2      2  jlu4CztcSxrKx56ba1a5AQ  ...           108        336\n",
       "\n",
       "[3 rows x 10 columns]"
      ]
     },
     "execution_count": 32,
     "metadata": {
      "tags": []
     },
     "output_type": "execute_result"
    }
   ],
   "source": [
    "train.head(3)"
   ]
  },
  {
   "cell_type": "markdown",
   "metadata": {
    "colab_type": "text",
    "id": "itRs55d3X71N"
   },
   "source": [
    "Read the user and business dataset and join the table on the user_id and business_id."
   ]
  },
  {
   "cell_type": "code",
   "execution_count": 0,
   "metadata": {
    "colab": {},
    "colab_type": "code",
    "collapsed": true,
    "id": "gIoo-TI_UcJo"
   },
   "outputs": [],
   "source": [
    "user=pd.read_csv(path+'user2.csv')\n",
    "business=pd.read_csv(path+'business.csv')\n",
    "business=business.rename(columns={\"business_ids\": \"business_id\"})"
   ]
  },
  {
   "cell_type": "code",
   "execution_count": 0,
   "metadata": {
    "colab": {},
    "colab_type": "code",
    "collapsed": true,
    "id": "_3H2qGcRUcQ2"
   },
   "outputs": [],
   "source": [
    "train = pd.merge(train, user, on='user_id')\n",
    "test=pd.merge(test, user, on='user_id')"
   ]
  },
  {
   "cell_type": "code",
   "execution_count": 0,
   "metadata": {
    "colab": {},
    "colab_type": "code",
    "collapsed": true,
    "id": "E4wCfYH6UcYw"
   },
   "outputs": [],
   "source": [
    "train = pd.merge(train, business, on='business_id')\n",
    "test = pd.merge(test, business, on='business_id')"
   ]
  },
  {
   "cell_type": "code",
   "execution_count": 0,
   "metadata": {
    "colab": {
     "base_uri": "https://localhost:8080/",
     "height": 267
    },
    "colab_type": "code",
    "id": "Krrxmn0GVmYP",
    "outputId": "3d2dc9c5-8902-4739-e482-5c0bc70c50b6"
   },
   "outputs": [
    {
     "data": {
      "text/html": [
       "<div>\n",
       "<style scoped>\n",
       "    .dataframe tbody tr th:only-of-type {\n",
       "        vertical-align: middle;\n",
       "    }\n",
       "\n",
       "    .dataframe tbody tr th {\n",
       "        vertical-align: top;\n",
       "    }\n",
       "\n",
       "    .dataframe thead th {\n",
       "        text-align: right;\n",
       "    }\n",
       "</style>\n",
       "<table border=\"1\" class=\"dataframe\">\n",
       "  <thead>\n",
       "    <tr style=\"text-align: right;\">\n",
       "      <th></th>\n",
       "      <th>index</th>\n",
       "      <th>user_id</th>\n",
       "      <th>business_id</th>\n",
       "      <th>rating_review</th>\n",
       "      <th>date_review</th>\n",
       "      <th>useful_review</th>\n",
       "      <th>funny_review</th>\n",
       "      <th>cool_review</th>\n",
       "      <th>freq_business</th>\n",
       "      <th>freq_user</th>\n",
       "      <th>name_x</th>\n",
       "      <th>yelping_since</th>\n",
       "      <th>review_count_x</th>\n",
       "      <th>friends</th>\n",
       "      <th>useful</th>\n",
       "      <th>funny</th>\n",
       "      <th>cool</th>\n",
       "      <th>fans</th>\n",
       "      <th>elite</th>\n",
       "      <th>average_stars</th>\n",
       "      <th>compliment_more</th>\n",
       "      <th>compliment_cute</th>\n",
       "      <th>compliment_funny</th>\n",
       "      <th>num_friends</th>\n",
       "      <th>num_elite</th>\n",
       "      <th>name_y</th>\n",
       "      <th>address</th>\n",
       "      <th>city</th>\n",
       "      <th>state</th>\n",
       "      <th>postal_code</th>\n",
       "      <th>latitude</th>\n",
       "      <th>longtitude</th>\n",
       "      <th>stars</th>\n",
       "      <th>review_count_y</th>\n",
       "      <th>is_open</th>\n",
       "      <th>attributes</th>\n",
       "      <th>categories</th>\n",
       "      <th>hours</th>\n",
       "    </tr>\n",
       "  </thead>\n",
       "  <tbody>\n",
       "    <tr>\n",
       "      <th>0</th>\n",
       "      <td>0</td>\n",
       "      <td>hG7b0MtEbXx5QzbzE6C_VA</td>\n",
       "      <td>ujmEBvifdJM6h6RLv4wQIg</td>\n",
       "      <td>1.0</td>\n",
       "      <td>2013-05-07 04:34:36</td>\n",
       "      <td>6.0</td>\n",
       "      <td>1.0</td>\n",
       "      <td>0.0</td>\n",
       "      <td>183</td>\n",
       "      <td>10</td>\n",
       "      <td>Stefan</td>\n",
       "      <td>2008-07-10 17:24:47</td>\n",
       "      <td>10</td>\n",
       "      <td>frQs7y5qa-X1pvAM0sJe1w</td>\n",
       "      <td>18</td>\n",
       "      <td>4</td>\n",
       "      <td>0</td>\n",
       "      <td>0</td>\n",
       "      <td>NaN</td>\n",
       "      <td>2.0</td>\n",
       "      <td>0</td>\n",
       "      <td>0</td>\n",
       "      <td>0</td>\n",
       "      <td>1</td>\n",
       "      <td>1</td>\n",
       "      <td>MountainView Hospital</td>\n",
       "      <td>3100 N Tenaya Way</td>\n",
       "      <td>Las Vegas</td>\n",
       "      <td>NV</td>\n",
       "      <td>89128</td>\n",
       "      <td>36.215546</td>\n",
       "      <td>-115.248798</td>\n",
       "      <td>2.5</td>\n",
       "      <td>238</td>\n",
       "      <td>1</td>\n",
       "      <td>{'ByAppointmentOnly': 'False', 'GoodForKids': ...</td>\n",
       "      <td>Fitness &amp; Instruction, Doctors, Health &amp; Medic...</td>\n",
       "      <td>{'Monday': '0:0-0:0', 'Tuesday': '0:0-0:0', 'W...</td>\n",
       "    </tr>\n",
       "    <tr>\n",
       "      <th>1</th>\n",
       "      <td>186281</td>\n",
       "      <td>hG7b0MtEbXx5QzbzE6C_VA</td>\n",
       "      <td>ujmEBvifdJM6h6RLv4wQIg</td>\n",
       "      <td>1.0</td>\n",
       "      <td>2013-03-27 14:17:13</td>\n",
       "      <td>3.0</td>\n",
       "      <td>0.0</td>\n",
       "      <td>0.0</td>\n",
       "      <td>183</td>\n",
       "      <td>10</td>\n",
       "      <td>Stefan</td>\n",
       "      <td>2008-07-10 17:24:47</td>\n",
       "      <td>10</td>\n",
       "      <td>frQs7y5qa-X1pvAM0sJe1w</td>\n",
       "      <td>18</td>\n",
       "      <td>4</td>\n",
       "      <td>0</td>\n",
       "      <td>0</td>\n",
       "      <td>NaN</td>\n",
       "      <td>2.0</td>\n",
       "      <td>0</td>\n",
       "      <td>0</td>\n",
       "      <td>0</td>\n",
       "      <td>1</td>\n",
       "      <td>1</td>\n",
       "      <td>MountainView Hospital</td>\n",
       "      <td>3100 N Tenaya Way</td>\n",
       "      <td>Las Vegas</td>\n",
       "      <td>NV</td>\n",
       "      <td>89128</td>\n",
       "      <td>36.215546</td>\n",
       "      <td>-115.248798</td>\n",
       "      <td>2.5</td>\n",
       "      <td>238</td>\n",
       "      <td>1</td>\n",
       "      <td>{'ByAppointmentOnly': 'False', 'GoodForKids': ...</td>\n",
       "      <td>Fitness &amp; Instruction, Doctors, Health &amp; Medic...</td>\n",
       "      <td>{'Monday': '0:0-0:0', 'Tuesday': '0:0-0:0', 'W...</td>\n",
       "    </tr>\n",
       "  </tbody>\n",
       "</table>\n",
       "</div>"
      ],
      "text/plain": [
       "    index  ...                                              hours\n",
       "0       0  ...  {'Monday': '0:0-0:0', 'Tuesday': '0:0-0:0', 'W...\n",
       "1  186281  ...  {'Monday': '0:0-0:0', 'Tuesday': '0:0-0:0', 'W...\n",
       "\n",
       "[2 rows x 38 columns]"
      ]
     },
     "execution_count": 37,
     "metadata": {
      "tags": []
     },
     "output_type": "execute_result"
    }
   ],
   "source": [
    "train.head(2)"
   ]
  },
  {
   "cell_type": "markdown",
   "metadata": {
    "colab_type": "text",
    "id": "v4D_FM2GYFke"
   },
   "source": [
    "Select the features we want. "
   ]
  },
  {
   "cell_type": "code",
   "execution_count": 0,
   "metadata": {
    "colab": {},
    "colab_type": "code",
    "collapsed": true,
    "id": "YZR5l2CtU11N"
   },
   "outputs": [],
   "source": [
    "train1=train[['index','user_id','business_id','city','state',\"average_stars\",'useful_review','funny_review','cool_review','compliment_more','compliment_cute',\n",
    "'num_friends','stars','useful','funny','cool','fans','compliment_funny','categories',\"rating_review\"]]\n",
    "test1=test[['index','user_id','business_id','city','state',\"average_stars\",'useful_review','funny_review','cool_review','compliment_more','compliment_cute',\n",
    "'num_friends','stars','useful','funny','cool','fans','compliment_funny','categories',\"rating_review\"]]"
   ]
  },
  {
   "cell_type": "code",
   "execution_count": 0,
   "metadata": {
    "colab": {
     "base_uri": "https://localhost:8080/",
     "height": 165
    },
    "colab_type": "code",
    "id": "lmdaiinSU19E",
    "outputId": "bb1911e2-38a9-43ac-9847-e97eb22e4892"
   },
   "outputs": [
    {
     "data": {
      "text/html": [
       "<div>\n",
       "<style scoped>\n",
       "    .dataframe tbody tr th:only-of-type {\n",
       "        vertical-align: middle;\n",
       "    }\n",
       "\n",
       "    .dataframe tbody tr th {\n",
       "        vertical-align: top;\n",
       "    }\n",
       "\n",
       "    .dataframe thead th {\n",
       "        text-align: right;\n",
       "    }\n",
       "</style>\n",
       "<table border=\"1\" class=\"dataframe\">\n",
       "  <thead>\n",
       "    <tr style=\"text-align: right;\">\n",
       "      <th></th>\n",
       "      <th>index</th>\n",
       "      <th>user_id</th>\n",
       "      <th>business_id</th>\n",
       "      <th>city</th>\n",
       "      <th>state</th>\n",
       "      <th>average_stars</th>\n",
       "      <th>useful_review</th>\n",
       "      <th>funny_review</th>\n",
       "      <th>cool_review</th>\n",
       "      <th>compliment_more</th>\n",
       "      <th>compliment_cute</th>\n",
       "      <th>num_friends</th>\n",
       "      <th>stars</th>\n",
       "      <th>useful</th>\n",
       "      <th>funny</th>\n",
       "      <th>cool</th>\n",
       "      <th>fans</th>\n",
       "      <th>compliment_funny</th>\n",
       "      <th>rating_review</th>\n",
       "    </tr>\n",
       "  </thead>\n",
       "  <tbody>\n",
       "    <tr>\n",
       "      <th>0</th>\n",
       "      <td>0</td>\n",
       "      <td>hG7b0MtEbXx5QzbzE6C_VA</td>\n",
       "      <td>ujmEBvifdJM6h6RLv4wQIg</td>\n",
       "      <td>Las Vegas</td>\n",
       "      <td>NV</td>\n",
       "      <td>2.0</td>\n",
       "      <td>6.0</td>\n",
       "      <td>1.0</td>\n",
       "      <td>0.0</td>\n",
       "      <td>0</td>\n",
       "      <td>0</td>\n",
       "      <td>1</td>\n",
       "      <td>2.5</td>\n",
       "      <td>18</td>\n",
       "      <td>4</td>\n",
       "      <td>0</td>\n",
       "      <td>0</td>\n",
       "      <td>0</td>\n",
       "      <td>1.0</td>\n",
       "    </tr>\n",
       "    <tr>\n",
       "      <th>1</th>\n",
       "      <td>186281</td>\n",
       "      <td>hG7b0MtEbXx5QzbzE6C_VA</td>\n",
       "      <td>ujmEBvifdJM6h6RLv4wQIg</td>\n",
       "      <td>Las Vegas</td>\n",
       "      <td>NV</td>\n",
       "      <td>2.0</td>\n",
       "      <td>3.0</td>\n",
       "      <td>0.0</td>\n",
       "      <td>0.0</td>\n",
       "      <td>0</td>\n",
       "      <td>0</td>\n",
       "      <td>1</td>\n",
       "      <td>2.5</td>\n",
       "      <td>18</td>\n",
       "      <td>4</td>\n",
       "      <td>0</td>\n",
       "      <td>0</td>\n",
       "      <td>0</td>\n",
       "      <td>1.0</td>\n",
       "    </tr>\n",
       "  </tbody>\n",
       "</table>\n",
       "</div>"
      ],
      "text/plain": [
       "    index                 user_id  ... compliment_funny rating_review\n",
       "0       0  hG7b0MtEbXx5QzbzE6C_VA  ...                0           1.0\n",
       "1  186281  hG7b0MtEbXx5QzbzE6C_VA  ...                0           1.0\n",
       "\n",
       "[2 rows x 19 columns]"
      ]
     },
     "execution_count": 11,
     "metadata": {
      "tags": []
     },
     "output_type": "execute_result"
    }
   ],
   "source": [
    "train1.head(2)"
   ]
  },
  {
   "cell_type": "code",
   "execution_count": 0,
   "metadata": {
    "colab": {},
    "colab_type": "code",
    "collapsed": true,
    "id": "bj3iJ9cnXBB0"
   },
   "outputs": [],
   "source": [
    "# user_id_addresses = train1.user_id.unique()\n",
    "# user_id_dict = dict(zip(user_id_addresses, range(len(user_id_addresses))))\n",
    "# train1=train1.applymap(lambda s: user_id_dict.get(s) if s in user_id_dict else s)\n",
    "# test1=test1.applymap(lambda s: user_id_dict.get(s) if s in user_id_dict else s)"
   ]
  },
  {
   "cell_type": "code",
   "execution_count": 0,
   "metadata": {
    "colab": {},
    "colab_type": "code",
    "collapsed": true,
    "id": "HaPjdsZBWi3e"
   },
   "outputs": [],
   "source": [
    "# total_business_id=list(train1.business_id.unique())+list(test1.business_id.unique())"
   ]
  },
  {
   "cell_type": "code",
   "execution_count": 0,
   "metadata": {
    "colab": {},
    "colab_type": "code",
    "collapsed": true,
    "id": "JUj0p0y0Wy37"
   },
   "outputs": [],
   "source": [
    "# business_id_dict = dict(zip(total_business_id, range(len(total_business_id))))"
   ]
  },
  {
   "cell_type": "code",
   "execution_count": 0,
   "metadata": {
    "colab": {},
    "colab_type": "code",
    "collapsed": true,
    "id": "mcmBcP76VDPm"
   },
   "outputs": [],
   "source": [
    "\n",
    "# train1=train1.applymap(lambda s: business_id_dict.get(s) if s in business_id_dict else s)\n",
    "# test1=test1.applymap(lambda s: business_id_dict.get(s) if s in business_id_dict else s)"
   ]
  },
  {
   "cell_type": "code",
   "execution_count": 0,
   "metadata": {
    "colab": {
     "base_uri": "https://localhost:8080/",
     "height": 165
    },
    "colab_type": "code",
    "id": "9t89NnL1VDEh",
    "outputId": "96e0fa92-fe79-4514-ee8d-e7e2bdf8d158"
   },
   "outputs": [
    {
     "data": {
      "text/html": [
       "<div>\n",
       "<style scoped>\n",
       "    .dataframe tbody tr th:only-of-type {\n",
       "        vertical-align: middle;\n",
       "    }\n",
       "\n",
       "    .dataframe tbody tr th {\n",
       "        vertical-align: top;\n",
       "    }\n",
       "\n",
       "    .dataframe thead th {\n",
       "        text-align: right;\n",
       "    }\n",
       "</style>\n",
       "<table border=\"1\" class=\"dataframe\">\n",
       "  <thead>\n",
       "    <tr style=\"text-align: right;\">\n",
       "      <th></th>\n",
       "      <th>user_id</th>\n",
       "      <th>business_id</th>\n",
       "      <th>city</th>\n",
       "      <th>state</th>\n",
       "      <th>average_stars</th>\n",
       "      <th>useful_review</th>\n",
       "      <th>funny_review</th>\n",
       "      <th>cool_review</th>\n",
       "      <th>compliment_more</th>\n",
       "      <th>compliment_cute</th>\n",
       "      <th>num_friends</th>\n",
       "      <th>stars</th>\n",
       "      <th>useful</th>\n",
       "      <th>funny</th>\n",
       "      <th>cool</th>\n",
       "      <th>fans</th>\n",
       "      <th>compliment_funny</th>\n",
       "      <th>rating_review</th>\n",
       "    </tr>\n",
       "  </thead>\n",
       "  <tbody>\n",
       "    <tr>\n",
       "      <th>0</th>\n",
       "      <td>0</td>\n",
       "      <td>151026</td>\n",
       "      <td>Las Vegas</td>\n",
       "      <td>NV</td>\n",
       "      <td>2.0</td>\n",
       "      <td>6.0</td>\n",
       "      <td>1.0</td>\n",
       "      <td>0.0</td>\n",
       "      <td>0</td>\n",
       "      <td>0</td>\n",
       "      <td>1</td>\n",
       "      <td>2.5</td>\n",
       "      <td>18</td>\n",
       "      <td>4</td>\n",
       "      <td>0</td>\n",
       "      <td>0</td>\n",
       "      <td>0</td>\n",
       "      <td>1.0</td>\n",
       "    </tr>\n",
       "    <tr>\n",
       "      <th>1</th>\n",
       "      <td>0</td>\n",
       "      <td>151026</td>\n",
       "      <td>Las Vegas</td>\n",
       "      <td>NV</td>\n",
       "      <td>2.0</td>\n",
       "      <td>3.0</td>\n",
       "      <td>0.0</td>\n",
       "      <td>0.0</td>\n",
       "      <td>0</td>\n",
       "      <td>0</td>\n",
       "      <td>1</td>\n",
       "      <td>2.5</td>\n",
       "      <td>18</td>\n",
       "      <td>4</td>\n",
       "      <td>0</td>\n",
       "      <td>0</td>\n",
       "      <td>0</td>\n",
       "      <td>1.0</td>\n",
       "    </tr>\n",
       "  </tbody>\n",
       "</table>\n",
       "</div>"
      ],
      "text/plain": [
       "   user_id  business_id       city  ... fans  compliment_funny  rating_review\n",
       "0        0       151026  Las Vegas  ...    0                 0            1.0\n",
       "1        0       151026  Las Vegas  ...    0                 0            1.0\n",
       "\n",
       "[2 rows x 18 columns]"
      ]
     },
     "execution_count": 26,
     "metadata": {
      "tags": []
     },
     "output_type": "execute_result"
    }
   ],
   "source": [
    "# train1.head(2)"
   ]
  },
  {
   "cell_type": "code",
   "execution_count": 0,
   "metadata": {
    "colab": {},
    "colab_type": "code",
    "collapsed": true,
    "id": "CHwK5EjDjTa8"
   },
   "outputs": [],
   "source": [
    "del train1['index']\n",
    "del test1['index']"
   ]
  },
  {
   "cell_type": "markdown",
   "metadata": {
    "colab_type": "text",
    "id": "c5_5UFI6YVac"
   },
   "source": [
    "Check if there are missing values."
   ]
  },
  {
   "cell_type": "code",
   "execution_count": 10,
   "metadata": {
    "colab": {
     "base_uri": "https://localhost:8080/",
     "height": 374
    },
    "colab_type": "code",
    "id": "o3BL3Qb1s1YS",
    "outputId": "9d3faef1-15db-44b8-ae1b-c65060c525a3"
   },
   "outputs": [
    {
     "data": {
      "text/plain": [
       "index                 0\n",
       "user_id               0\n",
       "business_id           0\n",
       "city                  0\n",
       "state                 0\n",
       "average_stars         0\n",
       "useful_review         2\n",
       "funny_review          2\n",
       "cool_review           2\n",
       "compliment_more       0\n",
       "compliment_cute       0\n",
       "num_friends           0\n",
       "stars                 0\n",
       "useful                0\n",
       "funny                 0\n",
       "cool                  0\n",
       "fans                  0\n",
       "compliment_funny      0\n",
       "categories          554\n",
       "rating_review         0\n",
       "dtype: int64"
      ]
     },
     "execution_count": 10,
     "metadata": {
      "tags": []
     },
     "output_type": "execute_result"
    }
   ],
   "source": [
    "train1.isnull().sum()"
   ]
  },
  {
   "cell_type": "markdown",
   "metadata": {
    "colab_type": "text",
    "id": "C2zJ9JEFYa9-"
   },
   "source": [
    "Since there are not many missing values, we fill them with zero, and we fill the missing value in the 'categories' column as 'No category'"
   ]
  },
  {
   "cell_type": "code",
   "execution_count": 11,
   "metadata": {
    "colab": {
     "base_uri": "https://localhost:8080/",
     "height": 343
    },
    "colab_type": "code",
    "id": "3YjygprqstDT",
    "outputId": "e88d8c01-97a6-4a3c-eccd-17b9dd5e38a6"
   },
   "outputs": [
    {
     "name": "stderr",
     "output_type": "stream",
     "text": [
      "/usr/local/lib/python3.6/dist-packages/ipykernel_launcher.py:1: SettingWithCopyWarning: \n",
      "A value is trying to be set on a copy of a slice from a DataFrame.\n",
      "Try using .loc[row_indexer,col_indexer] = value instead\n",
      "\n",
      "See the caveats in the documentation: http://pandas.pydata.org/pandas-docs/stable/user_guide/indexing.html#returning-a-view-versus-a-copy\n",
      "  \"\"\"Entry point for launching an IPython kernel.\n",
      "/usr/local/lib/python3.6/dist-packages/ipykernel_launcher.py:2: SettingWithCopyWarning: \n",
      "A value is trying to be set on a copy of a slice from a DataFrame.\n",
      "Try using .loc[row_indexer,col_indexer] = value instead\n",
      "\n",
      "See the caveats in the documentation: http://pandas.pydata.org/pandas-docs/stable/user_guide/indexing.html#returning-a-view-versus-a-copy\n",
      "  \n",
      "/usr/local/lib/python3.6/dist-packages/ipykernel_launcher.py:3: SettingWithCopyWarning: \n",
      "A value is trying to be set on a copy of a slice from a DataFrame.\n",
      "Try using .loc[row_indexer,col_indexer] = value instead\n",
      "\n",
      "See the caveats in the documentation: http://pandas.pydata.org/pandas-docs/stable/user_guide/indexing.html#returning-a-view-versus-a-copy\n",
      "  This is separate from the ipykernel package so we can avoid doing imports until\n"
     ]
    }
   ],
   "source": [
    "train1['useful_review']=train1['useful_review'].fillna(float(0))\n",
    "train1['funny_review']=train1['funny_review'].fillna(float(0))\n",
    "train1['cool_review']=train1['cool_review'].fillna(float(0))\n",
    "train1 = train1.fillna('No_category')"
   ]
  },
  {
   "cell_type": "code",
   "execution_count": 12,
   "metadata": {
    "colab": {
     "base_uri": "https://localhost:8080/",
     "height": 374
    },
    "colab_type": "code",
    "id": "ZFfJznjmdW0K",
    "outputId": "d78d127f-846b-48f1-d7ca-bac4c7d39b6e"
   },
   "outputs": [
    {
     "data": {
      "text/plain": [
       "index               0\n",
       "user_id             0\n",
       "business_id         0\n",
       "city                0\n",
       "state               0\n",
       "average_stars       0\n",
       "useful_review       0\n",
       "funny_review        0\n",
       "cool_review         0\n",
       "compliment_more     0\n",
       "compliment_cute     0\n",
       "num_friends         0\n",
       "stars               0\n",
       "useful              0\n",
       "funny               0\n",
       "cool                0\n",
       "fans                0\n",
       "compliment_funny    0\n",
       "categories          0\n",
       "rating_review       0\n",
       "dtype: int64"
      ]
     },
     "execution_count": 12,
     "metadata": {
      "tags": []
     },
     "output_type": "execute_result"
    }
   ],
   "source": [
    "train1.isnull().sum()"
   ]
  },
  {
   "cell_type": "markdown",
   "metadata": {
    "colab_type": "text",
    "id": "uDSMtQNOdgTX"
   },
   "source": [
    "Done filling missing value for train set."
   ]
  },
  {
   "cell_type": "markdown",
   "metadata": {
    "colab_type": "text",
    "id": "_Yn7vV9Wdblb"
   },
   "source": [
    "Check missing value for test set."
   ]
  },
  {
   "cell_type": "code",
   "execution_count": 13,
   "metadata": {
    "colab": {
     "base_uri": "https://localhost:8080/",
     "height": 374
    },
    "colab_type": "code",
    "id": "6wksjW6ldYro",
    "outputId": "a02895ec-2378-4d87-88b6-123c73374949"
   },
   "outputs": [
    {
     "data": {
      "text/plain": [
       "index                 0\n",
       "user_id               0\n",
       "business_id           0\n",
       "city                  0\n",
       "state                 0\n",
       "average_stars         0\n",
       "useful_review         0\n",
       "funny_review          0\n",
       "cool_review           0\n",
       "compliment_more       0\n",
       "compliment_cute       0\n",
       "num_friends           0\n",
       "stars                 0\n",
       "useful                0\n",
       "funny                 0\n",
       "cool                  0\n",
       "fans                  0\n",
       "compliment_funny      0\n",
       "categories          168\n",
       "rating_review         0\n",
       "dtype: int64"
      ]
     },
     "execution_count": 13,
     "metadata": {
      "tags": []
     },
     "output_type": "execute_result"
    }
   ],
   "source": [
    "test1.isnull().sum()"
   ]
  },
  {
   "cell_type": "code",
   "execution_count": 0,
   "metadata": {
    "colab": {},
    "colab_type": "code",
    "collapsed": true,
    "id": "hyUEz_PztRuw"
   },
   "outputs": [],
   "source": [
    "test1 = test1.fillna('No_category')"
   ]
  },
  {
   "cell_type": "code",
   "execution_count": 15,
   "metadata": {
    "colab": {
     "base_uri": "https://localhost:8080/",
     "height": 374
    },
    "colab_type": "code",
    "id": "LtBNYJ83emm0",
    "outputId": "bf06f625-bd0a-444c-aaa3-b930ca5b6c9b"
   },
   "outputs": [
    {
     "data": {
      "text/plain": [
       "index               0\n",
       "user_id             0\n",
       "business_id         0\n",
       "city                0\n",
       "state               0\n",
       "average_stars       0\n",
       "useful_review       0\n",
       "funny_review        0\n",
       "cool_review         0\n",
       "compliment_more     0\n",
       "compliment_cute     0\n",
       "num_friends         0\n",
       "stars               0\n",
       "useful              0\n",
       "funny               0\n",
       "cool                0\n",
       "fans                0\n",
       "compliment_funny    0\n",
       "categories          0\n",
       "rating_review       0\n",
       "dtype: int64"
      ]
     },
     "execution_count": 15,
     "metadata": {
      "tags": []
     },
     "output_type": "execute_result"
    }
   ],
   "source": [
    "test1.isnull().sum()"
   ]
  },
  {
   "cell_type": "markdown",
   "metadata": {
    "colab_type": "text",
    "id": "ycquV_04eqog"
   },
   "source": [
    "Done filling missing value for test set.\n",
    "\n"
   ]
  },
  {
   "cell_type": "code",
   "execution_count": 0,
   "metadata": {
    "colab": {},
    "colab_type": "code",
    "collapsed": true,
    "id": "aPjoGT1wkUJp"
   },
   "outputs": [],
   "source": [
    "train1.to_csv(path+'new_train.csv',index=False)\n",
    "test1.to_csv(path+'new_test.csv',index=False)"
   ]
  },
  {
   "cell_type": "code",
   "execution_count": 0,
   "metadata": {
    "colab": {},
    "colab_type": "code",
    "collapsed": true,
    "id": "SASR5cNK7Xpf"
   },
   "outputs": [],
   "source": []
  },
  {
   "cell_type": "code",
   "execution_count": 0,
   "metadata": {
    "colab": {},
    "colab_type": "code",
    "collapsed": true,
    "id": "fpdRrwFDqqbK"
   },
   "outputs": [],
   "source": []
  },
  {
   "cell_type": "markdown",
   "metadata": {
    "colab_type": "text",
    "id": "etifqqlSqsmU"
   },
   "source": [
    "### Prepare segmented test set in user and business dimension"
   ]
  },
  {
   "cell_type": "markdown",
   "metadata": {
    "colab_type": "text",
    "id": "z1DT4L71dsQY"
   },
   "source": [
    "Same data preparation logic applies here, we read the segmented userId and businessID we prepared before to segment the test set into three parts. \n",
    "For user, we have:\n",
    "1. Unpopular user test set\n",
    "2. Midpopular user test set\n",
    "3. Popular user test set\n",
    "\n",
    "For business, we have:\n",
    "1. Unpopular business test set\n",
    "2. Midpopular business test set\n",
    "3. Popular business test set\n"
   ]
  },
  {
   "cell_type": "code",
   "execution_count": 5,
   "metadata": {
    "colab": {
     "base_uri": "https://localhost:8080/",
     "height": 139
    },
    "colab_type": "code",
    "id": "A4lzgSsihODo",
    "outputId": "40afa59b-c140-4636-d277-8388aee38540"
   },
   "outputs": [
    {
     "name": "stderr",
     "output_type": "stream",
     "text": [
      "/usr/local/lib/python3.6/dist-packages/ipykernel_launcher.py:5: SettingWithCopyWarning: \n",
      "A value is trying to be set on a copy of a slice from a DataFrame.\n",
      "Try using .loc[row_indexer,col_indexer] = value instead\n",
      "\n",
      "See the caveats in the documentation: http://pandas.pydata.org/pandas-docs/stable/user_guide/indexing.html#returning-a-view-versus-a-copy\n",
      "  \"\"\"\n"
     ]
    }
   ],
   "source": [
    "review=pd.read_csv(path+'review.csv')\n",
    "del review['text_review']\n",
    "review['freq_business'] = review.groupby('business_id')['business_id'].transform('count')\n",
    "review2=review.loc[review['freq_business']>2]\n",
    "review2['freq_user'] = review2.groupby('user_id')['user_id'].transform('count')\n",
    "review3=review2.loc[review2['freq_user']>=5]\n",
    "review3=review3.reset_index()\n",
    "test_idx=pd.read_csv(path+'all_test_idx_df2.csv')\n",
    "test_idx=test_idx.rename({'0':'index'},axis=1)\n",
    "test=review3.loc[review3['index'].isin(test_idx['index'])]\n"
   ]
  },
  {
   "cell_type": "code",
   "execution_count": 0,
   "metadata": {
    "colab": {},
    "colab_type": "code",
    "collapsed": true,
    "id": "zOIRbIDDrBG5"
   },
   "outputs": [],
   "source": [
    "path1=\"/content/drive/My Drive/yelp_segmented_data/\""
   ]
  },
  {
   "cell_type": "code",
   "execution_count": 0,
   "metadata": {
    "colab": {},
    "colab_type": "code",
    "collapsed": true,
    "id": "Y-_4IKcRhOOL"
   },
   "outputs": [],
   "source": [
    "unpopular_userid=pd.read_csv(path1+'unpopular_user_ID.csv')\n",
    "midpopular_userid=pd.read_csv(path1+'midpopular_user_ID.csv')\n",
    "popular_userid=pd.read_csv(path1+'popular_user_ID.csv')"
   ]
  },
  {
   "cell_type": "code",
   "execution_count": 0,
   "metadata": {
    "colab": {},
    "colab_type": "code",
    "collapsed": true,
    "id": "uPTA8ruBiIqO"
   },
   "outputs": [],
   "source": [
    "unpopular_user=test.loc[test['user_id'].isin(unpopular_userid['userId'])]\n",
    "midpopular_user=test.loc[test['user_id'].isin(midpopular_userid['userId'])]\n",
    "popular_user=test.loc[test['user_id'].isin(popular_userid['userId'])]"
   ]
  },
  {
   "cell_type": "code",
   "execution_count": 0,
   "metadata": {
    "colab": {},
    "colab_type": "code",
    "collapsed": true,
    "id": "nAl38idRyqRL"
   },
   "outputs": [],
   "source": [
    "user=pd.read_csv(path+'user2.csv')\n",
    "business=pd.read_csv(path+'business.csv')\n",
    "business=business.rename(columns={\"business_ids\": \"business_id\"})"
   ]
  },
  {
   "cell_type": "code",
   "execution_count": 0,
   "metadata": {
    "colab": {},
    "colab_type": "code",
    "collapsed": true,
    "id": "wSDGVEF6qrQu"
   },
   "outputs": [],
   "source": [
    "unpopular_user=pd.merge(unpopular_user, user, on='user_id')\n",
    "midpopular_user=pd.merge(midpopular_user, user, on='user_id')\n",
    "popular_user=pd.merge(popular_user, user, on='user_id')"
   ]
  },
  {
   "cell_type": "code",
   "execution_count": 0,
   "metadata": {
    "colab": {},
    "colab_type": "code",
    "collapsed": true,
    "id": "tZmZ_7w2qrQw"
   },
   "outputs": [],
   "source": [
    "unpopular_user = pd.merge(unpopular_user, business, on='business_id')\n",
    "midpopular_user = pd.merge(midpopular_user, business, on='business_id')\n",
    "popular_user = pd.merge(popular_user, business, on='business_id')"
   ]
  },
  {
   "cell_type": "code",
   "execution_count": 0,
   "metadata": {
    "colab": {},
    "colab_type": "code",
    "collapsed": true,
    "id": "NTtrFwHnqrQz"
   },
   "outputs": [],
   "source": [
    "unpopular_user=unpopular_user[['index','user_id','business_id','city','state',\"average_stars\",'useful_review','funny_review','cool_review','compliment_more','compliment_cute',\n",
    "'num_friends','stars','useful','funny','cool','fans','compliment_funny','categories',\"rating_review\"]]\n",
    "midpopular_user=midpopular_user[['index','user_id','business_id','city','state',\"average_stars\",'useful_review','funny_review','cool_review','compliment_more','compliment_cute',\n",
    "'num_friends','stars','useful','funny','cool','fans','compliment_funny','categories',\"rating_review\"]]\n",
    "popular_user=popular_user[['index','user_id','business_id','city','state',\"average_stars\",'useful_review','funny_review','cool_review','compliment_more','compliment_cute',\n",
    "'num_friends','stars','useful','funny','cool','fans','compliment_funny','categories',\"rating_review\"]]"
   ]
  },
  {
   "cell_type": "code",
   "execution_count": 0,
   "metadata": {
    "colab": {},
    "colab_type": "code",
    "collapsed": true,
    "id": "tV2wTWh1tLqV"
   },
   "outputs": [],
   "source": [
    "unpopular_user['useful_review']=unpopular_user['useful_review'].fillna(float(0))\n",
    "unpopular_user['funny_review']=unpopular_user['funny_review'].fillna(float(0))\n",
    "unpopular_user['cool_review']=unpopular_user['cool_review'].fillna(float(0))\n",
    "unpopular_user = unpopular_user.fillna('No_category')\n",
    "\n",
    "midpopular_user['useful_review']=midpopular_user['useful_review'].fillna(float(0))\n",
    "midpopular_user['funny_review']=midpopular_user['funny_review'].fillna(float(0))\n",
    "midpopular_user['cool_review']=midpopular_user['cool_review'].fillna(float(0))\n",
    "midpopular_user = midpopular_user.fillna('No_category')\n",
    "\n",
    "popular_user['useful_review']=popular_user['useful_review'].fillna(float(0))\n",
    "popular_user['funny_review']=popular_user['funny_review'].fillna(float(0))\n",
    "popular_user['cool_review']=popular_user['cool_review'].fillna(float(0))\n",
    "popular_user = popular_user.fillna('No_category')\n"
   ]
  },
  {
   "cell_type": "code",
   "execution_count": 0,
   "metadata": {
    "colab": {},
    "colab_type": "code",
    "collapsed": true,
    "id": "11EnXQ1jjVTh"
   },
   "outputs": [],
   "source": [
    "unpopular_user.to_csv(path+'unpopular_user.csv',index=False)\n",
    "midpopular_user.to_csv(path+'midpopular_user.csv',index=False)\n",
    "popular_user.to_csv(path+'popular_user.csv',index=False)"
   ]
  },
  {
   "cell_type": "code",
   "execution_count": 0,
   "metadata": {
    "colab": {},
    "colab_type": "code",
    "collapsed": true,
    "id": "simWkrDAqrQ8"
   },
   "outputs": [],
   "source": []
  },
  {
   "cell_type": "code",
   "execution_count": 0,
   "metadata": {
    "colab": {},
    "colab_type": "code",
    "collapsed": true,
    "id": "vdCoCo8yk2dS"
   },
   "outputs": [],
   "source": []
  },
  {
   "cell_type": "code",
   "execution_count": 0,
   "metadata": {
    "colab": {},
    "colab_type": "code",
    "collapsed": true,
    "id": "DC7eVK1hk7ZV"
   },
   "outputs": [],
   "source": [
    "unpopular_businessid=pd.read_csv(path1+'unpopular_business_ID.csv')\n",
    "midpopular_businessid=pd.read_csv(path1+'midpopular_business_ID.csv')\n",
    "popular_businessid=pd.read_csv(path1+'popular_business_ID.csv')"
   ]
  },
  {
   "cell_type": "code",
   "execution_count": 0,
   "metadata": {
    "colab": {},
    "colab_type": "code",
    "collapsed": true,
    "id": "jA8P5Uirk7ZY"
   },
   "outputs": [],
   "source": [
    "unpopular_business=test.loc[test['business_id'].isin(unpopular_businessid['businessId'])]\n",
    "midpopular_business=test.loc[test['business_id'].isin(midpopular_businessid['businessId'])]\n",
    "popular_business=test.loc[test['business_id'].isin(popular_businessid['businessId'])]"
   ]
  },
  {
   "cell_type": "code",
   "execution_count": 0,
   "metadata": {
    "colab": {},
    "colab_type": "code",
    "collapsed": true,
    "id": "h_SR515Vk6n0"
   },
   "outputs": [],
   "source": [
    "unpopular_business=pd.merge(unpopular_business, user, on='user_id')\n",
    "midpopular_business=pd.merge(midpopular_business, user, on='user_id')\n",
    "popular_business=pd.merge(popular_business, user, on='user_id')"
   ]
  },
  {
   "cell_type": "code",
   "execution_count": 0,
   "metadata": {
    "colab": {},
    "colab_type": "code",
    "collapsed": true,
    "id": "e6F_lkC2k6zQ"
   },
   "outputs": [],
   "source": [
    "unpopular_business = pd.merge(unpopular_business, business, on='business_id')\n",
    "midpopular_business = pd.merge(midpopular_business, business, on='business_id')\n",
    "popular_business= pd.merge(popular_business, business, on='business_id')"
   ]
  },
  {
   "cell_type": "code",
   "execution_count": 0,
   "metadata": {
    "colab": {},
    "colab_type": "code",
    "collapsed": true,
    "id": "V177g_V3lX6i"
   },
   "outputs": [],
   "source": [
    "unpopular_business=unpopular_business[['index','user_id','business_id','city','state',\"average_stars\",'useful_review','funny_review','cool_review','compliment_more','compliment_cute',\n",
    "'num_friends','stars','useful','funny','cool','fans','compliment_funny','categories',\"rating_review\"]]\n",
    "midpopular_business=midpopular_business[['index','user_id','business_id','city','state',\"average_stars\",'useful_review','funny_review','cool_review','compliment_more','compliment_cute',\n",
    "'num_friends','stars','useful','funny','cool','fans','compliment_funny','categories',\"rating_review\"]]\n",
    "popular_business=popular_business[['index','user_id','business_id','city','state',\"average_stars\",'useful_review','funny_review','cool_review','compliment_more','compliment_cute',\n",
    "'num_friends','stars','useful','funny','cool','fans','compliment_funny','categories',\"rating_review\"]]"
   ]
  },
  {
   "cell_type": "code",
   "execution_count": 0,
   "metadata": {
    "colab": {},
    "colab_type": "code",
    "collapsed": true,
    "id": "T_ch9cNFlX6t"
   },
   "outputs": [],
   "source": [
    "unpopular_business['useful_review']=unpopular_business['useful_review'].fillna(float(0))\n",
    "unpopular_business['funny_review']=unpopular_business['funny_review'].fillna(float(0))\n",
    "unpopular_business['cool_review']=unpopular_business['cool_review'].fillna(float(0))\n",
    "unpopular_business = unpopular_business.fillna('No_category')\n",
    "\n",
    "midpopular_business['useful_review']=midpopular_business['useful_review'].fillna(float(0))\n",
    "midpopular_business['funny_review']=midpopular_business['funny_review'].fillna(float(0))\n",
    "midpopular_business['cool_review']=midpopular_business['cool_review'].fillna(float(0))\n",
    "midpopular_business = midpopular_business.fillna('No_category')\n",
    "\n",
    "popular_business['useful_review']=popular_business['useful_review'].fillna(float(0))\n",
    "popular_business['funny_review']=popular_business['funny_review'].fillna(float(0))\n",
    "popular_business['cool_review']=popular_business['cool_review'].fillna(float(0))\n",
    "popular_business = popular_business.fillna('No_category')\n"
   ]
  },
  {
   "cell_type": "code",
   "execution_count": 0,
   "metadata": {
    "colab": {},
    "colab_type": "code",
    "collapsed": true,
    "id": "St2yBnhEqql2"
   },
   "outputs": [],
   "source": [
    "unpopular_business.to_csv(path+'unpopular_business.csv',index=False)\n",
    "midpopular_business.to_csv(path+'midpopular_business.csv',index=False)\n",
    "popular_business.to_csv(path+'popular_business.csv',index=False)"
   ]
  },
  {
   "cell_type": "code",
   "execution_count": 0,
   "metadata": {
    "colab": {},
    "colab_type": "code",
    "collapsed": true,
    "id": "QDdkyXFYqqsz"
   },
   "outputs": [],
   "source": []
  },
  {
   "cell_type": "code",
   "execution_count": 0,
   "metadata": {
    "colab": {},
    "colab_type": "code",
    "collapsed": true,
    "id": "gUHkDETPqqji"
   },
   "outputs": [],
   "source": []
  },
  {
   "cell_type": "code",
   "execution_count": 0,
   "metadata": {
    "colab": {},
    "colab_type": "code",
    "collapsed": true,
    "id": "H7NAo2087YMK"
   },
   "outputs": [],
   "source": []
  },
  {
   "cell_type": "code",
   "execution_count": 0,
   "metadata": {
    "colab": {},
    "colab_type": "code",
    "collapsed": true,
    "id": "FzZfwhaR7ci9"
   },
   "outputs": [],
   "source": []
  },
  {
   "cell_type": "code",
   "execution_count": 0,
   "metadata": {
    "colab": {},
    "colab_type": "code",
    "collapsed": true,
    "id": "7vHV5WNN7dBK"
   },
   "outputs": [],
   "source": []
  }
 ],
 "metadata": {
  "colab": {
   "collapsed_sections": [],
   "name": "W&D Dataset preparation_larger.ipynb",
   "provenance": []
  },
  "kernelspec": {
   "display_name": "Python 3",
   "name": "python3"
  }
 },
 "nbformat": 4,
 "nbformat_minor": 1
}
