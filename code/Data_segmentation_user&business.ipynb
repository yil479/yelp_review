{
 "cells": [
  {
   "cell_type": "code",
   "execution_count": 0,
   "metadata": {
    "colab": {},
    "colab_type": "code",
    "collapsed": true,
    "id": "OXYzIlXmdVTz"
   },
   "outputs": [],
   "source": [
    "import pandas as pd\n",
    "import numpy as np\n",
    "import random\n",
    "import matplotlib.pyplot as plt\n",
    "import time\n",
    "import sklearn\n",
    "from sklearn.model_selection import train_test_split\n",
    "from random import shuffle\n",
    "import seaborn as sns  "
   ]
  },
  {
   "cell_type": "code",
   "execution_count": 0,
   "metadata": {
    "colab": {},
    "colab_type": "code",
    "collapsed": true,
    "id": "XuqO9qIOZ27N"
   },
   "outputs": [],
   "source": [
    "import matplotlib.pyplot as plt"
   ]
  },
  {
   "cell_type": "code",
   "execution_count": 14,
   "metadata": {
    "colab": {
     "base_uri": "https://localhost:8080/",
     "height": 34
    },
    "colab_type": "code",
    "id": "hFy5KH6Wdbno",
    "outputId": "65181eac-35c3-41f9-f0a9-1468f895734c"
   },
   "outputs": [
    {
     "name": "stdout",
     "output_type": "stream",
     "text": [
      "Mounted at /content/drive\n"
     ]
    }
   ],
   "source": [
    "from google.colab import drive\n",
    "drive.mount('/content/drive',force_remount=True)\n"
   ]
  },
  {
   "cell_type": "code",
   "execution_count": 0,
   "metadata": {
    "colab": {
     "base_uri": "https://localhost:8080/",
     "height": 34
    },
    "colab_type": "code",
    "id": "J_lOl4_2G4xT",
    "outputId": "e5426f5b-3741-49ea-d1a8-02836bf7ab54"
   },
   "outputs": [
    {
     "name": "stdout",
     "output_type": "stream",
     "text": [
      "ls: cannot access './drive/MyDrive': No such file or directory\n"
     ]
    }
   ],
   "source": [
    "!ls ./drive/My Drive"
   ]
  },
  {
   "cell_type": "code",
   "execution_count": 0,
   "metadata": {
    "colab": {},
    "colab_type": "code",
    "collapsed": true,
    "id": "noI0QtJHdlUs"
   },
   "outputs": [],
   "source": [
    "path=\"/content/drive/My Drive/yelp_final_data/\""
   ]
  },
  {
   "cell_type": "markdown",
   "metadata": {
    "colab_type": "text",
    "id": "4VW8zGv5F4LI"
   },
   "source": [
    "### In this notebook, we segment test set in user and business dimension."
   ]
  },
  {
   "cell_type": "markdown",
   "metadata": {
    "colab_type": "text",
    "id": "IBif3kp7GeZE"
   },
   "source": [
    " We separate user and business in three levels: unpopular, midpopuar and popular. The defination of whether a user/business is popular is defined by the frequency of a user/business. The frequency of a user means the number of ratings a users rated before. The frequency of a business means the number of times a business has been rated before. (Note: when we say a 'popular' user, it means a 'prolific' user, we use the term 'popular' for the succinctness of representing these three levels.)"
   ]
  },
  {
   "cell_type": "markdown",
   "metadata": {
    "colab_type": "text",
    "id": "xiIbk3xXejNy"
   },
   "source": [
    "First, read the dataset we prepared before. "
   ]
  },
  {
   "cell_type": "markdown",
   "metadata": {
    "colab_type": "text",
    "id": "oOcnl86RekSE"
   },
   "source": [
    "Read the test index we prepared before."
   ]
  },
  {
   "cell_type": "code",
   "execution_count": 0,
   "metadata": {
    "colab": {
     "base_uri": "https://localhost:8080/",
     "height": 139
    },
    "colab_type": "code",
    "id": "KpkIwY4KKXSv",
    "outputId": "db068cf2-4442-415d-bd4c-b710fe9a6eaf"
   },
   "outputs": [
    {
     "name": "stderr",
     "output_type": "stream",
     "text": [
      "/usr/local/lib/python3.6/dist-packages/ipykernel_launcher.py:5: SettingWithCopyWarning: \n",
      "A value is trying to be set on a copy of a slice from a DataFrame.\n",
      "Try using .loc[row_indexer,col_indexer] = value instead\n",
      "\n",
      "See the caveats in the documentation: http://pandas.pydata.org/pandas-docs/stable/user_guide/indexing.html#returning-a-view-versus-a-copy\n",
      "  \"\"\"\n"
     ]
    }
   ],
   "source": [
    "#start_time=time.time()\n",
    "review=pd.read_csv(path+'review.csv')\n",
    "del review['text_review']\n",
    "review['freq_business'] = review.groupby('business_id')['business_id'].transform('count')\n",
    "review2=review.loc[review['freq_business']>2]\n",
    "review2['freq_user'] = review2.groupby('user_id')['user_id'].transform('count')\n",
    "review3=review2.loc[review2['freq_user']>=5]\n",
    "review3=review3.reset_index()\n",
    "test_idx=pd.read_csv(path+'all_test_idx_df2.csv')\n",
    "test_idx=test_idx.rename({'0':'index'},axis=1)\n",
    "\n"
   ]
  },
  {
   "cell_type": "markdown",
   "metadata": {
    "colab_type": "text",
    "id": "k32OThtXXwv4"
   },
   "source": [
    "Using the test row index we saved before to get train and test set."
   ]
  },
  {
   "cell_type": "code",
   "execution_count": 0,
   "metadata": {
    "colab": {},
    "colab_type": "code",
    "collapsed": true,
    "id": "sxD5_c4iUcBK"
   },
   "outputs": [],
   "source": [
    "test=review3.loc[review3['index'].isin(test_idx['index'])]\n",
    "train=review3.loc[~review3['index'].isin(test_idx['index'])]"
   ]
  },
  {
   "cell_type": "code",
   "execution_count": 0,
   "metadata": {
    "colab": {
     "base_uri": "https://localhost:8080/",
     "height": 213
    },
    "colab_type": "code",
    "id": "bQQiECvWq9ju",
    "outputId": "aced2d2b-4176-4a97-f658-3c1cc5665311"
   },
   "outputs": [
    {
     "data": {
      "text/html": [
       "<div>\n",
       "<style scoped>\n",
       "    .dataframe tbody tr th:only-of-type {\n",
       "        vertical-align: middle;\n",
       "    }\n",
       "\n",
       "    .dataframe tbody tr th {\n",
       "        vertical-align: top;\n",
       "    }\n",
       "\n",
       "    .dataframe thead th {\n",
       "        text-align: right;\n",
       "    }\n",
       "</style>\n",
       "<table border=\"1\" class=\"dataframe\">\n",
       "  <thead>\n",
       "    <tr style=\"text-align: right;\">\n",
       "      <th></th>\n",
       "      <th>index</th>\n",
       "      <th>user_id</th>\n",
       "      <th>business_id</th>\n",
       "      <th>rating_review</th>\n",
       "      <th>date_review</th>\n",
       "      <th>useful_review</th>\n",
       "      <th>funny_review</th>\n",
       "      <th>cool_review</th>\n",
       "      <th>freq_business</th>\n",
       "      <th>freq_user</th>\n",
       "    </tr>\n",
       "  </thead>\n",
       "  <tbody>\n",
       "    <tr>\n",
       "      <th>0</th>\n",
       "      <td>0</td>\n",
       "      <td>hG7b0MtEbXx5QzbzE6C_VA</td>\n",
       "      <td>ujmEBvifdJM6h6RLv4wQIg</td>\n",
       "      <td>1.0</td>\n",
       "      <td>2013-05-07 04:34:36</td>\n",
       "      <td>6.0</td>\n",
       "      <td>1.0</td>\n",
       "      <td>0.0</td>\n",
       "      <td>183</td>\n",
       "      <td>10</td>\n",
       "    </tr>\n",
       "    <tr>\n",
       "      <th>1</th>\n",
       "      <td>1</td>\n",
       "      <td>n6-Gk65cPZL6Uz8qRm3NYw</td>\n",
       "      <td>WTqjgwHlXbSFevF32_DJVw</td>\n",
       "      <td>5.0</td>\n",
       "      <td>2016-11-09 20:09:03</td>\n",
       "      <td>3.0</td>\n",
       "      <td>0.0</td>\n",
       "      <td>0.0</td>\n",
       "      <td>20</td>\n",
       "      <td>9</td>\n",
       "    </tr>\n",
       "    <tr>\n",
       "      <th>2</th>\n",
       "      <td>2</td>\n",
       "      <td>jlu4CztcSxrKx56ba1a5AQ</td>\n",
       "      <td>3fw2X5bZYeW9xCz_zGhOHg</td>\n",
       "      <td>3.0</td>\n",
       "      <td>2016-05-07 01:21:02</td>\n",
       "      <td>5.0</td>\n",
       "      <td>4.0</td>\n",
       "      <td>5.0</td>\n",
       "      <td>108</td>\n",
       "      <td>336</td>\n",
       "    </tr>\n",
       "  </tbody>\n",
       "</table>\n",
       "</div>"
      ],
      "text/plain": [
       "   index                 user_id  ... freq_business  freq_user\n",
       "0      0  hG7b0MtEbXx5QzbzE6C_VA  ...           183         10\n",
       "1      1  n6-Gk65cPZL6Uz8qRm3NYw  ...            20          9\n",
       "2      2  jlu4CztcSxrKx56ba1a5AQ  ...           108        336\n",
       "\n",
       "[3 rows x 10 columns]"
      ]
     },
     "execution_count": 6,
     "metadata": {
      "tags": []
     },
     "output_type": "execute_result"
    }
   ],
   "source": [
    "train.head(3)"
   ]
  },
  {
   "cell_type": "markdown",
   "metadata": {
    "colab_type": "text",
    "id": "UXmRY2OjI1qz"
   },
   "source": [
    "#### User dimension segmentation"
   ]
  },
  {
   "cell_type": "code",
   "execution_count": 0,
   "metadata": {
    "colab": {
     "base_uri": "https://localhost:8080/",
     "height": 265
    },
    "colab_type": "code",
    "id": "1zo7rNMgZsiw",
    "outputId": "d51e714e-fdb6-4e4e-cc71-22f0f70d1581"
   },
   "outputs": [
    {
     "data": {
      "image/png": "[encoded data removed]",
      "text/plain": [
       "<Figure size 432x288 with 1 Axes>"
      ]
     },
     "metadata": {
      "tags": []
     },
     "output_type": "display_data"
    }
   ],
   "source": [
    "user_freq=train['user_id'].value_counts()\n",
    "df = pd.DataFrame(user_freq).reset_index()\n",
    "df.columns = ['userId', 'count']\n",
    "plt.hist(df['count'],bins=50)\n",
    "plt.show()"
   ]
  },
  {
   "cell_type": "code",
   "execution_count": 0,
   "metadata": {
    "colab": {
     "base_uri": "https://localhost:8080/",
     "height": 419
    },
    "colab_type": "code",
    "id": "RcC-OAW7aF6l",
    "outputId": "f4b4a216-b9b4-4dc6-e35b-8fe79ba4cf94"
   },
   "outputs": [
    {
     "data": {
      "text/html": [
       "<div>\n",
       "<style scoped>\n",
       "    .dataframe tbody tr th:only-of-type {\n",
       "        vertical-align: middle;\n",
       "    }\n",
       "\n",
       "    .dataframe tbody tr th {\n",
       "        vertical-align: top;\n",
       "    }\n",
       "\n",
       "    .dataframe thead th {\n",
       "        text-align: right;\n",
       "    }\n",
       "</style>\n",
       "<table border=\"1\" class=\"dataframe\">\n",
       "  <thead>\n",
       "    <tr style=\"text-align: right;\">\n",
       "      <th></th>\n",
       "      <th>userId</th>\n",
       "      <th>count</th>\n",
       "    </tr>\n",
       "  </thead>\n",
       "  <tbody>\n",
       "    <tr>\n",
       "      <th>0</th>\n",
       "      <td>CxDOIDnH8gp9KXzpBHJYXw</td>\n",
       "      <td>4031</td>\n",
       "    </tr>\n",
       "    <tr>\n",
       "      <th>1</th>\n",
       "      <td>bLbSNkLggFnqwNNzzq-Ijw</td>\n",
       "      <td>2335</td>\n",
       "    </tr>\n",
       "    <tr>\n",
       "      <th>2</th>\n",
       "      <td>PKEzKWv_FktMm2mGPjwd0Q</td>\n",
       "      <td>1808</td>\n",
       "    </tr>\n",
       "    <tr>\n",
       "      <th>3</th>\n",
       "      <td>ELcQDlf69kb-ihJfxZyL0A</td>\n",
       "      <td>1754</td>\n",
       "    </tr>\n",
       "    <tr>\n",
       "      <th>4</th>\n",
       "      <td>DK57YibC5ShBmqQl97CKog</td>\n",
       "      <td>1715</td>\n",
       "    </tr>\n",
       "    <tr>\n",
       "      <th>...</th>\n",
       "      <td>...</td>\n",
       "      <td>...</td>\n",
       "    </tr>\n",
       "    <tr>\n",
       "      <th>281360</th>\n",
       "      <td>PRGMs30FB1F_Lbsk1tWRxw</td>\n",
       "      <td>2</td>\n",
       "    </tr>\n",
       "    <tr>\n",
       "      <th>281361</th>\n",
       "      <td>crwcqmGOSNrftAQTqGHifg</td>\n",
       "      <td>2</td>\n",
       "    </tr>\n",
       "    <tr>\n",
       "      <th>281362</th>\n",
       "      <td>EWJ3FnnEZi2bWnylCFgMrg</td>\n",
       "      <td>2</td>\n",
       "    </tr>\n",
       "    <tr>\n",
       "      <th>281363</th>\n",
       "      <td>SWWfnUz0daoVCN6kJds_9w</td>\n",
       "      <td>2</td>\n",
       "    </tr>\n",
       "    <tr>\n",
       "      <th>281364</th>\n",
       "      <td>4eoE04rDTK6k0UPuuM28fw</td>\n",
       "      <td>2</td>\n",
       "    </tr>\n",
       "  </tbody>\n",
       "</table>\n",
       "<p>281365 rows × 2 columns</p>\n",
       "</div>"
      ],
      "text/plain": [
       "                        userId  count\n",
       "0       CxDOIDnH8gp9KXzpBHJYXw   4031\n",
       "1       bLbSNkLggFnqwNNzzq-Ijw   2335\n",
       "2       PKEzKWv_FktMm2mGPjwd0Q   1808\n",
       "3       ELcQDlf69kb-ihJfxZyL0A   1754\n",
       "4       DK57YibC5ShBmqQl97CKog   1715\n",
       "...                        ...    ...\n",
       "281360  PRGMs30FB1F_Lbsk1tWRxw      2\n",
       "281361  crwcqmGOSNrftAQTqGHifg      2\n",
       "281362  EWJ3FnnEZi2bWnylCFgMrg      2\n",
       "281363  SWWfnUz0daoVCN6kJds_9w      2\n",
       "281364  4eoE04rDTK6k0UPuuM28fw      2\n",
       "\n",
       "[281365 rows x 2 columns]"
      ]
     },
     "execution_count": 11,
     "metadata": {
      "tags": []
     },
     "output_type": "execute_result"
    }
   ],
   "source": [
    "df"
   ]
  },
  {
   "cell_type": "markdown",
   "metadata": {
    "colab_type": "text",
    "id": "nH0L5wPtHVs3"
   },
   "source": [
    "Check the median and mean of the frequency of users"
   ]
  },
  {
   "cell_type": "code",
   "execution_count": 0,
   "metadata": {
    "colab": {
     "base_uri": "https://localhost:8080/",
     "height": 34
    },
    "colab_type": "code",
    "id": "gihpYec6aPrW",
    "outputId": "20f2ea8f-b6bf-41ec-f94b-86201b95fdc7"
   },
   "outputs": [
    {
     "data": {
      "text/plain": [
       "5.0"
      ]
     },
     "execution_count": 12,
     "metadata": {
      "tags": []
     },
     "output_type": "execute_result"
    }
   ],
   "source": [
    "df['count'].median()"
   ]
  },
  {
   "cell_type": "code",
   "execution_count": 0,
   "metadata": {
    "colab": {
     "base_uri": "https://localhost:8080/",
     "height": 34
    },
    "colab_type": "code",
    "id": "AEL_XqWDaemG",
    "outputId": "5d9677d5-d742-49f8-a04a-1f6975325a7a"
   },
   "outputs": [
    {
     "data": {
      "text/plain": [
       "12.85909761342029"
      ]
     },
     "execution_count": 13,
     "metadata": {
      "tags": []
     },
     "output_type": "execute_result"
    }
   ],
   "source": [
    "df['count'].mean()"
   ]
  },
  {
   "cell_type": "markdown",
   "metadata": {
    "colab_type": "text",
    "id": "Lv1-2IWVHaZI"
   },
   "source": [
    "The number of users who rated more than 5 times."
   ]
  },
  {
   "cell_type": "code",
   "execution_count": 0,
   "metadata": {
    "colab": {
     "base_uri": "https://localhost:8080/",
     "height": 34
    },
    "colab_type": "code",
    "id": "VhhoPdl-agbN",
    "outputId": "2fcb595b-4387-4e8f-f069-479503119458"
   },
   "outputs": [
    {
     "data": {
      "text/plain": [
       "138076"
      ]
     },
     "execution_count": 16,
     "metadata": {
      "tags": []
     },
     "output_type": "execute_result"
    }
   ],
   "source": [
    "len(df.loc[df['count']>5])"
   ]
  },
  {
   "cell_type": "markdown",
   "metadata": {
    "colab_type": "text",
    "id": "rhzN-ZVdHe_u"
   },
   "source": [
    "The number of users who rated less or equal to 5 times."
   ]
  },
  {
   "cell_type": "code",
   "execution_count": 0,
   "metadata": {
    "colab": {
     "base_uri": "https://localhost:8080/",
     "height": 34
    },
    "colab_type": "code",
    "id": "ZVlS9WYwasgc",
    "outputId": "4ee94b90-3631-41fb-bb8c-6c9102aa1f36"
   },
   "outputs": [
    {
     "data": {
      "text/plain": [
       "143289"
      ]
     },
     "execution_count": 17,
     "metadata": {
      "tags": []
     },
     "output_type": "execute_result"
    }
   ],
   "source": [
    "len(df.loc[df['count']<=5])"
   ]
  },
  {
   "cell_type": "markdown",
   "metadata": {
    "colab_type": "text",
    "id": "ibNHjqjOHjJk"
   },
   "source": [
    "The number of users who rated between 5 and 13 times."
   ]
  },
  {
   "cell_type": "code",
   "execution_count": 0,
   "metadata": {
    "colab": {
     "base_uri": "https://localhost:8080/",
     "height": 34
    },
    "colab_type": "code",
    "id": "W_XQwQrMbSns",
    "outputId": "593684d0-ab0b-4655-e5b0-fdf4092deb7f"
   },
   "outputs": [
    {
     "data": {
      "text/plain": [
       "78897"
      ]
     },
     "execution_count": 31,
     "metadata": {
      "tags": []
     },
     "output_type": "execute_result"
    }
   ],
   "source": [
    "len(df.loc[(df['count']<=13)&(5<df['count'])])"
   ]
  },
  {
   "cell_type": "markdown",
   "metadata": {
    "colab_type": "text",
    "id": "7HgLTjAVHpjf"
   },
   "source": [
    "The number of users who rated more than 13 times."
   ]
  },
  {
   "cell_type": "code",
   "execution_count": 0,
   "metadata": {
    "colab": {
     "base_uri": "https://localhost:8080/",
     "height": 34
    },
    "colab_type": "code",
    "id": "e3yq-mPWay6e",
    "outputId": "e704253e-3bca-44f9-cd94-468e233bd430"
   },
   "outputs": [
    {
     "data": {
      "text/plain": [
       "59179"
      ]
     },
     "execution_count": 32,
     "metadata": {
      "tags": []
     },
     "output_type": "execute_result"
    }
   ],
   "source": [
    "len(df.loc[df['count']>13])"
   ]
  },
  {
   "cell_type": "markdown",
   "metadata": {
    "colab_type": "text",
    "id": "T_XfCCqQHs6I"
   },
   "source": [
    "For users who rated less than 5 times, we see them as unpopular/unprolific users. (Note: this does not mean that the users rated less than 5 times in the overall dataset, for here, 'less than 5 times' means 'less than 5 times' in the train set. In the overall dataset, we already exclude the users who rated less than 5 times as inactive users)."
   ]
  },
  {
   "cell_type": "code",
   "execution_count": 0,
   "metadata": {
    "colab": {},
    "colab_type": "code",
    "collapsed": true,
    "id": "eGT9HIXkb-Qu"
   },
   "outputs": [],
   "source": [
    "unpopular_user_ID=(df.loc[df['count']<=5])['userId']"
   ]
  },
  {
   "cell_type": "code",
   "execution_count": 0,
   "metadata": {
    "colab": {},
    "colab_type": "code",
    "collapsed": true,
    "id": "0kVTqg4Zcjmp"
   },
   "outputs": [],
   "source": [
    "unpopular_user_ID=pd.DataFrame(unpopular_user_ID)"
   ]
  },
  {
   "cell_type": "code",
   "execution_count": 0,
   "metadata": {
    "colab": {},
    "colab_type": "code",
    "collapsed": true,
    "id": "e0b7oTzCcPqD"
   },
   "outputs": [],
   "source": [
    "unpopular_user_ID.to_csv(path+'unpopular_user_ID.csv',index=False)"
   ]
  },
  {
   "cell_type": "code",
   "execution_count": 0,
   "metadata": {
    "colab": {
     "base_uri": "https://localhost:8080/",
     "height": 419
    },
    "colab_type": "code",
    "id": "0F5t304fcbzS",
    "outputId": "06b0f981-edea-40b9-9213-49d1ade933db"
   },
   "outputs": [
    {
     "data": {
      "text/html": [
       "<div>\n",
       "<style scoped>\n",
       "    .dataframe tbody tr th:only-of-type {\n",
       "        vertical-align: middle;\n",
       "    }\n",
       "\n",
       "    .dataframe tbody tr th {\n",
       "        vertical-align: top;\n",
       "    }\n",
       "\n",
       "    .dataframe thead th {\n",
       "        text-align: right;\n",
       "    }\n",
       "</style>\n",
       "<table border=\"1\" class=\"dataframe\">\n",
       "  <thead>\n",
       "    <tr style=\"text-align: right;\">\n",
       "      <th></th>\n",
       "      <th>userId</th>\n",
       "    </tr>\n",
       "  </thead>\n",
       "  <tbody>\n",
       "    <tr>\n",
       "      <th>0</th>\n",
       "      <td>1ULNqf9IbFiso1cBdcTX0A</td>\n",
       "    </tr>\n",
       "    <tr>\n",
       "      <th>1</th>\n",
       "      <td>502dJKA0kyc2bKsyjCniEw</td>\n",
       "    </tr>\n",
       "    <tr>\n",
       "      <th>2</th>\n",
       "      <td>GvKJKd3tBEeWmp0PWBGQ3w</td>\n",
       "    </tr>\n",
       "    <tr>\n",
       "      <th>3</th>\n",
       "      <td>0_KCK9S9j5FhlY0Duf6Lrw</td>\n",
       "    </tr>\n",
       "    <tr>\n",
       "      <th>4</th>\n",
       "      <td>_CMcr0_ylU9fZ6BMCmw0iQ</td>\n",
       "    </tr>\n",
       "    <tr>\n",
       "      <th>...</th>\n",
       "      <td>...</td>\n",
       "    </tr>\n",
       "    <tr>\n",
       "      <th>143284</th>\n",
       "      <td>PRGMs30FB1F_Lbsk1tWRxw</td>\n",
       "    </tr>\n",
       "    <tr>\n",
       "      <th>143285</th>\n",
       "      <td>crwcqmGOSNrftAQTqGHifg</td>\n",
       "    </tr>\n",
       "    <tr>\n",
       "      <th>143286</th>\n",
       "      <td>EWJ3FnnEZi2bWnylCFgMrg</td>\n",
       "    </tr>\n",
       "    <tr>\n",
       "      <th>143287</th>\n",
       "      <td>SWWfnUz0daoVCN6kJds_9w</td>\n",
       "    </tr>\n",
       "    <tr>\n",
       "      <th>143288</th>\n",
       "      <td>4eoE04rDTK6k0UPuuM28fw</td>\n",
       "    </tr>\n",
       "  </tbody>\n",
       "</table>\n",
       "<p>143289 rows × 1 columns</p>\n",
       "</div>"
      ],
      "text/plain": [
       "                        userId\n",
       "0       1ULNqf9IbFiso1cBdcTX0A\n",
       "1       502dJKA0kyc2bKsyjCniEw\n",
       "2       GvKJKd3tBEeWmp0PWBGQ3w\n",
       "3       0_KCK9S9j5FhlY0Duf6Lrw\n",
       "4       _CMcr0_ylU9fZ6BMCmw0iQ\n",
       "...                        ...\n",
       "143284  PRGMs30FB1F_Lbsk1tWRxw\n",
       "143285  crwcqmGOSNrftAQTqGHifg\n",
       "143286  EWJ3FnnEZi2bWnylCFgMrg\n",
       "143287  SWWfnUz0daoVCN6kJds_9w\n",
       "143288  4eoE04rDTK6k0UPuuM28fw\n",
       "\n",
       "[143289 rows x 1 columns]"
      ]
     },
     "execution_count": 62,
     "metadata": {
      "tags": []
     },
     "output_type": "execute_result"
    }
   ],
   "source": [
    "pd.read_csv(path+'unpopular_user_ID.csv')"
   ]
  },
  {
   "cell_type": "markdown",
   "metadata": {
    "colab_type": "text",
    "id": "Znu5bSZdIbaH"
   },
   "source": [
    "For users who rated between 5 and 13 times, we see them as midpopular users. 5 and 13 are decided by the median and mean of the frequency."
   ]
  },
  {
   "cell_type": "code",
   "execution_count": 0,
   "metadata": {
    "colab": {},
    "colab_type": "code",
    "collapsed": true,
    "id": "RP2mHnN8dOi0"
   },
   "outputs": [],
   "source": [
    "midpopular_user_ID=(df.loc[(df['count']<=13)&(5<df['count'])])['userId']\n",
    "midpopular_user_ID=pd.DataFrame(midpopular_user_ID)\n",
    "midpopular_user_ID.to_csv(path+'midpopular_user_ID.csv',index=False)"
   ]
  },
  {
   "cell_type": "markdown",
   "metadata": {
    "colab_type": "text",
    "id": "ZnHKLUS8Iomc"
   },
   "source": [
    "For users who rated between more than 13 times, we see them as popular/prolific users."
   ]
  },
  {
   "cell_type": "code",
   "execution_count": 0,
   "metadata": {
    "colab": {},
    "colab_type": "code",
    "collapsed": true,
    "id": "n2JDdpz7deh8"
   },
   "outputs": [],
   "source": [
    "popular_user_ID=(df.loc[df['count']>13])['userId']\n",
    "popular_user_ID=pd.DataFrame(popular_user_ID)\n",
    "popular_user_ID.to_csv(path+'popular_user_ID.csv',index=False)"
   ]
  },
  {
   "cell_type": "markdown",
   "metadata": {
    "colab_type": "text",
    "id": "e05lqvoOIt-X"
   },
   "source": [
    "#### Business dimension segmentation"
   ]
  },
  {
   "cell_type": "markdown",
   "metadata": {
    "colab_type": "text",
    "id": "0YfJUkosI4jY"
   },
   "source": [
    "Same logic applies here."
   ]
  },
  {
   "cell_type": "code",
   "execution_count": 0,
   "metadata": {
    "colab": {
     "base_uri": "https://localhost:8080/",
     "height": 265
    },
    "colab_type": "code",
    "id": "rOBq-mAQdmgj",
    "outputId": "22188a58-51d2-412b-80c5-417e3dcadf75"
   },
   "outputs": [
    {
     "data": {
      "image/png": "[encoded data removed]",
      "text/plain": [
       "<Figure size 432x288 with 1 Axes>"
      ]
     },
     "metadata": {
      "tags": []
     },
     "output_type": "display_data"
    }
   ],
   "source": [
    "business_freq=train['business_id'].value_counts()\n",
    "df = pd.DataFrame(business_freq).reset_index()\n",
    "df.columns = ['businessId', 'count']\n",
    "plt.hist(df['count'],bins=50)\n",
    "plt.show()"
   ]
  },
  {
   "cell_type": "code",
   "execution_count": 0,
   "metadata": {
    "colab": {
     "base_uri": "https://localhost:8080/",
     "height": 221
    },
    "colab_type": "code",
    "id": "y5d-qtk6e7Q0",
    "outputId": "cd2f2dc4-3986-4271-c932-2345708eac30"
   },
   "outputs": [
    {
     "data": {
      "text/plain": [
       "0         3514\n",
       "1         3323\n",
       "2         2901\n",
       "3         2636\n",
       "4         2342\n",
       "          ... \n",
       "148838       1\n",
       "148839       1\n",
       "148840       1\n",
       "148841       1\n",
       "148842       1\n",
       "Name: count, Length: 148843, dtype: int64"
      ]
     },
     "execution_count": 98,
     "metadata": {
      "tags": []
     },
     "output_type": "execute_result"
    }
   ],
   "source": [
    "df['count']"
   ]
  },
  {
   "cell_type": "markdown",
   "metadata": {
    "colab_type": "text",
    "id": "Vgsvr63xI83b"
   },
   "source": [
    "Check the median and the mean of the frequency."
   ]
  },
  {
   "cell_type": "code",
   "execution_count": 0,
   "metadata": {
    "colab": {
     "base_uri": "https://localhost:8080/",
     "height": 34
    },
    "colab_type": "code",
    "id": "mq-K9PCWd18-",
    "outputId": "0d0a5144-0009-4de1-af83-999e44febc81"
   },
   "outputs": [
    {
     "data": {
      "text/plain": [
       "7.0"
      ]
     },
     "execution_count": 66,
     "metadata": {
      "tags": []
     },
     "output_type": "execute_result"
    }
   ],
   "source": [
    "df['count'].median()"
   ]
  },
  {
   "cell_type": "code",
   "execution_count": 0,
   "metadata": {
    "colab": {
     "base_uri": "https://localhost:8080/",
     "height": 34
    },
    "colab_type": "code",
    "id": "pcRyXu8yd2vW",
    "outputId": "f439132e-d9d7-47b5-cb5d-816f8ab79ce2"
   },
   "outputs": [
    {
     "data": {
      "text/plain": [
       "24.308163635508556"
      ]
     },
     "execution_count": 67,
     "metadata": {
      "tags": []
     },
     "output_type": "execute_result"
    }
   ],
   "source": [
    "df['count'].mean()"
   ]
  },
  {
   "cell_type": "markdown",
   "metadata": {
    "colab_type": "text",
    "id": "KLp2WZFkJDhJ"
   },
   "source": [
    "The number business that has been rated less or equal to 7 times."
   ]
  },
  {
   "cell_type": "code",
   "execution_count": 0,
   "metadata": {
    "colab": {
     "base_uri": "https://localhost:8080/",
     "height": 34
    },
    "colab_type": "code",
    "id": "zINkDnNKd5LL",
    "outputId": "2359b90f-bb2a-4437-90d7-8f007ab551a3"
   },
   "outputs": [
    {
     "data": {
      "text/plain": [
       "76229"
      ]
     },
     "execution_count": 99,
     "metadata": {
      "tags": []
     },
     "output_type": "execute_result"
    }
   ],
   "source": [
    "len(df.loc[df['count']<=7])"
   ]
  },
  {
   "cell_type": "code",
   "execution_count": 0,
   "metadata": {
    "colab": {},
    "colab_type": "code",
    "collapsed": true,
    "id": "eO09D5b9fJas"
   },
   "outputs": [],
   "source": [
    "A=df.loc[df['count']<=7]"
   ]
  },
  {
   "cell_type": "code",
   "execution_count": 0,
   "metadata": {
    "colab": {
     "base_uri": "https://localhost:8080/",
     "height": 265
    },
    "colab_type": "code",
    "id": "1ku90-wMfE0L",
    "outputId": "61a519b4-ff45-45b7-f5a4-9b0db04e8317"
   },
   "outputs": [
    {
     "data": {
      "image/png": "[encoded data removed]",
      "text/plain": [
       "<Figure size 432x288 with 1 Axes>"
      ]
     },
     "metadata": {
      "tags": []
     },
     "output_type": "display_data"
    }
   ],
   "source": [
    "plt.hist(A['count'],bins=50)\n",
    "plt.show()"
   ]
  },
  {
   "cell_type": "code",
   "execution_count": 0,
   "metadata": {
    "colab": {
     "base_uri": "https://localhost:8080/",
     "height": 265
    },
    "colab_type": "code",
    "id": "ADGLroPKfWpp",
    "outputId": "65901624-0857-4292-9503-0d74889e8d8a"
   },
   "outputs": [
    {
     "data": {
      "image/png": "[encoded data removed]",
      "text/plain": [
       "<Figure size 432x288 with 1 Axes>"
      ]
     },
     "metadata": {
      "tags": []
     },
     "output_type": "display_data"
    }
   ],
   "source": [
    "plt.hist((df.loc[(df['count']>7)&(df['count']<=24)])['count'],bins=50)\n",
    "plt.show()"
   ]
  },
  {
   "cell_type": "markdown",
   "metadata": {
    "colab_type": "text",
    "id": "Ki0PkfqLJJ9n"
   },
   "source": [
    "The number business that has been rated between 7 and 24 times."
   ]
  },
  {
   "cell_type": "code",
   "execution_count": 0,
   "metadata": {
    "colab": {
     "base_uri": "https://localhost:8080/",
     "height": 34
    },
    "colab_type": "code",
    "id": "sEkbRQOxd99T",
    "outputId": "0541633c-39da-4b13-84c8-1baf26b2dba6"
   },
   "outputs": [
    {
     "data": {
      "text/plain": [
       "41929"
      ]
     },
     "execution_count": 100,
     "metadata": {
      "tags": []
     },
     "output_type": "execute_result"
    }
   ],
   "source": [
    "len(df.loc[(df['count']>7)&(df['count']<=24)])"
   ]
  },
  {
   "cell_type": "markdown",
   "metadata": {
    "colab_type": "text",
    "id": "7jmPstrVJO4i"
   },
   "source": [
    "The number business that has been rated more than 24 times."
   ]
  },
  {
   "cell_type": "code",
   "execution_count": 0,
   "metadata": {
    "colab": {
     "base_uri": "https://localhost:8080/",
     "height": 34
    },
    "colab_type": "code",
    "id": "YAw9tj4reAyV",
    "outputId": "47bd785f-2308-4d71-d82f-f2ba6c188a65"
   },
   "outputs": [
    {
     "data": {
      "text/plain": [
       "30685"
      ]
     },
     "execution_count": 79,
     "metadata": {
      "tags": []
     },
     "output_type": "execute_result"
    }
   ],
   "source": [
    "len(df.loc[df['count']>24])"
   ]
  },
  {
   "cell_type": "code",
   "execution_count": 0,
   "metadata": {
    "colab": {
     "base_uri": "https://localhost:8080/",
     "height": 265
    },
    "colab_type": "code",
    "id": "DKgFr92Ufg3E",
    "outputId": "7e102a96-4e71-4470-a5ee-4e41d7097716"
   },
   "outputs": [
    {
     "data": {
      "image/png": "[encoded data removed]",
      "text/plain": [
       "<Figure size 432x288 with 1 Axes>"
      ]
     },
     "metadata": {
      "tags": []
     },
     "output_type": "display_data"
    }
   ],
   "source": [
    "plt.hist((df.loc[df['count']>24])['count'],bins=50)\n",
    "plt.show()"
   ]
  },
  {
   "cell_type": "markdown",
   "metadata": {
    "colab_type": "text",
    "id": "sjVjx1yEJ45_"
   },
   "source": [
    "1. For business that has been rated less or equal to 7 times, we see them as unpopular businesses. \n",
    "2. For business that has been rated between 7 and 24 times, we see them as midpopular businesses. \n",
    "3. For business that has been rated more than 24 times, we see them as popular businesses. \n",
    "\n",
    "Note:7 and 24 are decided by the median and mean of the frequency."
   ]
  },
  {
   "cell_type": "code",
   "execution_count": 0,
   "metadata": {
    "colab": {},
    "colab_type": "code",
    "collapsed": true,
    "id": "3QCoxKFuelxs"
   },
   "outputs": [],
   "source": [
    "unpopular_business_ID=(df.loc[df['count']<=7])['businessId']\n",
    "unpopular_business_ID=pd.DataFrame(unpopular_business_ID)\n",
    "unpopular_business_ID.to_csv(path+'unpopular_business_ID.csv',index=False)"
   ]
  },
  {
   "cell_type": "code",
   "execution_count": 0,
   "metadata": {
    "colab": {},
    "colab_type": "code",
    "collapsed": true,
    "id": "zWPnKAQ6ft44"
   },
   "outputs": [],
   "source": [
    "midpopular_business_ID=(df.loc[(df['count']>7)&(df['count']<=24)])['businessId']\n",
    "midpopular_business_ID=pd.DataFrame(midpopular_business_ID)\n",
    "midpopular_business_ID.to_csv(path+'midpopular_business_ID.csv',index=False)"
   ]
  },
  {
   "cell_type": "code",
   "execution_count": 0,
   "metadata": {
    "colab": {},
    "colab_type": "code",
    "collapsed": true,
    "id": "6WTfGY2yf1SP"
   },
   "outputs": [],
   "source": [
    "popular_business_ID=(df.loc[df['count']>24])['businessId']\n",
    "popular_business_ID=pd.DataFrame(popular_business_ID)\n",
    "popular_business_ID.to_csv(path+'popular_business_ID.csv',index=False)"
   ]
  },
  {
   "cell_type": "code",
   "execution_count": 0,
   "metadata": {
    "colab": {},
    "colab_type": "code",
    "collapsed": true,
    "id": "iRJq2R9Yf8pP"
   },
   "outputs": [],
   "source": []
  }
 ],
 "metadata": {
  "colab": {
   "collapsed_sections": [],
   "name": "Data_segmentation_user&business.ipynb",
   "provenance": [],
   "toc_visible": true
  },
  "kernelspec": {
   "display_name": "Python 3",
   "name": "python3"
  }
 },
 "nbformat": 4,
 "nbformat_minor": 1
}
