{
 "cells": [
  {
   "cell_type": "markdown",
   "metadata": {},
   "source": [
    "# Neural Collaborative Filtering: Small Dataset Results"
   ]
  },
  {
   "cell_type": "markdown",
   "metadata": {},
   "source": [
    "### Import Data"
   ]
  },
  {
   "cell_type": "code",
   "execution_count": 17,
   "metadata": {},
   "outputs": [],
   "source": [
    "import pandas as pd\n",
    "import numpy as np\n",
    "import matplotlib.pyplot as plt\n",
    "import keras\n",
    "import keras.layers\n",
    "import tensorflow as tf\n",
    "from keras import regularizers\n",
    "import warnings\n",
    "warnings.filterwarnings(\"ignore\", category=DeprecationWarning) \n",
    "\n",
    "train_data = pd.read_csv(\"cleandata/train_small.csv\")\n",
    "test_data = pd.read_csv(\"cleandata/test_small2.csv\")\n",
    "train_data = train_data.rename(columns={\"userId\": \"user_id\", \"movieId\": \"business_id\"})\n",
    "test_data = test_data.rename(columns={\"userId\": \"user_id\", \"movieId\": \"business_id\"})"
   ]
  },
  {
   "cell_type": "code",
   "execution_count": 18,
   "metadata": {},
   "outputs": [],
   "source": [
    "train_data['is_train'] = True\n",
    "test_data['is_train'] = False\n",
    "all_data = pd.concat([train_data,test_data])\n",
    "all_data.user_id = all_data.user_id.astype('category').cat.codes.values\n",
    "all_data.business_id = all_data.business_id.astype('category').cat.codes.values\n",
    "is_train = all_data['is_train'] == True\n",
    "train_data = all_data[is_train]\n",
    "test_data = all_data[~is_train]"
   ]
  },
  {
   "cell_type": "code",
   "execution_count": 19,
   "metadata": {},
   "outputs": [
    {
     "data": {
      "text/html": [
       "<div>\n",
       "<style scoped>\n",
       "    .dataframe tbody tr th:only-of-type {\n",
       "        vertical-align: middle;\n",
       "    }\n",
       "\n",
       "    .dataframe tbody tr th {\n",
       "        vertical-align: top;\n",
       "    }\n",
       "\n",
       "    .dataframe thead th {\n",
       "        text-align: right;\n",
       "    }\n",
       "</style>\n",
       "<table border=\"1\" class=\"dataframe\">\n",
       "  <thead>\n",
       "    <tr style=\"text-align: right;\">\n",
       "      <th></th>\n",
       "      <th>user_id</th>\n",
       "      <th>business_id</th>\n",
       "      <th>date_review</th>\n",
       "      <th>rating_review</th>\n",
       "      <th>is_train</th>\n",
       "    </tr>\n",
       "  </thead>\n",
       "  <tbody>\n",
       "    <tr>\n",
       "      <th>0</th>\n",
       "      <td>16727</td>\n",
       "      <td>73770</td>\n",
       "      <td>2012-09-14 08:38:47</td>\n",
       "      <td>5.0</td>\n",
       "      <td>True</td>\n",
       "    </tr>\n",
       "    <tr>\n",
       "      <th>1</th>\n",
       "      <td>3511</td>\n",
       "      <td>73770</td>\n",
       "      <td>2017-08-11 18:52:05</td>\n",
       "      <td>5.0</td>\n",
       "      <td>True</td>\n",
       "    </tr>\n",
       "    <tr>\n",
       "      <th>2</th>\n",
       "      <td>7049</td>\n",
       "      <td>73770</td>\n",
       "      <td>2012-02-04 21:13:37</td>\n",
       "      <td>2.0</td>\n",
       "      <td>True</td>\n",
       "    </tr>\n",
       "    <tr>\n",
       "      <th>3</th>\n",
       "      <td>19208</td>\n",
       "      <td>73770</td>\n",
       "      <td>2011-01-22 01:58:35</td>\n",
       "      <td>1.0</td>\n",
       "      <td>True</td>\n",
       "    </tr>\n",
       "    <tr>\n",
       "      <th>4</th>\n",
       "      <td>3801</td>\n",
       "      <td>73770</td>\n",
       "      <td>2015-05-08 20:55:25</td>\n",
       "      <td>2.0</td>\n",
       "      <td>True</td>\n",
       "    </tr>\n",
       "    <tr>\n",
       "      <th>...</th>\n",
       "      <td>...</td>\n",
       "      <td>...</td>\n",
       "      <td>...</td>\n",
       "      <td>...</td>\n",
       "      <td>...</td>\n",
       "    </tr>\n",
       "    <tr>\n",
       "      <th>59995</th>\n",
       "      <td>1903</td>\n",
       "      <td>37747</td>\n",
       "      <td>2016-07-05 21:54:34</td>\n",
       "      <td>4.0</td>\n",
       "      <td>False</td>\n",
       "    </tr>\n",
       "    <tr>\n",
       "      <th>59996</th>\n",
       "      <td>4129</td>\n",
       "      <td>12394</td>\n",
       "      <td>2016-12-11 01:29:08</td>\n",
       "      <td>4.0</td>\n",
       "      <td>False</td>\n",
       "    </tr>\n",
       "    <tr>\n",
       "      <th>59997</th>\n",
       "      <td>16956</td>\n",
       "      <td>35860</td>\n",
       "      <td>2012-08-07 15:35:03</td>\n",
       "      <td>4.0</td>\n",
       "      <td>False</td>\n",
       "    </tr>\n",
       "    <tr>\n",
       "      <th>59998</th>\n",
       "      <td>14735</td>\n",
       "      <td>13544</td>\n",
       "      <td>2014-04-11 22:46:39</td>\n",
       "      <td>5.0</td>\n",
       "      <td>False</td>\n",
       "    </tr>\n",
       "    <tr>\n",
       "      <th>59999</th>\n",
       "      <td>1057</td>\n",
       "      <td>39160</td>\n",
       "      <td>2018-10-05 23:43:16</td>\n",
       "      <td>1.0</td>\n",
       "      <td>False</td>\n",
       "    </tr>\n",
       "  </tbody>\n",
       "</table>\n",
       "<p>318881 rows × 5 columns</p>\n",
       "</div>"
      ],
      "text/plain": [
       "       user_id  business_id          date_review  rating_review  is_train\n",
       "0        16727        73770  2012-09-14 08:38:47            5.0      True\n",
       "1         3511        73770  2017-08-11 18:52:05            5.0      True\n",
       "2         7049        73770  2012-02-04 21:13:37            2.0      True\n",
       "3        19208        73770  2011-01-22 01:58:35            1.0      True\n",
       "4         3801        73770  2015-05-08 20:55:25            2.0      True\n",
       "...        ...          ...                  ...            ...       ...\n",
       "59995     1903        37747  2016-07-05 21:54:34            4.0     False\n",
       "59996     4129        12394  2016-12-11 01:29:08            4.0     False\n",
       "59997    16956        35860  2012-08-07 15:35:03            4.0     False\n",
       "59998    14735        13544  2014-04-11 22:46:39            5.0     False\n",
       "59999     1057        39160  2018-10-05 23:43:16            1.0     False\n",
       "\n",
       "[318881 rows x 5 columns]"
      ]
     },
     "execution_count": 19,
     "metadata": {},
     "output_type": "execute_result"
    }
   ],
   "source": [
    "all_data"
   ]
  },
  {
   "cell_type": "markdown",
   "metadata": {},
   "source": [
    "### Model"
   ]
  },
  {
   "cell_type": "code",
   "execution_count": 20,
   "metadata": {},
   "outputs": [],
   "source": [
    "n_latent_factors_user = 8\n",
    "n_latent_factors_business = 10\n",
    "n_latent_factors_mf = 3\n",
    "n_users, n_business = len(all_data.user_id.unique()), len(all_data.business_id.unique())"
   ]
  },
  {
   "cell_type": "code",
   "execution_count": 21,
   "metadata": {},
   "outputs": [],
   "source": [
    "business_input = keras.layers.Input(shape=[1],name='Item')\n",
    "business_embedding_mlp = keras.layers.Embedding(n_business + 1, n_latent_factors_business, name='Business-Embedding-MLP')(business_input)\n",
    "business_vec_mlp = keras.layers.Flatten(name='FlattenBusiness-MLP')(business_embedding_mlp)\n",
    "business_vec_mlp = keras.layers.Dropout(0.2)(business_vec_mlp)\n",
    "\n",
    "business_embedding_mf = keras.layers.Embedding(n_business + 1, n_latent_factors_mf, name='business-Embedding-MF')(business_input)\n",
    "business_vec_mf = keras.layers.Flatten(name='Flattenbusiness-MF')(business_embedding_mf)\n",
    "business_vec_mf = keras.layers.Dropout(0.2)(business_vec_mf)\n",
    "\n",
    "user_input = keras.layers.Input(shape=[1],name='User')\n",
    "user_vec_mlp = keras.layers.Flatten(name='FlattenUsers-MLP')(keras.layers.Embedding(n_users + 1, n_latent_factors_user,name='User-Embedding-MLP')(user_input))\n",
    "user_vec_mlp = keras.layers.Dropout(0.2)(user_vec_mlp)\n",
    "\n",
    "user_vec_mf = keras.layers.Flatten(name='FlattenUsers-MF')(keras.layers.Embedding(n_users + 1, n_latent_factors_mf,name='User-Embedding-MF')(user_input))\n",
    "user_vec_mf = keras.layers.Dropout(0.2)(user_vec_mf)"
   ]
  },
  {
   "cell_type": "code",
   "execution_count": 22,
   "metadata": {},
   "outputs": [],
   "source": [
    "concat = keras.layers.concatenate([business_vec_mlp, user_vec_mlp], name='Concat')\n",
    "\n",
    "concat_dropout = keras.layers.Dropout(0.2)(concat)\n",
    "dense = keras.layers.Dense(128, name='FullyConnected')(concat_dropout)\n",
    "dense_act = keras.layers.advanced_activations.LeakyReLU(alpha=0.3)(dense)\n",
    "dense_batch = keras.layers.BatchNormalization(name='Batch')(dense_act)\n",
    "dropout_1 = keras.layers.Dropout(0.2,name='Dropout-1')(dense_batch)\n",
    "dense_2 = keras.layers.Dense(64,name='FullyConnected-1')(dropout_1)\n",
    "dense_batch_2 = keras.layers.BatchNormalization(name='Batch-2')(dense_2)\n",
    "\n",
    "dropout_2 = keras.layers.Dropout(0.2,name='Dropout-2')(dense_batch_2)\n",
    "dense_3 = keras.layers.Dense(50,name='FullyConnected-2')(dropout_2)\n",
    "dense_4 = keras.layers.Dense(20,name='FullyConnected-3')(dense_3)\n",
    "dense_4_act = keras.layers.advanced_activations.LeakyReLU(alpha=0.3)(dense_4)\n",
    "\n",
    "pred_mf = keras.layers.concatenate([business_vec_mf, user_vec_mf], name='Dot')\n",
    "pred_mlp = keras.layers.Dense(1, activation='relu',name='Activation')(dense_4_act)\n",
    "\n",
    "combine_mlp_mf = keras.layers.concatenate([pred_mf, pred_mlp],name='Concat-MF-MLP')\n",
    "result_combine = keras.layers.Dense(100, name='Combine-MF-MLP')(combine_mlp_mf)\n",
    "deep_combine = keras.layers.Dense(16, kernel_regularizer=regularizers.l2(0.001), name='FullyConnected-4')(result_combine)\n",
    "dropout_3 = keras.layers.Dropout(0.3,name='Dropout-3')(deep_combine)\n",
    "\n",
    "result = keras.layers.Dense(1, name='Prediction')(deep_combine)"
   ]
  },
  {
   "cell_type": "code",
   "execution_count": 23,
   "metadata": {},
   "outputs": [],
   "source": [
    "model = keras.Model([user_input, business_input], result)\n",
    "model.compile(optimizer='adam',loss= 'mse', metrics =[\"accuracy\", \"mse\"])"
   ]
  },
  {
   "cell_type": "code",
   "execution_count": 24,
   "metadata": {},
   "outputs": [
    {
     "name": "stderr",
     "output_type": "stream",
     "text": [
      "A:\\Anaconda\\lib\\site-packages\\tensorflow_core\\python\\framework\\indexed_slices.py:424: UserWarning: Converting sparse IndexedSlices to a dense Tensor of unknown shape. This may consume a large amount of memory.\n",
      "  \"Converting sparse IndexedSlices to a dense Tensor of unknown shape. \"\n"
     ]
    },
    {
     "name": "stdout",
     "output_type": "stream",
     "text": [
      "Train on 207104 samples, validate on 51777 samples\n",
      "Epoch 1/20\n",
      "207104/207104 [==============================] - 192s 928us/step - loss: 1.5995 - accuracy: 0.2938 - mse: 1.5800 - val_loss: 2.1350 - val_accuracy: 0.1890 - val_mse: 2.1243\n",
      "Epoch 2/20\n",
      "207104/207104 [==============================] - 188s 908us/step - loss: 1.2680 - accuracy: 0.3516 - mse: 1.2611 - val_loss: 2.1427 - val_accuracy: 0.1712 - val_mse: 2.1383\n",
      "Epoch 3/20\n",
      "207104/207104 [==============================] - 187s 903us/step - loss: 1.1750 - accuracy: 0.3774 - mse: 1.1715 - val_loss: 2.1579 - val_accuracy: 0.1636 - val_mse: 2.1552\n",
      "Epoch 4/20\n",
      "207104/207104 [==============================] - 172s 830us/step - loss: 1.1279 - accuracy: 0.3909 - mse: 1.1255 - val_loss: 2.1496 - val_accuracy: 0.1718 - val_mse: 2.1475\n",
      "Epoch 5/20\n",
      "207104/207104 [==============================] - 169s 814us/step - loss: 1.0985 - accuracy: 0.4014 - mse: 1.0966 - val_loss: 2.1460 - val_accuracy: 0.1719 - val_mse: 2.1444\n",
      "Epoch 6/20\n",
      "207104/207104 [==============================] - 128s 619us/step - loss: 1.0781 - accuracy: 0.4078 - mse: 1.0766 - val_loss: 2.1513 - val_accuracy: 0.1712 - val_mse: 2.1500\n",
      "Epoch 7/20\n",
      "207104/207104 [==============================] - 94s 452us/step - loss: 1.0594 - accuracy: 0.4129 - mse: 1.0582 - val_loss: 2.1637 - val_accuracy: 0.1649 - val_mse: 2.1626\n",
      "Epoch 8/20\n",
      "207104/207104 [==============================] - 88s 427us/step - loss: 1.0483 - accuracy: 0.4185 - mse: 1.0472 - val_loss: 2.1475 - val_accuracy: 0.1791 - val_mse: 2.1465\n",
      "Epoch 9/20\n",
      "207104/207104 [==============================] - 88s 425us/step - loss: 1.0379 - accuracy: 0.4224 - mse: 1.0369 - val_loss: 2.1812 - val_accuracy: 0.1654 - val_mse: 2.1803\n",
      "Epoch 10/20\n",
      "207104/207104 [==============================] - 88s 425us/step - loss: 1.0286 - accuracy: 0.4257 - mse: 1.0277 - val_loss: 2.1802 - val_accuracy: 0.1675 - val_mse: 2.1794\n",
      "Epoch 11/20\n",
      "207104/207104 [==============================] - 101s 487us/step - loss: 1.0217 - accuracy: 0.4290 - mse: 1.0209 - val_loss: 2.1969 - val_accuracy: 0.1616 - val_mse: 2.1962\n",
      "Epoch 12/20\n",
      "207104/207104 [==============================] - 103s 498us/step - loss: 1.0176 - accuracy: 0.4309 - mse: 1.0169 - val_loss: 2.1879 - val_accuracy: 0.1628 - val_mse: 2.1873\n",
      "Epoch 13/20\n",
      "207104/207104 [==============================] - 103s 498us/step - loss: 1.0092 - accuracy: 0.4331 - mse: 1.0085 - val_loss: 2.1810 - val_accuracy: 0.1767 - val_mse: 2.1804\n",
      "Epoch 14/20\n",
      "207104/207104 [==============================] - 105s 509us/step - loss: 1.0041 - accuracy: 0.4357 - mse: 1.0035 - val_loss: 2.1720 - val_accuracy: 0.1787 - val_mse: 2.1714\n",
      "Epoch 15/20\n",
      "207104/207104 [==============================] - 106s 512us/step - loss: 1.0003 - accuracy: 0.4356 - mse: 0.9998 - val_loss: 2.1723 - val_accuracy: 0.1674 - val_mse: 2.1718\n",
      "Epoch 16/20\n",
      "207104/207104 [==============================] - 102s 493us/step - loss: 0.9971 - accuracy: 0.4377 - mse: 0.9965 - val_loss: 2.2004 - val_accuracy: 0.1620 - val_mse: 2.2000\n",
      "Epoch 17/20\n",
      "207104/207104 [==============================] - 106s 514us/step - loss: 0.9947 - accuracy: 0.4404 - mse: 0.9942 - val_loss: 2.1822 - val_accuracy: 0.1683 - val_mse: 2.1817\n",
      "Epoch 18/20\n",
      "207104/207104 [==============================] - 113s 548us/step - loss: 0.9908 - accuracy: 0.4405 - mse: 0.9903 - val_loss: 2.1859 - val_accuracy: 0.1621 - val_mse: 2.1855- accuracy: 0.\n",
      "Epoch 19/20\n",
      "207104/207104 [==============================] - 103s 498us/step - loss: 0.9870 - accuracy: 0.4435 - mse: 0.9865 - val_loss: 2.1942 - val_accuracy: 0.1678 - val_mse: 2.1938\n",
      "Epoch 20/20\n",
      "207104/207104 [==============================] - 104s 504us/step - loss: 0.9870 - accuracy: 0.4427 - mse: 0.9866 - val_loss: 2.2026 - val_accuracy: 0.1712 - val_mse: 2.2022\n"
     ]
    }
   ],
   "source": [
    "history = model.fit([train_data.user_id.values, train_data.business_id.values], train_data.rating_review, epochs=20, validation_split=0.2)"
   ]
  },
  {
   "cell_type": "markdown",
   "metadata": {},
   "source": [
    "### Evaluating Model"
   ]
  },
  {
   "cell_type": "markdown",
   "metadata": {},
   "source": [
    "#### All Review Results"
   ]
  },
  {
   "cell_type": "code",
   "execution_count": 25,
   "metadata": {},
   "outputs": [],
   "source": [
    "from sklearn.metrics import mean_squared_error\n",
    "prediction = model.predict([test_data.user_id.values, test_data.business_id.values])"
   ]
  },
  {
   "cell_type": "code",
   "execution_count": 26,
   "metadata": {},
   "outputs": [
    {
     "name": "stdout",
     "output_type": "stream",
     "text": [
      "1.4701813947038418\n",
      "1.4386594227617993\n"
     ]
    }
   ],
   "source": [
    "y_hat_rounded = np.round(prediction, 0)\n",
    "print(np.sqrt(mean_squared_error(test_data.rating_review, y_hat_rounded)))\n",
    "print(np.sqrt(mean_squared_error(test_data.rating_review, prediction)))"
   ]
  },
  {
   "cell_type": "code",
   "execution_count": 37,
   "metadata": {},
   "outputs": [
    {
     "data": {
      "image/png": "[encoded data removed]",
      "text/plain": [
       "<Figure size 432x288 with 1 Axes>"
      ]
     },
     "metadata": {
      "needs_background": "light"
     },
     "output_type": "display_data"
    }
   ],
   "source": [
    "# Plot training & validation loss values\n",
    "plt.plot(history.history['loss'])\n",
    "plt.plot(history.history['val_loss'])\n",
    "plt.title('Model loss Small Dataset')\n",
    "plt.ylabel('Loss')\n",
    "plt.xlabel('Epoch')\n",
    "plt.legend(['Train', 'Validation'], loc='lower left')\n",
    "plt.show()"
   ]
  },
  {
   "cell_type": "code",
   "execution_count": 28,
   "metadata": {},
   "outputs": [
    {
     "data": {
      "text/plain": [
       "array([[3.7071753],\n",
       "       [3.9028566],\n",
       "       [4.347692 ],\n",
       "       ...,\n",
       "       [3.4718204],\n",
       "       [3.3162842],\n",
       "       [3.4221017]], dtype=float32)"
      ]
     },
     "execution_count": 28,
     "metadata": {},
     "output_type": "execute_result"
    }
   ],
   "source": [
    "prediction"
   ]
  },
  {
   "cell_type": "code",
   "execution_count": 29,
   "metadata": {},
   "outputs": [],
   "source": [
    "# pd.DataFrame(prediction).to_csv('gs://zw2624-bucket/output/leaky_relu_prediction.csv')\n",
    "pd.DataFrame(prediction).to_csv('small_dataset_leaky_relu_prediction_copy.csv')"
   ]
  },
  {
   "cell_type": "code",
   "execution_count": 30,
   "metadata": {},
   "outputs": [
    {
     "name": "stderr",
     "output_type": "stream",
     "text": [
      "A:\\Anaconda\\lib\\site-packages\\ipykernel_launcher.py:1: SettingWithCopyWarning: \n",
      "A value is trying to be set on a copy of a slice from a DataFrame.\n",
      "Try using .loc[row_indexer,col_indexer] = value instead\n",
      "\n",
      "See the caveats in the documentation: http://pandas.pydata.org/pandas-docs/stable/user_guide/indexing.html#returning-a-view-versus-a-copy\n",
      "  \"\"\"Entry point for launching an IPython kernel.\n"
     ]
    }
   ],
   "source": [
    "test_data['predicted'] = pd.DataFrame(prediction)"
   ]
  },
  {
   "cell_type": "markdown",
   "metadata": {},
   "source": [
    "#### User Coverage"
   ]
  },
  {
   "cell_type": "code",
   "execution_count": 31,
   "metadata": {},
   "outputs": [
    {
     "name": "stderr",
     "output_type": "stream",
     "text": [
      "A:\\Anaconda\\lib\\site-packages\\ipykernel_launcher.py:1: SettingWithCopyWarning: \n",
      "A value is trying to be set on a copy of a slice from a DataFrame.\n",
      "Try using .loc[row_indexer,col_indexer] = value instead\n",
      "\n",
      "See the caveats in the documentation: http://pandas.pydata.org/pandas-docs/stable/user_guide/indexing.html#returning-a-view-versus-a-copy\n",
      "  \"\"\"Entry point for launching an IPython kernel.\n"
     ]
    }
   ],
   "source": [
    "test_data['predicted'] = pd.DataFrame(prediction)\n",
    "correct = 0\n",
    "for user in test_data.user_id:\n",
    "    real = np.argsort(test_data.loc[test_data['user_id'] == user]['rating_review'])\n",
    "    pred = np.argsort(test_data.loc[test_data['user_id'] == user]['predicted'])\n",
    "    correct += (list(real) == list(pred))"
   ]
  },
  {
   "cell_type": "code",
   "execution_count": 32,
   "metadata": {},
   "outputs": [
    {
     "data": {
      "text/plain": [
       "0.2037"
      ]
     },
     "execution_count": 32,
     "metadata": {},
     "output_type": "execute_result"
    }
   ],
   "source": [
    "correct/3 / len(test_data.user_id.unique())"
   ]
  },
  {
   "cell_type": "markdown",
   "metadata": {},
   "source": [
    "#### Last Review Results"
   ]
  },
  {
   "cell_type": "code",
   "execution_count": 33,
   "metadata": {},
   "outputs": [
    {
     "name": "stdout",
     "output_type": "stream",
     "text": [
      "1.4710930978825\n"
     ]
    }
   ],
   "source": [
    "idx = test_data.groupby(['user_id'])['date_review'].transform(max) == test_data['date_review']\n",
    "test_data_latest = test_data[idx]\n",
    "print(np.sqrt(mean_squared_error(test_data_latest.rating_review, test_data_latest.predicted)))"
   ]
  }
 ],
 "metadata": {
  "kernelspec": {
   "display_name": "Python 3",
   "language": "python",
   "name": "python3"
  },
  "language_info": {
   "codemirror_mode": {
    "name": "ipython",
    "version": 3
   },
   "file_extension": ".py",
   "mimetype": "text/x-python",
   "name": "python",
   "nbconvert_exporter": "python",
   "pygments_lexer": "ipython3",
   "version": "3.7.4"
  }
 },
 "nbformat": 4,
 "nbformat_minor": 2
}
