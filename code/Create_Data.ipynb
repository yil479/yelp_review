{
  "nbformat": 4,
  "nbformat_minor": 0,
  "metadata": {
    "colab": {
      "name": "Create Data.ipynb",
      "provenance": [],
      "collapsed_sections": []
    },
    "kernelspec": {
      "name": "python3",
      "display_name": "Python 3"
    }
  },
  "cells": [
    {
      "cell_type": "code",
      "metadata": {
        "id": "TbGMxhqLKP7Y",
        "colab_type": "code",
        "outputId": "5a264f1e-d11c-46c3-f49e-777654c5b583",
        "colab": {
          "base_uri": "https://localhost:8080/",
          "height": 34
        }
      },
      "source": [
        "from google.colab import drive\n",
        "drive.mount('/content/drive',force_remount=True)"
      ],
      "execution_count": 0,
      "outputs": [
        {
          "output_type": "stream",
          "text": [
            "Mounted at /content/drive\n"
          ],
          "name": "stdout"
        }
      ]
    },
    {
      "cell_type": "code",
      "metadata": {
        "id": "ySmKSaeoKqDN",
        "colab_type": "code",
        "colab": {}
      },
      "source": [
        "import pandas as pd\n",
        "import json\n",
        "from tqdm import tqdm\n"
      ],
      "execution_count": 0,
      "outputs": []
    },
    {
      "cell_type": "code",
      "metadata": {
        "id": "7F77eiDWK9jQ",
        "colab_type": "code",
        "colab": {}
      },
      "source": [
        "path=\"/content/drive/My Drive/\""
      ],
      "execution_count": 0,
      "outputs": []
    },
    {
      "cell_type": "markdown",
      "metadata": {
        "id": "CLJPJ39PRjWG",
        "colab_type": "text"
      },
      "source": [
        "### Read and creat data files"
      ]
    },
    {
      "cell_type": "markdown",
      "metadata": {
        "id": "L51wlwShVns-",
        "colab_type": "text"
      },
      "source": [
        "In this notebook, we will read the json files and save the features we need as CSV files. "
      ]
    },
    {
      "cell_type": "markdown",
      "metadata": {
        "id": "hQ_z9JsJXoiu",
        "colab_type": "text"
      },
      "source": [
        "First we want to pick out those users that rated at least five times as active users."
      ]
    },
    {
      "cell_type": "code",
      "metadata": {
        "id": "v0TeRmMhK6kR",
        "colab_type": "code",
        "outputId": "1b743889-85e0-490d-a215-55bf5dbb5581",
        "colab": {
          "base_uri": "https://localhost:8080/",
          "height": 34
        }
      },
      "source": [
        "line_count = len(open(path+'yelp_dataset/review.json').readlines())\n",
        "user_ids, business_ids, stars, dates = [], [], [], []\n",
        "i=1\n",
        "with open(path+\"yelp_dataset/review.json\") as f:\n",
        "    for line in tqdm(f, total=line_count):\n",
        "        blob = json.loads(line)\n",
        "        user_ids += [blob[\"user_id\"]]\n",
        "        business_ids += [blob[\"business_id\"]]\n",
        "        stars += [blob[\"stars\"]]\n",
        "        dates += [blob[\"date\"]]\n",
        "ratings = pd.DataFrame(\n",
        "   {\"user_id\": user_ids, \"business_id\": business_ids, \"rating\": stars, \"date\": dates}\n",
        ")\n",
        "\n"
      ],
      "execution_count": 0,
      "outputs": [
        {
          "output_type": "stream",
          "text": [
            "100%|██████████| 6685900/6685900 [03:08<00:00, 35490.78it/s] \n"
          ],
          "name": "stderr"
        }
      ]
    },
    {
      "cell_type": "code",
      "metadata": {
        "id": "VLDGnfJ0M3wK",
        "colab_type": "code",
        "colab": {}
      },
      "source": [
        "user_counts = ratings[\"user_id\"].value_counts()\n",
        "active_users = user_counts.loc[user_counts >= 5].index.tolist()"
      ],
      "execution_count": 0,
      "outputs": []
    },
    {
      "cell_type": "code",
      "metadata": {
        "id": "IZiDr_dTZykm",
        "colab_type": "code",
        "colab": {}
      },
      "source": [
        "active_user=pd.DataFrame(active_users)"
      ],
      "execution_count": 0,
      "outputs": []
    },
    {
      "cell_type": "code",
      "metadata": {
        "id": "YhwWbrfkaDrs",
        "colab_type": "code",
        "outputId": "5c4189c8-1c20-47d2-c3a5-984f8cd8a644",
        "colab": {
          "base_uri": "https://localhost:8080/",
          "height": 34
        }
      },
      "source": [
        "len(active_user)"
      ],
      "execution_count": 0,
      "outputs": [
        {
          "output_type": "execute_result",
          "data": {
            "text/plain": [
              "286130"
            ]
          },
          "metadata": {
            "tags": []
          },
          "execution_count": 24
        }
      ]
    },
    {
      "cell_type": "markdown",
      "metadata": {
        "id": "GfEwkT1mX0GW",
        "colab_type": "text"
      },
      "source": [
        "Save those active user."
      ]
    },
    {
      "cell_type": "code",
      "metadata": {
        "id": "F5PCbLvYZ8dw",
        "colab_type": "code",
        "colab": {}
      },
      "source": [
        "active_user.to_csv('active_user.csv',index=False)"
      ],
      "execution_count": 0,
      "outputs": []
    },
    {
      "cell_type": "code",
      "metadata": {
        "id": "2wZtDd3-NABw",
        "colab_type": "code",
        "colab": {}
      },
      "source": [
        "ratings=ratings.loc[ratings['user_id'].isin(active_users)]"
      ],
      "execution_count": 0,
      "outputs": []
    },
    {
      "cell_type": "code",
      "metadata": {
        "id": "1WXbUKPYNCLi",
        "colab_type": "code",
        "outputId": "882ca68e-d725-4b66-ae15-6c220559a309",
        "colab": {
          "base_uri": "https://localhost:8080/",
          "height": 289
        }
      },
      "source": [
        "ratings.head(5)"
      ],
      "execution_count": 0,
      "outputs": [
        {
          "output_type": "execute_result",
          "data": {
            "text/html": [
              "<div>\n",
              "<style scoped>\n",
              "    .dataframe tbody tr th:only-of-type {\n",
              "        vertical-align: middle;\n",
              "    }\n",
              "\n",
              "    .dataframe tbody tr th {\n",
              "        vertical-align: top;\n",
              "    }\n",
              "\n",
              "    .dataframe thead th {\n",
              "        text-align: right;\n",
              "    }\n",
              "</style>\n",
              "<table border=\"1\" class=\"dataframe\">\n",
              "  <thead>\n",
              "    <tr style=\"text-align: right;\">\n",
              "      <th></th>\n",
              "      <th>user_id</th>\n",
              "      <th>business_id</th>\n",
              "      <th>rating</th>\n",
              "      <th>date</th>\n",
              "    </tr>\n",
              "  </thead>\n",
              "  <tbody>\n",
              "    <tr>\n",
              "      <th>0</th>\n",
              "      <td>hG7b0MtEbXx5QzbzE6C_VA</td>\n",
              "      <td>ujmEBvifdJM6h6RLv4wQIg</td>\n",
              "      <td>1.0</td>\n",
              "      <td>2013-05-07 04:34:36</td>\n",
              "    </tr>\n",
              "    <tr>\n",
              "      <th>2</th>\n",
              "      <td>n6-Gk65cPZL6Uz8qRm3NYw</td>\n",
              "      <td>WTqjgwHlXbSFevF32_DJVw</td>\n",
              "      <td>5.0</td>\n",
              "      <td>2016-11-09 20:09:03</td>\n",
              "    </tr>\n",
              "    <tr>\n",
              "      <th>6</th>\n",
              "      <td>jlu4CztcSxrKx56ba1a5AQ</td>\n",
              "      <td>3fw2X5bZYeW9xCz_zGhOHg</td>\n",
              "      <td>3.0</td>\n",
              "      <td>2016-05-07 01:21:02</td>\n",
              "    </tr>\n",
              "    <tr>\n",
              "      <th>7</th>\n",
              "      <td>d6xvYpyzcfbF_AZ8vMB7QA</td>\n",
              "      <td>zvO-PJCpNk4fgAVUnExYAA</td>\n",
              "      <td>1.0</td>\n",
              "      <td>2010-10-05 19:12:35</td>\n",
              "    </tr>\n",
              "    <tr>\n",
              "      <th>8</th>\n",
              "      <td>sG_h0dIzTKWa3Q6fmb4u-g</td>\n",
              "      <td>b2jN2mm9Wf3RcrZCgfo1cg</td>\n",
              "      <td>2.0</td>\n",
              "      <td>2015-01-18 14:04:18</td>\n",
              "    </tr>\n",
              "  </tbody>\n",
              "</table>\n",
              "</div>"
            ],
            "text/plain": [
              "                  user_id             business_id  rating                 date\n",
              "0  hG7b0MtEbXx5QzbzE6C_VA  ujmEBvifdJM6h6RLv4wQIg     1.0  2013-05-07 04:34:36\n",
              "2  n6-Gk65cPZL6Uz8qRm3NYw  WTqjgwHlXbSFevF32_DJVw     5.0  2016-11-09 20:09:03\n",
              "6  jlu4CztcSxrKx56ba1a5AQ  3fw2X5bZYeW9xCz_zGhOHg     3.0  2016-05-07 01:21:02\n",
              "7  d6xvYpyzcfbF_AZ8vMB7QA  zvO-PJCpNk4fgAVUnExYAA     1.0  2010-10-05 19:12:35\n",
              "8  sG_h0dIzTKWa3Q6fmb4u-g  b2jN2mm9Wf3RcrZCgfo1cg     2.0  2015-01-18 14:04:18"
            ]
          },
          "metadata": {
            "tags": []
          },
          "execution_count": 7
        }
      ]
    },
    {
      "cell_type": "code",
      "metadata": {
        "id": "cKSqUjwsNEbA",
        "colab_type": "code",
        "colab": {}
      },
      "source": [
        "ratings.to_csv('ratings.csv',index=False)"
      ],
      "execution_count": 0,
      "outputs": []
    },
    {
      "cell_type": "markdown",
      "metadata": {
        "id": "4x6ZCkteWJNL",
        "colab_type": "text"
      },
      "source": [
        "Read business.json and save the features we need as CSV file."
      ]
    },
    {
      "cell_type": "code",
      "metadata": {
        "id": "G0vH-aneNTJ-",
        "colab_type": "code",
        "outputId": "1a79667d-e956-4d33-fa11-4e528c089e7a",
        "colab": {
          "base_uri": "https://localhost:8080/",
          "height": 34
        }
      },
      "source": [
        "line_count = len(open(path+\"yelp_dataset/business.json\").readlines())\n",
        "business_ids= []\n",
        "name,address,city,state,postal_code,latitude,longtitude,stars,review_count=[],[],[],[],[],[],[],[],[]\n",
        "is_open,attributes,categories,hours=[],[],[],[]\n",
        "with open(path+\"yelp_dataset/business.json\") as f:\n",
        "    for line in tqdm(f,total=line_count):\n",
        "        blob = json.loads(line)\n",
        "        #print(blob['attributes'])\n",
        "        business_ids += [blob[\"business_id\"]]\n",
        "        name += [blob[\"name\"]]\n",
        "        address += [blob[\"address\"]]\n",
        "        city += [blob[\"city\"]]\n",
        "        state += [blob[\"state\"]]\n",
        "        postal_code += [blob[\"postal_code\"]]\n",
        "        latitude += [blob[\"latitude\"]]\n",
        "        longtitude += [blob[\"longitude\"]]\n",
        "        stars += [blob[\"stars\"]]\n",
        "        review_count += [blob[\"review_count\"]]\n",
        "        is_open += [blob[\"is_open\"]]\n",
        "        attributes += [blob[\"attributes\"]]\n",
        "        categories+= [blob[\"categories\"]]\n",
        "        hours += [blob[\"hours\"]]\n",
        "       \n",
        "business = pd.DataFrame(\n",
        "   {\"business_ids\": business_ids, \"name\": name, \"address\": address, \"city\": city,\n",
        "    'state':state,'postal_code':postal_code,'latitude':latitude,'longtitude':longtitude,\n",
        "    'stars':stars,'review_count':review_count,'is_open':is_open,'attributes':attributes,\n",
        "    'categories':categories,'hours':hours\n",
        "   }\n",
        ")"
      ],
      "execution_count": 0,
      "outputs": [
        {
          "output_type": "stream",
          "text": [
            "100%|██████████| 192609/192609 [00:03<00:00, 54133.39it/s]\n"
          ],
          "name": "stderr"
        }
      ]
    },
    {
      "cell_type": "code",
      "metadata": {
        "id": "020P70qUN4FE",
        "colab_type": "code",
        "colab": {}
      },
      "source": [
        "business.to_csv('business.csv',index=False)"
      ],
      "execution_count": 0,
      "outputs": []
    },
    {
      "cell_type": "markdown",
      "metadata": {
        "id": "nvXx5o0HWPZr",
        "colab_type": "text"
      },
      "source": [
        "Read user.json and save the features we need as CSV file."
      ]
    },
    {
      "cell_type": "code",
      "metadata": {
        "id": "_ZG4AbtqOgMB",
        "colab_type": "code",
        "outputId": "464d0a51-d8fd-4572-d22e-9cca99ac434d",
        "colab": {
          "base_uri": "https://localhost:8080/",
          "height": 34
        }
      },
      "source": [
        "\n",
        "line_count = len(open(path+\"yelp_dataset/user.json\").readlines())\n",
        "user_id=[]\n",
        "name,review_count,yelping_since,friends,useful,funny,cool,fans,elite=[],[],[],[],[],[],[],[],[]\n",
        "average_stars,compliment_more,compliment_cute,compliment_funny=[],[],[],[]\n",
        "num_friends=[]\n",
        "num_elite=[]\n",
        "with open(path+\"yelp_dataset/user.json\") as f:\n",
        "    for line in tqdm(f,total=line_count):\n",
        "        blob = json.loads(line)\n",
        "        #print(blob['attributes'])\n",
        "        user_id += [blob[\"user_id\"]]\n",
        "        name += [blob[\"name\"]]\n",
        "        review_count += [blob[\"review_count\"]]\n",
        "        yelping_since += [blob[\"yelping_since\"]]\n",
        "        friends += [blob[\"friends\"]]\n",
        "        num_friends+=[blob[\"friends\"].count(',')+1]\n",
        "        useful += [blob[\"useful\"]]\n",
        "        funny += [blob[\"funny\"]]\n",
        "        cool += [blob[\"cool\"]]\n",
        "        fans += [blob[\"fans\"]]\n",
        "        elite += [blob[\"elite\"]]\n",
        "        num_elite+=[blob[\"elite\"].count(',')+1]\n",
        "        average_stars += [blob[\"average_stars\"]]\n",
        "        compliment_more += [blob[\"compliment_more\"]]\n",
        "        compliment_cute+= [blob[\"compliment_cute\"]]\n",
        "        compliment_funny += [blob[\"compliment_funny\"]]\n",
        "        \n",
        "user= pd.DataFrame(\n",
        "   {\"user_id\": user_id, \"name\": name, \"yelping_since\": yelping_since, \"review_count\": review_count,\n",
        "    'friends ':friends ,'useful':useful,'funny':funny,'cool':cool,\n",
        "    'fans':fans,'elite':elite,'average_stars':average_stars,'compliment_more':compliment_more,\n",
        "    'compliment_cute':compliment_cute,'compliment_funny':compliment_funny,\n",
        "    'num_friends':num_friends,'num_elite':num_elite\n",
        "   }\n",
        ")"
      ],
      "execution_count": 0,
      "outputs": [
        {
          "output_type": "stream",
          "text": [
            "100%|██████████| 1637138/1637138 [01:32<00:00, 17658.90it/s]\n"
          ],
          "name": "stderr"
        }
      ]
    },
    {
      "cell_type": "markdown",
      "metadata": {
        "id": "7BpHJP2dX7Gv",
        "colab_type": "text"
      },
      "source": [
        "Since we only want active users, so we filter out inactive users."
      ]
    },
    {
      "cell_type": "code",
      "metadata": {
        "id": "17jlwbcddQjB",
        "colab_type": "code",
        "colab": {}
      },
      "source": [
        "user2=user.loc[user['user_id'].isin(active_users)]"
      ],
      "execution_count": 0,
      "outputs": []
    },
    {
      "cell_type": "code",
      "metadata": {
        "id": "h0Gog6V9dZnc",
        "colab_type": "code",
        "outputId": "8b9c042f-9a7e-4c88-cff1-944f8b5650eb",
        "colab": {
          "base_uri": "https://localhost:8080/",
          "height": 34
        }
      },
      "source": [
        "len(user2)"
      ],
      "execution_count": 0,
      "outputs": [
        {
          "output_type": "execute_result",
          "data": {
            "text/plain": [
              "286130"
            ]
          },
          "metadata": {
            "tags": []
          },
          "execution_count": 27
        }
      ]
    },
    {
      "cell_type": "code",
      "metadata": {
        "id": "lgaU9dzHdeas",
        "colab_type": "code",
        "outputId": "0bec1350-2f57-4450-b8c2-293c46a8f13f",
        "colab": {
          "base_uri": "https://localhost:8080/",
          "height": 309
        }
      },
      "source": [
        "user2.head()"
      ],
      "execution_count": 0,
      "outputs": [
        {
          "output_type": "execute_result",
          "data": {
            "text/html": [
              "<div>\n",
              "<style scoped>\n",
              "    .dataframe tbody tr th:only-of-type {\n",
              "        vertical-align: middle;\n",
              "    }\n",
              "\n",
              "    .dataframe tbody tr th {\n",
              "        vertical-align: top;\n",
              "    }\n",
              "\n",
              "    .dataframe thead th {\n",
              "        text-align: right;\n",
              "    }\n",
              "</style>\n",
              "<table border=\"1\" class=\"dataframe\">\n",
              "  <thead>\n",
              "    <tr style=\"text-align: right;\">\n",
              "      <th></th>\n",
              "      <th>user_id</th>\n",
              "      <th>name</th>\n",
              "      <th>yelping_since</th>\n",
              "      <th>review_count</th>\n",
              "      <th>friends</th>\n",
              "      <th>useful</th>\n",
              "      <th>funny</th>\n",
              "      <th>cool</th>\n",
              "      <th>fans</th>\n",
              "      <th>elite</th>\n",
              "      <th>average_stars</th>\n",
              "      <th>compliment_more</th>\n",
              "      <th>compliment_cute</th>\n",
              "      <th>compliment_funny</th>\n",
              "      <th>num_friends</th>\n",
              "      <th>num_elite</th>\n",
              "    </tr>\n",
              "  </thead>\n",
              "  <tbody>\n",
              "    <tr>\n",
              "      <th>0</th>\n",
              "      <td>l6BmjZMeQD3rDxWUbiAiow</td>\n",
              "      <td>Rashmi</td>\n",
              "      <td>2013-10-08 23:11:33</td>\n",
              "      <td>95</td>\n",
              "      <td>c78V-rj8NQcQjOI8KP3UEA, alRMgPcngYSCJ5naFRBz5g...</td>\n",
              "      <td>84</td>\n",
              "      <td>17</td>\n",
              "      <td>25</td>\n",
              "      <td>5</td>\n",
              "      <td>2015,2016,2017</td>\n",
              "      <td>4.03</td>\n",
              "      <td>0</td>\n",
              "      <td>0</td>\n",
              "      <td>1</td>\n",
              "      <td>99</td>\n",
              "      <td>3</td>\n",
              "    </tr>\n",
              "    <tr>\n",
              "      <th>1</th>\n",
              "      <td>4XChL029mKr5hydo79Ljxg</td>\n",
              "      <td>Jenna</td>\n",
              "      <td>2013-02-21 22:29:06</td>\n",
              "      <td>33</td>\n",
              "      <td>kEBTgDvFX754S68FllfCaA, aB2DynOxNOJK9st2ZeGTPg...</td>\n",
              "      <td>48</td>\n",
              "      <td>22</td>\n",
              "      <td>16</td>\n",
              "      <td>4</td>\n",
              "      <td></td>\n",
              "      <td>3.63</td>\n",
              "      <td>0</td>\n",
              "      <td>0</td>\n",
              "      <td>1</td>\n",
              "      <td>1152</td>\n",
              "      <td>1</td>\n",
              "    </tr>\n",
              "    <tr>\n",
              "      <th>2</th>\n",
              "      <td>bc8C_eETBWL0olvFSJJd0w</td>\n",
              "      <td>David</td>\n",
              "      <td>2013-10-04 00:16:10</td>\n",
              "      <td>16</td>\n",
              "      <td>4N-HU_T32hLENLntsNKNBg, pSY2vwWLgWfGVAAiKQzMng...</td>\n",
              "      <td>28</td>\n",
              "      <td>8</td>\n",
              "      <td>10</td>\n",
              "      <td>0</td>\n",
              "      <td></td>\n",
              "      <td>3.71</td>\n",
              "      <td>0</td>\n",
              "      <td>0</td>\n",
              "      <td>0</td>\n",
              "      <td>15</td>\n",
              "      <td>1</td>\n",
              "    </tr>\n",
              "    <tr>\n",
              "      <th>4</th>\n",
              "      <td>MM4RJAeH6yuaN8oZDSt0RA</td>\n",
              "      <td>Nancy</td>\n",
              "      <td>2013-10-23 07:02:50</td>\n",
              "      <td>361</td>\n",
              "      <td>mbwrZ-RS76V1HoJ0bF_Geg, g64lOV39xSLRZO0aQQ6DeQ...</td>\n",
              "      <td>1114</td>\n",
              "      <td>279</td>\n",
              "      <td>665</td>\n",
              "      <td>39</td>\n",
              "      <td>2015,2016,2017,2018</td>\n",
              "      <td>4.08</td>\n",
              "      <td>1</td>\n",
              "      <td>0</td>\n",
              "      <td>80</td>\n",
              "      <td>231</td>\n",
              "      <td>4</td>\n",
              "    </tr>\n",
              "    <tr>\n",
              "      <th>6</th>\n",
              "      <td>TEtzbpgA2BFBrC0y0sCbfw</td>\n",
              "      <td>Keane</td>\n",
              "      <td>2006-02-15 18:29:35</td>\n",
              "      <td>1122</td>\n",
              "      <td>RJQTcJVlBsJ3_Yo0JSFQQg, GWt_h78k1CBBkE1NpThGfQ...</td>\n",
              "      <td>13311</td>\n",
              "      <td>19356</td>\n",
              "      <td>15319</td>\n",
              "      <td>696</td>\n",
              "      <td>2006,2007,2008,2009,2010,2011,2012,2013</td>\n",
              "      <td>4.39</td>\n",
              "      <td>314</td>\n",
              "      <td>889</td>\n",
              "      <td>4991</td>\n",
              "      <td>4326</td>\n",
              "      <td>8</td>\n",
              "    </tr>\n",
              "  </tbody>\n",
              "</table>\n",
              "</div>"
            ],
            "text/plain": [
              "                  user_id    name  ... num_friends  num_elite\n",
              "0  l6BmjZMeQD3rDxWUbiAiow  Rashmi  ...          99          3\n",
              "1  4XChL029mKr5hydo79Ljxg   Jenna  ...        1152          1\n",
              "2  bc8C_eETBWL0olvFSJJd0w   David  ...          15          1\n",
              "4  MM4RJAeH6yuaN8oZDSt0RA   Nancy  ...         231          4\n",
              "6  TEtzbpgA2BFBrC0y0sCbfw   Keane  ...        4326          8\n",
              "\n",
              "[5 rows x 16 columns]"
            ]
          },
          "metadata": {
            "tags": []
          },
          "execution_count": 28
        }
      ]
    },
    {
      "cell_type": "code",
      "metadata": {
        "id": "J9L7mJkfPK5C",
        "colab_type": "code",
        "colab": {}
      },
      "source": [
        "user2.to_csv('user2.csv',index=False)"
      ],
      "execution_count": 0,
      "outputs": []
    },
    {
      "cell_type": "markdown",
      "metadata": {
        "id": "Nt8ZEjvkW2VJ",
        "colab_type": "text"
      },
      "source": [
        "Read review.json and save the features we need as CSV file."
      ]
    },
    {
      "cell_type": "code",
      "metadata": {
        "id": "aHeAPguXPqfI",
        "colab_type": "code",
        "outputId": "70216763-67b2-4ffd-8da2-a2dcbb424c98",
        "colab": {
          "base_uri": "https://localhost:8080/",
          "height": 34
        }
      },
      "source": [
        "line_count = len(open(path+\"yelp_dataset/review.json\").readlines())\n",
        "user_ids, business_ids, stars, dates,text,useful,funny,cool = [], [], [], [],[],[],[],[]\n",
        "with open(path+\"yelp_dataset/review.json\") as f:\n",
        "    for line in tqdm(f, total=line_count):\n",
        "        blob = json.loads(line)\n",
        "        user_ids += [blob[\"user_id\"]]\n",
        "        business_ids += [blob[\"business_id\"]]\n",
        "        stars += [blob[\"stars\"]]\n",
        "        dates += [blob[\"date\"]]\n",
        "        text+=[blob['text']]\n",
        "        useful+=[blob['useful']]\n",
        "        funny+=[blob['funny']]\n",
        "        cool+=[blob['cool']]\n",
        "review = pd.DataFrame(\n",
        "   {\"user_id\": user_ids, \"business_id\": business_ids, \"rating_review\": stars, \"date_review\": dates,\n",
        "   'text_review':text,'useful_review':useful,'funny_review':funny,'cool_review':cool\n",
        "    \n",
        "   }\n",
        ")\n",
        "# user_counts = review[\"user_id\"].value_counts()\n",
        "# active_users = user_counts.loc[user_counts >= 5].index.tolist()"
      ],
      "execution_count": 0,
      "outputs": [
        {
          "output_type": "stream",
          "text": [
            "100%|██████████| 6685900/6685900 [03:05<00:00, 36072.32it/s]\n"
          ],
          "name": "stderr"
        }
      ]
    },
    {
      "cell_type": "markdown",
      "metadata": {
        "id": "gXEp8AjlXAa3",
        "colab_type": "text"
      },
      "source": [
        "Since we only want the users that rated at least 5 times, so we filter out inactive users."
      ]
    },
    {
      "cell_type": "code",
      "metadata": {
        "id": "qgbaEsiSi5BV",
        "colab_type": "code",
        "colab": {}
      },
      "source": [
        "user_counts = review[\"user_id\"].value_counts()\n",
        "active_users = user_counts.loc[user_counts >= 5].index.tolist()"
      ],
      "execution_count": 0,
      "outputs": []
    },
    {
      "cell_type": "code",
      "metadata": {
        "id": "1XQ_dpaOQK_K",
        "colab_type": "code",
        "colab": {}
      },
      "source": [
        "review=review.loc[review['user_id'].isin(active_users)]"
      ],
      "execution_count": 0,
      "outputs": []
    },
    {
      "cell_type": "code",
      "metadata": {
        "id": "nePydn2AQSym",
        "colab_type": "code",
        "colab": {}
      },
      "source": [
        "review.to_csv('review.csv',index=False)"
      ],
      "execution_count": 0,
      "outputs": []
    },
    {
      "cell_type": "code",
      "metadata": {
        "id": "Nhu0oa4BW0jG",
        "colab_type": "code",
        "colab": {}
      },
      "source": [
        ""
      ],
      "execution_count": 0,
      "outputs": []
    },
    {
      "cell_type": "code",
      "metadata": {
        "id": "YSZWLLYpW0sv",
        "colab_type": "code",
        "colab": {}
      },
      "source": [
        ""
      ],
      "execution_count": 0,
      "outputs": []
    }
  ]
}