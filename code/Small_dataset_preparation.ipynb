{
 "cells": [
  {
   "cell_type": "code",
   "execution_count": 0,
   "metadata": {
    "colab": {},
    "colab_type": "code",
    "collapsed": true,
    "id": "OXYzIlXmdVTz"
   },
   "outputs": [],
   "source": [
    "import pandas as pd\n",
    "import numpy as np\n",
    "import random\n",
    "import matplotlib.pyplot as plt\n",
    "import time\n",
    "import sklearn\n",
    "from sklearn.model_selection import train_test_split\n",
    "from random import shuffle\n",
    "import seaborn as sns  \n",
    "import random"
   ]
  },
  {
   "cell_type": "code",
   "execution_count": 2,
   "metadata": {
    "colab": {
     "base_uri": "https://localhost:8080/",
     "height": 122
    },
    "colab_type": "code",
    "id": "hFy5KH6Wdbno",
    "outputId": "a8c1ca9b-4fa8-468a-b8de-e93a1823acd4"
   },
   "outputs": [
    {
     "name": "stdout",
     "output_type": "stream",
     "text": [
      "Go to this URL in a browser: https://accounts.google.com/o/oauth2/auth?client_id=947318989803-6bn6qk8qdgf4n4g3pfee6491hc0brc4i.apps.googleusercontent.com&redirect_uri=urn%3aietf%3awg%3aoauth%3a2.0%3aoob&response_type=code&scope=email%20https%3a%2f%2fwww.googleapis.com%2fauth%2fdocs.test%20https%3a%2f%2fwww.googleapis.com%2fauth%2fdrive%20https%3a%2f%2fwww.googleapis.com%2fauth%2fdrive.photos.readonly%20https%3a%2f%2fwww.googleapis.com%2fauth%2fpeopleapi.readonly\n",
      "\n",
      "Enter your authorization code:\n",
      "··········\n",
      "Mounted at /content/drive\n"
     ]
    }
   ],
   "source": [
    "from google.colab import drive\n",
    "drive.mount('/content/drive',force_remount=True)\n"
   ]
  },
  {
   "cell_type": "code",
   "execution_count": 0,
   "metadata": {
    "colab": {},
    "colab_type": "code",
    "collapsed": true,
    "id": "noI0QtJHdlUs"
   },
   "outputs": [],
   "source": [
    "path=\"/content/drive/My Drive/yelp_final_data/\""
   ]
  },
  {
   "cell_type": "markdown",
   "metadata": {
    "colab_type": "text",
    "id": "4cOOv7DcTPAM"
   },
   "source": [
    "### This part is for creating a small dataset"
   ]
  },
  {
   "cell_type": "markdown",
   "metadata": {
    "colab_type": "text",
    "id": "GL3SapB3TcC0"
   },
   "source": [
    "The reason we want a small dataset is because of the space and running time constrain for the baseline model. We will run all our models on the small dataset. Moreover, we will also run the three more complex models, neural CF, Factorization Machine and Wide & Deep, on a large dataset."
   ]
  },
  {
   "cell_type": "markdown",
   "metadata": {
    "colab_type": "text",
    "id": "xiIbk3xXejNy"
   },
   "source": [
    "Read the dataset we prepared before. We only want the restaurant that has been rated more than twice and the users that rated at least 5 times."
   ]
  },
  {
   "cell_type": "markdown",
   "metadata": {
    "colab_type": "text",
    "id": "oOcnl86RekSE"
   },
   "source": [
    "We combine the information of business and user with the rating information by joining the tables on user_id and business_id. We also renumber user_id and business_id from 0. "
   ]
  },
  {
   "cell_type": "code",
   "execution_count": 4,
   "metadata": {
    "colab": {
     "base_uri": "https://localhost:8080/",
     "height": 139
    },
    "colab_type": "code",
    "id": "xjlaGKpxsHmt",
    "outputId": "34de4adf-3d12-4f02-b398-78a402ee5695"
   },
   "outputs": [
    {
     "name": "stderr",
     "output_type": "stream",
     "text": [
      "/usr/local/lib/python3.6/dist-packages/ipykernel_launcher.py:5: SettingWithCopyWarning: \n",
      "A value is trying to be set on a copy of a slice from a DataFrame.\n",
      "Try using .loc[row_indexer,col_indexer] = value instead\n",
      "\n",
      "See the caveats in the documentation: http://pandas.pydata.org/pandas-docs/stable/user_guide/indexing.html#returning-a-view-versus-a-copy\n",
      "  \"\"\"\n"
     ]
    }
   ],
   "source": [
    "#start_time=time.time()\n",
    "review=pd.read_csv(path+'review.csv')\n",
    "del review['text_review']\n",
    "review['freq_business'] = review.groupby('business_id')['business_id'].transform('count')\n",
    "review2=review.loc[review['freq_business']>2]\n",
    "review2['freq_user'] = review2.groupby('user_id')['user_id'].transform('count')\n",
    "review3=review2.loc[review2['freq_user']>=5]\n",
    "\n"
   ]
  },
  {
   "cell_type": "code",
   "execution_count": 0,
   "metadata": {
    "colab": {},
    "colab_type": "code",
    "collapsed": true,
    "id": "37euzbe6I0Ze"
   },
   "outputs": [],
   "source": [
    "review3=review3.reset_index()"
   ]
  },
  {
   "cell_type": "markdown",
   "metadata": {
    "colab_type": "text",
    "id": "bfbc-iIOPY2E"
   },
   "source": [
    "Read the test index we got before."
   ]
  },
  {
   "cell_type": "code",
   "execution_count": 0,
   "metadata": {
    "colab": {},
    "colab_type": "code",
    "collapsed": true,
    "id": "7GJULa8xIT15"
   },
   "outputs": [],
   "source": [
    "test_idx=pd.read_csv(path+'all_test_idx_df2.csv')\n",
    "test_idx=test_idx.rename({'0':'index'},axis=1)\n",
    "test=review3.loc[review3['index'].isin(test_idx['index'])]"
   ]
  },
  {
   "cell_type": "code",
   "execution_count": 0,
   "metadata": {
    "colab": {
     "base_uri": "https://localhost:8080/",
     "height": 34
    },
    "colab_type": "code",
    "id": "mCUM-ommI7-O",
    "outputId": "6fafab23-6c43-46a8-ba09-8992469dbf3d"
   },
   "outputs": [
    {
     "data": {
      "text/plain": [
       "3"
      ]
     },
     "execution_count": 8,
     "metadata": {
      "tags": []
     },
     "output_type": "execute_result"
    }
   ],
   "source": [
    "min(test['user_id'].value_counts())"
   ]
  },
  {
   "cell_type": "markdown",
   "metadata": {
    "colab_type": "text",
    "id": "9B4jlp0nPesR"
   },
   "source": [
    "Using the test index to split data into train and test"
   ]
  },
  {
   "cell_type": "code",
   "execution_count": 0,
   "metadata": {
    "colab": {},
    "colab_type": "code",
    "collapsed": true,
    "id": "ZdzlGzJUJBfG"
   },
   "outputs": [],
   "source": [
    "train=review3.loc[~review3['index'].isin(test_idx['index'])]"
   ]
  },
  {
   "cell_type": "markdown",
   "metadata": {
    "colab_type": "text",
    "id": "ymHgGCYwPlNB"
   },
   "source": [
    "Join the review table with business and user information table on userID and busisnessID."
   ]
  },
  {
   "cell_type": "code",
   "execution_count": 0,
   "metadata": {
    "colab": {},
    "colab_type": "code",
    "collapsed": true,
    "id": "SJFEzYzPJFQk"
   },
   "outputs": [],
   "source": [
    "user=pd.read_csv(path+'user2.csv')\n",
    "business=pd.read_csv(path+'business.csv')\n",
    "business=business.rename(columns={\"business_ids\": \"business_id\"})"
   ]
  },
  {
   "cell_type": "code",
   "execution_count": 0,
   "metadata": {
    "colab": {},
    "colab_type": "code",
    "collapsed": true,
    "id": "Emunl6X7JRDr"
   },
   "outputs": [],
   "source": [
    "train = pd.merge(train, user, on='user_id')\n",
    "test=pd.merge(test, user, on='user_id')"
   ]
  },
  {
   "cell_type": "code",
   "execution_count": 0,
   "metadata": {
    "colab": {
     "base_uri": "https://localhost:8080/",
     "height": 34
    },
    "colab_type": "code",
    "id": "6fS8gTHiJVHJ",
    "outputId": "d9974dc2-6e6f-4fe4-e2a1-526981a9ebb5"
   },
   "outputs": [
    {
     "data": {
      "text/plain": [
       "3"
      ]
     },
     "execution_count": 12,
     "metadata": {
      "tags": []
     },
     "output_type": "execute_result"
    }
   ],
   "source": [
    "min(test['user_id'].value_counts())"
   ]
  },
  {
   "cell_type": "code",
   "execution_count": 0,
   "metadata": {
    "colab": {},
    "colab_type": "code",
    "collapsed": true,
    "id": "G6dIjrlOJaPZ"
   },
   "outputs": [],
   "source": [
    "train = pd.merge(train, business, on='business_id')\n",
    "test = pd.merge(test, business, on='business_id')"
   ]
  },
  {
   "cell_type": "code",
   "execution_count": 0,
   "metadata": {
    "colab": {
     "base_uri": "https://localhost:8080/",
     "height": 34
    },
    "colab_type": "code",
    "id": "m6h9Qaz0Jewg",
    "outputId": "15bf4f4e-001c-4e88-9495-d9e5da15b6f4"
   },
   "outputs": [
    {
     "data": {
      "text/plain": [
       "3"
      ]
     },
     "execution_count": 33,
     "metadata": {
      "tags": []
     },
     "output_type": "execute_result"
    }
   ],
   "source": [
    "min(test['user_id'].value_counts())"
   ]
  },
  {
   "cell_type": "markdown",
   "metadata": {
    "colab_type": "text",
    "id": "ZdMwy6pBPtzk"
   },
   "source": [
    "Check if the number of unique users in test set is same as the number of unique users in the training set."
   ]
  },
  {
   "cell_type": "code",
   "execution_count": 0,
   "metadata": {
    "colab": {
     "base_uri": "https://localhost:8080/",
     "height": 34
    },
    "colab_type": "code",
    "id": "LgCJPbsXJkOT",
    "outputId": "fab9a464-a4e7-4aff-bef2-1fa1b2b5f886"
   },
   "outputs": [
    {
     "data": {
      "text/plain": [
       "True"
      ]
     },
     "execution_count": 16,
     "metadata": {
      "tags": []
     },
     "output_type": "execute_result"
    }
   ],
   "source": [
    "len(np.unique(test['user_id']))==len(np.unique(train['user_id']))"
   ]
  },
  {
   "cell_type": "markdown",
   "metadata": {
    "colab_type": "text",
    "id": "_H_fIGpqNVuw"
   },
   "source": [
    "Done checking."
   ]
  },
  {
   "cell_type": "code",
   "execution_count": 0,
   "metadata": {
    "colab": {
     "base_uri": "https://localhost:8080/",
     "height": 34
    },
    "colab_type": "code",
    "id": "1hwpc4XKNsM3",
    "outputId": "c371bb84-b57e-4829-e967-a94329467b86"
   },
   "outputs": [
    {
     "data": {
      "text/plain": [
       "3618100"
      ]
     },
     "execution_count": 31,
     "metadata": {
      "tags": []
     },
     "output_type": "execute_result"
    }
   ],
   "source": [
    "len(train)"
   ]
  },
  {
   "cell_type": "markdown",
   "metadata": {
    "colab_type": "text",
    "id": "dmq-o5dzNiQh"
   },
   "source": [
    "Save the selected columns."
   ]
  },
  {
   "cell_type": "code",
   "execution_count": 0,
   "metadata": {
    "colab": {},
    "colab_type": "code",
    "collapsed": true,
    "id": "UDlKPEySNuxL"
   },
   "outputs": [],
   "source": [
    "train1=train[['user_id','business_id','date_review','rating_review']]\n",
    "test1=test[['user_id','business_id','date_review','rating_review']]\n",
    "train1.to_csv(path+'large_train.csv',index=False)\n",
    "test1.to_csv(path+'large_test.csv',index=False)"
   ]
  },
  {
   "cell_type": "markdown",
   "metadata": {
    "colab_type": "text",
    "id": "QVzs-k0JP6D_"
   },
   "source": [
    "Since we are creating a smaller dataset due to RAM constrain of the labtop when running the baseline model such as item-based collaborative filtering and Non-negative matrix factorization, we randomly select 20000 unique users to create a smaller dataset."
   ]
  },
  {
   "cell_type": "code",
   "execution_count": 0,
   "metadata": {
    "colab": {},
    "colab_type": "code",
    "collapsed": true,
    "id": "YITtiwbVJiYM"
   },
   "outputs": [],
   "source": [
    "user_list=random.sample(list(np.unique(test['user_id'])), 20000)"
   ]
  },
  {
   "cell_type": "code",
   "execution_count": 0,
   "metadata": {
    "colab": {},
    "colab_type": "code",
    "collapsed": true,
    "id": "umnWmzNCJwwb"
   },
   "outputs": [],
   "source": [
    "train_small=train.loc[train['user_id'].isin(user_list)]\n",
    "test_small=test.loc[test['user_id'].isin(user_list)]"
   ]
  },
  {
   "cell_type": "code",
   "execution_count": 0,
   "metadata": {
    "colab": {
     "base_uri": "https://localhost:8080/",
     "height": 34
    },
    "colab_type": "code",
    "id": "04F0oUCdJ6fX",
    "outputId": "00850379-d6b0-4fa7-93b8-fef9f6f52da8"
   },
   "outputs": [
    {
     "data": {
      "text/plain": [
       "3"
      ]
     },
     "execution_count": 25,
     "metadata": {
      "tags": []
     },
     "output_type": "execute_result"
    }
   ],
   "source": [
    "min(test_small['user_id'].value_counts())"
   ]
  },
  {
   "cell_type": "code",
   "execution_count": 0,
   "metadata": {
    "colab": {},
    "colab_type": "code",
    "collapsed": true,
    "id": "TCV4Xa6kJ-Mv"
   },
   "outputs": [],
   "source": [
    "train_small=train_small[['user_id','business_id','date_review','rating_review']]\n",
    "test_small=test_small[['user_id','business_id','date_review','rating_review']]"
   ]
  },
  {
   "cell_type": "markdown",
   "metadata": {
    "colab_type": "text",
    "id": "FkDJX2IjN99R"
   },
   "source": [
    "Save the smaller train and test set."
   ]
  },
  {
   "cell_type": "code",
   "execution_count": 0,
   "metadata": {
    "colab": {},
    "colab_type": "code",
    "collapsed": true,
    "id": "EXl3Q3QEKR5Q"
   },
   "outputs": [],
   "source": [
    "train_small.to_csv('train_small.csv',index=False)\n",
    "test_small.to_csv(path+'test_small2.csv',index=False)"
   ]
  },
  {
   "cell_type": "code",
   "execution_count": 0,
   "metadata": {
    "colab": {
     "base_uri": "https://localhost:8080/",
     "height": 34
    },
    "colab_type": "code",
    "id": "z8dSS1v5KW33",
    "outputId": "dc8bb773-8f8e-4af1-c0a6-6847701b837a"
   },
   "outputs": [
    {
     "data": {
      "text/plain": [
       "20000.0"
      ]
     },
     "execution_count": 27,
     "metadata": {
      "tags": []
     },
     "output_type": "execute_result"
    }
   ],
   "source": [
    "len(test_small)/3"
   ]
  },
  {
   "cell_type": "code",
   "execution_count": 0,
   "metadata": {
    "colab": {},
    "colab_type": "code",
    "collapsed": true,
    "id": "1CFHbENdKXCx"
   },
   "outputs": [],
   "source": []
  },
  {
   "cell_type": "markdown",
   "metadata": {
    "colab_type": "text",
    "id": "DHzdChve8nn-"
   },
   "source": [
    "### Prepare smaller dataset for Factorization Machine model."
   ]
  },
  {
   "cell_type": "markdown",
   "metadata": {
    "colab_type": "text",
    "id": "rITKeTFjOFj2"
   },
   "source": [
    "In the smaller dataset for FM model, we still use those 20000 randomly selected unique users we selected before. And we save the feature columns we want for training the FM model. We have tried with different combination of feature columns, but for the conciseness of the code, we only show our final choices."
   ]
  },
  {
   "cell_type": "code",
   "execution_count": 0,
   "metadata": {
    "colab": {},
    "colab_type": "code",
    "collapsed": true,
    "id": "E91gy_bY0b74"
   },
   "outputs": [],
   "source": [
    "path1=\"/content/drive/My Drive/yelp_small_dataset/\"\n",
    "path=\"/content/drive/My Drive/yelp_final_data/\""
   ]
  },
  {
   "cell_type": "code",
   "execution_count": 0,
   "metadata": {
    "colab": {},
    "colab_type": "code",
    "collapsed": true,
    "id": "xFqTG6r7KXID"
   },
   "outputs": [],
   "source": [
    "train_small=pd.read_csv(path1+'train_small.csv')"
   ]
  },
  {
   "cell_type": "code",
   "execution_count": 0,
   "metadata": {
    "colab": {},
    "colab_type": "code",
    "collapsed": true,
    "id": "BIv7VSzJ1hfZ"
   },
   "outputs": [],
   "source": [
    "test_small=pd.read_csv(path1+'test_small2.csv')"
   ]
  },
  {
   "cell_type": "code",
   "execution_count": 0,
   "metadata": {
    "colab": {
     "base_uri": "https://localhost:8080/",
     "height": 34
    },
    "colab_type": "code",
    "id": "aoqpSt4p1tAQ",
    "outputId": "8b990e14-2e02-4115-ec01-968a946f30ae"
   },
   "outputs": [
    {
     "data": {
      "text/plain": [
       "3"
      ]
     },
     "execution_count": 13,
     "metadata": {
      "tags": []
     },
     "output_type": "execute_result"
    }
   ],
   "source": [
    "min(test_small['user_id'].value_counts())"
   ]
  },
  {
   "cell_type": "code",
   "execution_count": 0,
   "metadata": {
    "colab": {},
    "colab_type": "code",
    "collapsed": true,
    "id": "ppBjDjPG0vs6"
   },
   "outputs": [],
   "source": [
    "user=pd.read_csv(path+'user2.csv')\n",
    "business=pd.read_csv(path+'business.csv')\n",
    "business=business.rename(columns={\"business_ids\": \"business_id\"})"
   ]
  },
  {
   "cell_type": "code",
   "execution_count": 0,
   "metadata": {
    "colab": {},
    "colab_type": "code",
    "collapsed": true,
    "id": "s66BaGbRKW_B"
   },
   "outputs": [],
   "source": [
    "train_small = pd.merge(train_small, user, on='user_id')\n",
    "test_small=pd.merge(test_small, user, on='user_id')"
   ]
  },
  {
   "cell_type": "code",
   "execution_count": 0,
   "metadata": {
    "colab": {},
    "colab_type": "code",
    "collapsed": true,
    "id": "0YC6MIpV0z18"
   },
   "outputs": [],
   "source": [
    "train_small = pd.merge(train_small, business, on='business_id')\n",
    "test_small = pd.merge(test_small, business, on='business_id')"
   ]
  },
  {
   "cell_type": "code",
   "execution_count": 0,
   "metadata": {
    "colab": {
     "base_uri": "https://localhost:8080/",
     "height": 34
    },
    "colab_type": "code",
    "id": "PmRgwY7I2ANl",
    "outputId": "32f0899a-4340-4e16-bd0c-0462e9cdd358"
   },
   "outputs": [
    {
     "data": {
      "text/plain": [
       "3"
      ]
     },
     "execution_count": 16,
     "metadata": {
      "tags": []
     },
     "output_type": "execute_result"
    }
   ],
   "source": [
    "min(test_small['user_id'].value_counts())"
   ]
  },
  {
   "cell_type": "code",
   "execution_count": 0,
   "metadata": {
    "colab": {},
    "colab_type": "code",
    "collapsed": true,
    "id": "YZR5l2CtU11N"
   },
   "outputs": [],
   "source": [
    "train1=train_small[['user_id','business_id','average_stars','stars','city','state','rating_review']]\n",
    "test1=test_small[['user_id','business_id','average_stars','stars','city','state','rating_review']]"
   ]
  },
  {
   "cell_type": "code",
   "execution_count": 0,
   "metadata": {
    "colab": {
     "base_uri": "https://localhost:8080/",
     "height": 111
    },
    "colab_type": "code",
    "id": "lmdaiinSU19E",
    "outputId": "8a328205-5693-44d2-96a9-7034ab18b8e0"
   },
   "outputs": [
    {
     "data": {
      "text/html": [
       "<div>\n",
       "<style scoped>\n",
       "    .dataframe tbody tr th:only-of-type {\n",
       "        vertical-align: middle;\n",
       "    }\n",
       "\n",
       "    .dataframe tbody tr th {\n",
       "        vertical-align: top;\n",
       "    }\n",
       "\n",
       "    .dataframe thead th {\n",
       "        text-align: right;\n",
       "    }\n",
       "</style>\n",
       "<table border=\"1\" class=\"dataframe\">\n",
       "  <thead>\n",
       "    <tr style=\"text-align: right;\">\n",
       "      <th></th>\n",
       "      <th>user_id</th>\n",
       "      <th>business_id</th>\n",
       "      <th>average_stars</th>\n",
       "      <th>stars</th>\n",
       "      <th>city</th>\n",
       "      <th>state</th>\n",
       "      <th>rating_review</th>\n",
       "    </tr>\n",
       "  </thead>\n",
       "  <tbody>\n",
       "    <tr>\n",
       "      <th>0</th>\n",
       "      <td>pkq41Qh9yGOI_4pwdVmmDg</td>\n",
       "      <td>ujmEBvifdJM6h6RLv4wQIg</td>\n",
       "      <td>3.95</td>\n",
       "      <td>2.5</td>\n",
       "      <td>Las Vegas</td>\n",
       "      <td>NV</td>\n",
       "      <td>5.0</td>\n",
       "    </tr>\n",
       "    <tr>\n",
       "      <th>1</th>\n",
       "      <td>ARvvk5AcVtNREPiT1ZHNcw</td>\n",
       "      <td>ujmEBvifdJM6h6RLv4wQIg</td>\n",
       "      <td>3.97</td>\n",
       "      <td>2.5</td>\n",
       "      <td>Las Vegas</td>\n",
       "      <td>NV</td>\n",
       "      <td>5.0</td>\n",
       "    </tr>\n",
       "  </tbody>\n",
       "</table>\n",
       "</div>"
      ],
      "text/plain": [
       "                  user_id             business_id  ...  state  rating_review\n",
       "0  pkq41Qh9yGOI_4pwdVmmDg  ujmEBvifdJM6h6RLv4wQIg  ...     NV            5.0\n",
       "1  ARvvk5AcVtNREPiT1ZHNcw  ujmEBvifdJM6h6RLv4wQIg  ...     NV            5.0\n",
       "\n",
       "[2 rows x 7 columns]"
      ]
     },
     "execution_count": 18,
     "metadata": {
      "tags": []
     },
     "output_type": "execute_result"
    }
   ],
   "source": [
    "train1.head(2)"
   ]
  },
  {
   "cell_type": "markdown",
   "metadata": {
    "colab_type": "text",
    "id": "2jiu02jxOolH"
   },
   "source": [
    "Renumber the user_id and business_id from 0."
   ]
  },
  {
   "cell_type": "code",
   "execution_count": 0,
   "metadata": {
    "colab": {},
    "colab_type": "code",
    "collapsed": true,
    "id": "bj3iJ9cnXBB0"
   },
   "outputs": [],
   "source": [
    "user_id_addresses = train1.user_id.unique()\n",
    "user_id_dict = dict(zip(user_id_addresses, range(len(user_id_addresses))))\n",
    "train1=train1.applymap(lambda s: user_id_dict.get(s) if s in user_id_dict else s)\n",
    "test1=test1.applymap(lambda s: user_id_dict.get(s) if s in user_id_dict else s)"
   ]
  },
  {
   "cell_type": "code",
   "execution_count": 0,
   "metadata": {
    "colab": {},
    "colab_type": "code",
    "collapsed": true,
    "id": "HaPjdsZBWi3e"
   },
   "outputs": [],
   "source": [
    "total_business_id=list(train1.business_id.unique())+list(test1.business_id.unique())"
   ]
  },
  {
   "cell_type": "code",
   "execution_count": 0,
   "metadata": {
    "colab": {},
    "colab_type": "code",
    "collapsed": true,
    "id": "JUj0p0y0Wy37"
   },
   "outputs": [],
   "source": [
    "business_id_dict = dict(zip(total_business_id, range(len(total_business_id))))"
   ]
  },
  {
   "cell_type": "code",
   "execution_count": 0,
   "metadata": {
    "colab": {},
    "colab_type": "code",
    "collapsed": true,
    "id": "mcmBcP76VDPm"
   },
   "outputs": [],
   "source": [
    "\n",
    "train1=train1.applymap(lambda s: business_id_dict.get(s) if s in business_id_dict else s)\n",
    "test1=test1.applymap(lambda s: business_id_dict.get(s) if s in business_id_dict else s)"
   ]
  },
  {
   "cell_type": "code",
   "execution_count": 0,
   "metadata": {
    "colab": {
     "base_uri": "https://localhost:8080/",
     "height": 111
    },
    "colab_type": "code",
    "id": "9t89NnL1VDEh",
    "outputId": "0bd0e86e-4118-4580-de14-215f9f8f1383"
   },
   "outputs": [
    {
     "data": {
      "text/html": [
       "<div>\n",
       "<style scoped>\n",
       "    .dataframe tbody tr th:only-of-type {\n",
       "        vertical-align: middle;\n",
       "    }\n",
       "\n",
       "    .dataframe tbody tr th {\n",
       "        vertical-align: top;\n",
       "    }\n",
       "\n",
       "    .dataframe thead th {\n",
       "        text-align: right;\n",
       "    }\n",
       "</style>\n",
       "<table border=\"1\" class=\"dataframe\">\n",
       "  <thead>\n",
       "    <tr style=\"text-align: right;\">\n",
       "      <th></th>\n",
       "      <th>user_id</th>\n",
       "      <th>business_id</th>\n",
       "      <th>average_stars</th>\n",
       "      <th>stars</th>\n",
       "      <th>city</th>\n",
       "      <th>state</th>\n",
       "      <th>rating_review</th>\n",
       "    </tr>\n",
       "  </thead>\n",
       "  <tbody>\n",
       "    <tr>\n",
       "      <th>0</th>\n",
       "      <td>0</td>\n",
       "      <td>75020</td>\n",
       "      <td>3.95</td>\n",
       "      <td>2.5</td>\n",
       "      <td>Las Vegas</td>\n",
       "      <td>NV</td>\n",
       "      <td>5.0</td>\n",
       "    </tr>\n",
       "    <tr>\n",
       "      <th>1</th>\n",
       "      <td>1</td>\n",
       "      <td>75020</td>\n",
       "      <td>3.97</td>\n",
       "      <td>2.5</td>\n",
       "      <td>Las Vegas</td>\n",
       "      <td>NV</td>\n",
       "      <td>5.0</td>\n",
       "    </tr>\n",
       "  </tbody>\n",
       "</table>\n",
       "</div>"
      ],
      "text/plain": [
       "   user_id  business_id  average_stars  stars       city state  rating_review\n",
       "0        0        75020           3.95    2.5  Las Vegas    NV            5.0\n",
       "1        1        75020           3.97    2.5  Las Vegas    NV            5.0"
      ]
     },
     "execution_count": 23,
     "metadata": {
      "tags": []
     },
     "output_type": "execute_result"
    }
   ],
   "source": [
    "train1.head(2)"
   ]
  },
  {
   "cell_type": "code",
   "execution_count": 0,
   "metadata": {
    "colab": {},
    "colab_type": "code",
    "collapsed": true,
    "id": "eJGPwU8mU2EB"
   },
   "outputs": [],
   "source": [
    "np.savetxt(path+'test1_small.txt', test1.values, fmt=['%d','%d','%d','%d','%s','%s','%d'])"
   ]
  },
  {
   "cell_type": "code",
   "execution_count": 0,
   "metadata": {
    "colab": {},
    "colab_type": "code",
    "collapsed": true,
    "id": "T1FgUkxrUche"
   },
   "outputs": [],
   "source": [
    "np.savetxt(path+'train1_small.txt', train1.values, fmt=['%d','%d','%d','%d','%s','%s','%d'])"
   ]
  },
  {
   "cell_type": "markdown",
   "metadata": {
    "colab_type": "text",
    "id": "SvGcVXQ_8sHB"
   },
   "source": [
    "### Prepare smaller dataset for Wide and Deep model.\n",
    "Same logic applies when creating smaller dataset for Wide and Deep model."
   ]
  },
  {
   "cell_type": "code",
   "execution_count": 0,
   "metadata": {
    "colab": {},
    "colab_type": "code",
    "collapsed": true,
    "id": "6kYHOpRr85PX"
   },
   "outputs": [],
   "source": [
    "path1=\"/content/drive/My Drive/yelp_small_dataset/\"\n",
    "path=\"/content/drive/My Drive/yelp_final_data/\""
   ]
  },
  {
   "cell_type": "code",
   "execution_count": 0,
   "metadata": {
    "colab": {},
    "colab_type": "code",
    "collapsed": true,
    "id": "RXFH5c_N85Ph"
   },
   "outputs": [],
   "source": [
    "train_small=pd.read_csv(path1+'train_small.csv')"
   ]
  },
  {
   "cell_type": "code",
   "execution_count": 0,
   "metadata": {
    "colab": {},
    "colab_type": "code",
    "collapsed": true,
    "id": "6QeWsx4-85Pu"
   },
   "outputs": [],
   "source": [
    "test_small=pd.read_csv(path1+'test_small2.csv')"
   ]
  },
  {
   "cell_type": "code",
   "execution_count": 0,
   "metadata": {
    "colab": {
     "base_uri": "https://localhost:8080/",
     "height": 34
    },
    "colab_type": "code",
    "id": "KvMTgimy85P4",
    "outputId": "7f74ede2-1d69-4c4d-f49e-5c8470b0f7dc"
   },
   "outputs": [
    {
     "data": {
      "text/plain": [
       "3"
      ]
     },
     "execution_count": 7,
     "metadata": {
      "tags": []
     },
     "output_type": "execute_result"
    }
   ],
   "source": [
    "min(test_small['user_id'].value_counts())"
   ]
  },
  {
   "cell_type": "markdown",
   "metadata": {
    "colab_type": "text",
    "id": "OfnzXYE1PLsi"
   },
   "source": [
    "Read user and business CSV files and join the tables on user_id and business_id."
   ]
  },
  {
   "cell_type": "code",
   "execution_count": 0,
   "metadata": {
    "colab": {},
    "colab_type": "code",
    "collapsed": true,
    "id": "0IyV6GmZ85P8"
   },
   "outputs": [],
   "source": [
    "user=pd.read_csv(path+'user2.csv')\n",
    "business=pd.read_csv(path+'business.csv')\n",
    "business=business.rename(columns={\"business_ids\": \"business_id\"})"
   ]
  },
  {
   "cell_type": "code",
   "execution_count": 0,
   "metadata": {
    "colab": {},
    "colab_type": "code",
    "collapsed": true,
    "id": "3sBbeqbE85P_"
   },
   "outputs": [],
   "source": [
    "train_small = pd.merge(train_small, user, on='user_id')\n",
    "test_small=pd.merge(test_small, user, on='user_id')"
   ]
  },
  {
   "cell_type": "code",
   "execution_count": 0,
   "metadata": {
    "colab": {},
    "colab_type": "code",
    "collapsed": true,
    "id": "Ck1X8IDu85QC"
   },
   "outputs": [],
   "source": [
    "train_small = pd.merge(train_small, business, on='business_id')\n",
    "test_small = pd.merge(test_small, business, on='business_id')"
   ]
  },
  {
   "cell_type": "code",
   "execution_count": 0,
   "metadata": {
    "colab": {
     "base_uri": "https://localhost:8080/",
     "height": 34
    },
    "colab_type": "code",
    "id": "PU3Mro5n85QJ",
    "outputId": "32f0899a-4340-4e16-bd0c-0462e9cdd358"
   },
   "outputs": [
    {
     "data": {
      "text/plain": [
       "3"
      ]
     },
     "execution_count": 16,
     "metadata": {
      "tags": []
     },
     "output_type": "execute_result"
    }
   ],
   "source": [
    "min(test_small['user_id'].value_counts())"
   ]
  },
  {
   "cell_type": "code",
   "execution_count": 0,
   "metadata": {
    "colab": {
     "base_uri": "https://localhost:8080/",
     "height": 301
    },
    "colab_type": "code",
    "id": "mWr2mUbdybfb",
    "outputId": "7b68d7a0-bfe9-4406-c99a-0a4e3e22f3e6"
   },
   "outputs": [
    {
     "data": {
      "text/html": [
       "<div>\n",
       "<style scoped>\n",
       "    .dataframe tbody tr th:only-of-type {\n",
       "        vertical-align: middle;\n",
       "    }\n",
       "\n",
       "    .dataframe tbody tr th {\n",
       "        vertical-align: top;\n",
       "    }\n",
       "\n",
       "    .dataframe thead th {\n",
       "        text-align: right;\n",
       "    }\n",
       "</style>\n",
       "<table border=\"1\" class=\"dataframe\">\n",
       "  <thead>\n",
       "    <tr style=\"text-align: right;\">\n",
       "      <th></th>\n",
       "      <th>user_id</th>\n",
       "      <th>business_id</th>\n",
       "      <th>date_review</th>\n",
       "      <th>rating_review</th>\n",
       "      <th>name_x</th>\n",
       "      <th>yelping_since</th>\n",
       "      <th>review_count_x</th>\n",
       "      <th>friends</th>\n",
       "      <th>useful</th>\n",
       "      <th>funny</th>\n",
       "      <th>cool</th>\n",
       "      <th>fans</th>\n",
       "      <th>elite</th>\n",
       "      <th>average_stars</th>\n",
       "      <th>compliment_more</th>\n",
       "      <th>compliment_cute</th>\n",
       "      <th>compliment_funny</th>\n",
       "      <th>num_friends</th>\n",
       "      <th>num_elite</th>\n",
       "      <th>name_y</th>\n",
       "      <th>address</th>\n",
       "      <th>city</th>\n",
       "      <th>state</th>\n",
       "      <th>postal_code</th>\n",
       "      <th>latitude</th>\n",
       "      <th>longtitude</th>\n",
       "      <th>stars</th>\n",
       "      <th>review_count_y</th>\n",
       "      <th>is_open</th>\n",
       "      <th>attributes</th>\n",
       "      <th>categories</th>\n",
       "      <th>hours</th>\n",
       "    </tr>\n",
       "  </thead>\n",
       "  <tbody>\n",
       "    <tr>\n",
       "      <th>0</th>\n",
       "      <td>gJ1zjuo0V4YUfm3o7700Jg</td>\n",
       "      <td>6xgcHeLad-VaoTIQewK84A</td>\n",
       "      <td>2008-12-23 18:38:59</td>\n",
       "      <td>2.0</td>\n",
       "      <td>Natalie</td>\n",
       "      <td>2007-07-10 22:36:19</td>\n",
       "      <td>298</td>\n",
       "      <td>rqfMXs5--WqECuAH-KFgkQ, 6omYIh_HF-LkJLB3BLyCLw...</td>\n",
       "      <td>467</td>\n",
       "      <td>301</td>\n",
       "      <td>275</td>\n",
       "      <td>22</td>\n",
       "      <td>2011,2012,2013,2014</td>\n",
       "      <td>3.60</td>\n",
       "      <td>3</td>\n",
       "      <td>4</td>\n",
       "      <td>23</td>\n",
       "      <td>131</td>\n",
       "      <td>4</td>\n",
       "      <td>N9NE Steakhouse</td>\n",
       "      <td>4321 W Flamingo Rd</td>\n",
       "      <td>Las Vegas</td>\n",
       "      <td>NV</td>\n",
       "      <td>89103</td>\n",
       "      <td>36.11475</td>\n",
       "      <td>-115.1941</td>\n",
       "      <td>4.0</td>\n",
       "      <td>838</td>\n",
       "      <td>0</td>\n",
       "      <td>{'RestaurantsTakeOut': 'False', 'Corkage': 'Tr...</td>\n",
       "      <td>Seafood, Steakhouses, American (Traditional), ...</td>\n",
       "      <td>{'Monday': '17:30-22:0', 'Tuesday': '17:30-22:...</td>\n",
       "    </tr>\n",
       "    <tr>\n",
       "      <th>1</th>\n",
       "      <td>8rqdVEvoVCgWPli5Omt1wg</td>\n",
       "      <td>6xgcHeLad-VaoTIQewK84A</td>\n",
       "      <td>2012-03-14 04:59:25</td>\n",
       "      <td>5.0</td>\n",
       "      <td>Armineh</td>\n",
       "      <td>2011-07-09 04:46:37</td>\n",
       "      <td>7</td>\n",
       "      <td>S9yzmNYp08_JZOZSRLIX2A, XtWHqshFMMhqTgaZufVsEA...</td>\n",
       "      <td>10</td>\n",
       "      <td>2</td>\n",
       "      <td>8</td>\n",
       "      <td>1</td>\n",
       "      <td>NaN</td>\n",
       "      <td>4.75</td>\n",
       "      <td>0</td>\n",
       "      <td>0</td>\n",
       "      <td>1</td>\n",
       "      <td>79</td>\n",
       "      <td>1</td>\n",
       "      <td>N9NE Steakhouse</td>\n",
       "      <td>4321 W Flamingo Rd</td>\n",
       "      <td>Las Vegas</td>\n",
       "      <td>NV</td>\n",
       "      <td>89103</td>\n",
       "      <td>36.11475</td>\n",
       "      <td>-115.1941</td>\n",
       "      <td>4.0</td>\n",
       "      <td>838</td>\n",
       "      <td>0</td>\n",
       "      <td>{'RestaurantsTakeOut': 'False', 'Corkage': 'Tr...</td>\n",
       "      <td>Seafood, Steakhouses, American (Traditional), ...</td>\n",
       "      <td>{'Monday': '17:30-22:0', 'Tuesday': '17:30-22:...</td>\n",
       "    </tr>\n",
       "  </tbody>\n",
       "</table>\n",
       "</div>"
      ],
      "text/plain": [
       "                  user_id  ...                                              hours\n",
       "0  gJ1zjuo0V4YUfm3o7700Jg  ...  {'Monday': '17:30-22:0', 'Tuesday': '17:30-22:...\n",
       "1  8rqdVEvoVCgWPli5Omt1wg  ...  {'Monday': '17:30-22:0', 'Tuesday': '17:30-22:...\n",
       "\n",
       "[2 rows x 32 columns]"
      ]
     },
     "execution_count": 12,
     "metadata": {
      "tags": []
     },
     "output_type": "execute_result"
    }
   ],
   "source": [
    "test_small.head(2)"
   ]
  },
  {
   "cell_type": "markdown",
   "metadata": {
    "colab_type": "text",
    "id": "LX05XAfdPWSN"
   },
   "source": [
    "Select features we want. Same as in FM model, we only show our final choices of feature columns."
   ]
  },
  {
   "cell_type": "code",
   "execution_count": 0,
   "metadata": {
    "colab": {},
    "colab_type": "code",
    "collapsed": true,
    "id": "Ru89SOI685QU"
   },
   "outputs": [],
   "source": [
    "train1=train_small[['user_id','business_id','city','state',\"average_stars\",'compliment_more','compliment_cute',\n",
    "'num_friends','stars','useful','funny','cool','fans','compliment_funny','categories',\"rating_review\"]]\n",
    "test1=test_small[['user_id','business_id','city','state',\"average_stars\",'compliment_more','compliment_cute',\n",
    "'num_friends','stars','useful','funny','cool','fans','compliment_funny','categories',\"rating_review\"]]"
   ]
  },
  {
   "cell_type": "code",
   "execution_count": 0,
   "metadata": {
    "colab": {
     "base_uri": "https://localhost:8080/",
     "height": 267
    },
    "colab_type": "code",
    "id": "JxdZoTtb85QZ",
    "outputId": "40930780-41d2-4c52-dd07-f645e144ca14"
   },
   "outputs": [
    {
     "data": {
      "text/html": [
       "<div>\n",
       "<style scoped>\n",
       "    .dataframe tbody tr th:only-of-type {\n",
       "        vertical-align: middle;\n",
       "    }\n",
       "\n",
       "    .dataframe tbody tr th {\n",
       "        vertical-align: top;\n",
       "    }\n",
       "\n",
       "    .dataframe thead th {\n",
       "        text-align: right;\n",
       "    }\n",
       "</style>\n",
       "<table border=\"1\" class=\"dataframe\">\n",
       "  <thead>\n",
       "    <tr style=\"text-align: right;\">\n",
       "      <th></th>\n",
       "      <th>user_id</th>\n",
       "      <th>business_id</th>\n",
       "      <th>city</th>\n",
       "      <th>state</th>\n",
       "      <th>average_stars</th>\n",
       "      <th>compliment_more</th>\n",
       "      <th>compliment_cute</th>\n",
       "      <th>num_friends</th>\n",
       "      <th>stars</th>\n",
       "      <th>useful</th>\n",
       "      <th>funny</th>\n",
       "      <th>cool</th>\n",
       "      <th>fans</th>\n",
       "      <th>compliment_funny</th>\n",
       "      <th>categories</th>\n",
       "      <th>rating_review</th>\n",
       "    </tr>\n",
       "  </thead>\n",
       "  <tbody>\n",
       "    <tr>\n",
       "      <th>0</th>\n",
       "      <td>pkq41Qh9yGOI_4pwdVmmDg</td>\n",
       "      <td>ujmEBvifdJM6h6RLv4wQIg</td>\n",
       "      <td>Las Vegas</td>\n",
       "      <td>NV</td>\n",
       "      <td>3.95</td>\n",
       "      <td>4</td>\n",
       "      <td>5</td>\n",
       "      <td>544</td>\n",
       "      <td>2.5</td>\n",
       "      <td>366</td>\n",
       "      <td>110</td>\n",
       "      <td>186</td>\n",
       "      <td>20</td>\n",
       "      <td>34</td>\n",
       "      <td>Fitness &amp; Instruction, Doctors, Health &amp; Medic...</td>\n",
       "      <td>5.0</td>\n",
       "    </tr>\n",
       "    <tr>\n",
       "      <th>1</th>\n",
       "      <td>ARvvk5AcVtNREPiT1ZHNcw</td>\n",
       "      <td>ujmEBvifdJM6h6RLv4wQIg</td>\n",
       "      <td>Las Vegas</td>\n",
       "      <td>NV</td>\n",
       "      <td>3.97</td>\n",
       "      <td>0</td>\n",
       "      <td>0</td>\n",
       "      <td>32</td>\n",
       "      <td>2.5</td>\n",
       "      <td>33</td>\n",
       "      <td>9</td>\n",
       "      <td>6</td>\n",
       "      <td>3</td>\n",
       "      <td>1</td>\n",
       "      <td>Fitness &amp; Instruction, Doctors, Health &amp; Medic...</td>\n",
       "      <td>5.0</td>\n",
       "    </tr>\n",
       "  </tbody>\n",
       "</table>\n",
       "</div>"
      ],
      "text/plain": [
       "                  user_id  ... rating_review\n",
       "0  pkq41Qh9yGOI_4pwdVmmDg  ...           5.0\n",
       "1  ARvvk5AcVtNREPiT1ZHNcw  ...           5.0\n",
       "\n",
       "[2 rows x 16 columns]"
      ]
     },
     "execution_count": 15,
     "metadata": {
      "tags": []
     },
     "output_type": "execute_result"
    }
   ],
   "source": [
    "train1.head(2)"
   ]
  },
  {
   "cell_type": "markdown",
   "metadata": {
    "colab_type": "text",
    "id": "exq8e4KdQeH0"
   },
   "source": [
    "Save the smaller dataset for Wide and Deep model."
   ]
  },
  {
   "cell_type": "code",
   "execution_count": 0,
   "metadata": {
    "colab": {},
    "colab_type": "code",
    "collapsed": true,
    "id": "QkDXJAUmzEfO"
   },
   "outputs": [],
   "source": [
    "train1.to_csv(path+'train_small_WD.csv',index=False)\n",
    "test1.to_csv(path+'test_small_WD.csv',index=False)"
   ]
  },
  {
   "cell_type": "code",
   "execution_count": 0,
   "metadata": {
    "colab": {},
    "colab_type": "code",
    "collapsed": true,
    "id": "MK815A-izR1W"
   },
   "outputs": [],
   "source": []
  },
  {
   "cell_type": "code",
   "execution_count": 0,
   "metadata": {
    "colab": {},
    "colab_type": "code",
    "collapsed": true,
    "id": "tUY06sH8QUmT"
   },
   "outputs": [],
   "source": []
  },
  {
   "cell_type": "code",
   "execution_count": 0,
   "metadata": {
    "colab": {},
    "colab_type": "code",
    "collapsed": true,
    "id": "BedJ1j4yQU4d"
   },
   "outputs": [],
   "source": []
  },
  {
   "cell_type": "code",
   "execution_count": 0,
   "metadata": {
    "colab": {},
    "colab_type": "code",
    "collapsed": true,
    "id": "7JSINlt8QVDF"
   },
   "outputs": [],
   "source": []
  },
  {
   "cell_type": "code",
   "execution_count": 0,
   "metadata": {
    "colab": {},
    "colab_type": "code",
    "collapsed": true,
    "id": "ctHl0QGjQVPa"
   },
   "outputs": [],
   "source": []
  }
 ],
 "metadata": {
  "colab": {
   "collapsed_sections": [],
   "name": "Small dataset preparation.ipynb",
   "provenance": []
  },
  "kernelspec": {
   "display_name": "Python 3",
   "name": "python3"
  }
 },
 "nbformat": 4,
 "nbformat_minor": 1
}
