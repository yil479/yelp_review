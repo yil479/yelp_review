{
 "cells": [
  {
   "cell_type": "code",
   "execution_count": 0,
   "metadata": {
    "colab": {},
    "colab_type": "code",
    "collapsed": true,
    "id": "OXYzIlXmdVTz"
   },
   "outputs": [],
   "source": [
    "import pandas as pd\n",
    "import numpy as np\n",
    "import random\n",
    "import matplotlib.pyplot as plt\n",
    "import time\n",
    "import sklearn\n",
    "from sklearn.model_selection import train_test_split\n",
    "from random import shuffle\n",
    "import seaborn as sns  "
   ]
  },
  {
   "cell_type": "code",
   "execution_count": 0,
   "metadata": {
    "colab": {
     "base_uri": "https://localhost:8080/",
     "height": 122
    },
    "colab_type": "code",
    "id": "hFy5KH6Wdbno",
    "outputId": "1ae271f4-e72f-4f21-a3b7-bd8c494be07e"
   },
   "outputs": [
    {
     "name": "stdout",
     "output_type": "stream",
     "text": [
      "Go to this URL in a browser: https://accounts.google.com/o/oauth2/auth?client_id=947318989803-6bn6qk8qdgf4n4g3pfee6491hc0brc4i.apps.googleusercontent.com&redirect_uri=urn%3aietf%3awg%3aoauth%3a2.0%3aoob&response_type=code&scope=email%20https%3a%2f%2fwww.googleapis.com%2fauth%2fdocs.test%20https%3a%2f%2fwww.googleapis.com%2fauth%2fdrive%20https%3a%2f%2fwww.googleapis.com%2fauth%2fdrive.photos.readonly%20https%3a%2f%2fwww.googleapis.com%2fauth%2fpeopleapi.readonly\n",
      "\n",
      "Enter your authorization code:\n",
      "··········\n",
      "Mounted at /content/drive\n"
     ]
    }
   ],
   "source": [
    "from google.colab import drive\n",
    "drive.mount('/content/drive',force_remount=True)\n"
   ]
  },
  {
   "cell_type": "code",
   "execution_count": 0,
   "metadata": {
    "colab": {},
    "colab_type": "code",
    "collapsed": true,
    "id": "noI0QtJHdlUs"
   },
   "outputs": [],
   "source": [
    "path=\"/content/drive/My Drive/yelp_final_data/\""
   ]
  },
  {
   "cell_type": "markdown",
   "metadata": {
    "colab_type": "text",
    "id": "rNsCr-XaW28W"
   },
   "source": [
    "### In this notebook, we prepare the large dataset to train the FM model, and also the segmented test set."
   ]
  },
  {
   "cell_type": "markdown",
   "metadata": {
    "colab_type": "text",
    "id": "xiIbk3xXejNy"
   },
   "source": [
    "Read the data files we saved. We only want the restaurant that has been rated more than twice and the users that rated at least 5 times. This condition should already be satisfied when we prepared the data files, we just do it here again for double checking."
   ]
  },
  {
   "cell_type": "markdown",
   "metadata": {
    "colab_type": "text",
    "id": "oOcnl86RekSE"
   },
   "source": [
    "We also read the test set index we saved before."
   ]
  },
  {
   "cell_type": "code",
   "execution_count": 0,
   "metadata": {
    "colab": {
     "base_uri": "https://localhost:8080/",
     "height": 139
    },
    "colab_type": "code",
    "id": "qFtHNlTNUb4V",
    "outputId": "629a4396-203b-42c9-f7e6-6700c4a8652d"
   },
   "outputs": [
    {
     "name": "stderr",
     "output_type": "stream",
     "text": [
      "/usr/local/lib/python3.6/dist-packages/ipykernel_launcher.py:5: SettingWithCopyWarning: \n",
      "A value is trying to be set on a copy of a slice from a DataFrame.\n",
      "Try using .loc[row_indexer,col_indexer] = value instead\n",
      "\n",
      "See the caveats in the documentation: http://pandas.pydata.org/pandas-docs/stable/user_guide/indexing.html#returning-a-view-versus-a-copy\n",
      "  \"\"\"\n"
     ]
    }
   ],
   "source": [
    "#start_time=time.time()\n",
    "review=pd.read_csv(path+'review.csv')\n",
    "del review['text_review']\n",
    "review['freq_business'] = review.groupby('business_id')['business_id'].transform('count')\n",
    "review2=review.loc[review['freq_business']>2]\n",
    "review2['freq_user'] = review2.groupby('user_id')['user_id'].transform('count')\n",
    "review3=review2.loc[review2['freq_user']>=5]\n",
    "review3=review3.reset_index()\n",
    "test_idx=pd.read_csv(path+'all_test_idx_df2.csv')\n",
    "test_idx=test_idx.rename({'0':'index'},axis=1)\n",
    "test=review3.loc[review3['index'].isin(test_idx['index'])]\n"
   ]
  },
  {
   "cell_type": "markdown",
   "metadata": {
    "colab_type": "text",
    "id": "V_l7PhCASd45"
   },
   "source": [
    "Based on the selected test row index we can create train and test dataset."
   ]
  },
  {
   "cell_type": "code",
   "execution_count": 0,
   "metadata": {
    "colab": {},
    "colab_type": "code",
    "collapsed": true,
    "id": "sxD5_c4iUcBK"
   },
   "outputs": [],
   "source": [
    "train=review3.loc[~review3['index'].isin(test_idx['index'])]"
   ]
  },
  {
   "cell_type": "markdown",
   "metadata": {
    "colab_type": "text",
    "id": "5irYH8ldSpUy"
   },
   "source": [
    "Read user and business table and join the tables on user_id and business_id."
   ]
  },
  {
   "cell_type": "code",
   "execution_count": 0,
   "metadata": {
    "colab": {},
    "colab_type": "code",
    "collapsed": true,
    "id": "gIoo-TI_UcJo"
   },
   "outputs": [],
   "source": [
    "user=pd.read_csv(path+'user2.csv')\n",
    "business=pd.read_csv(path+'business.csv')\n",
    "business=business.rename(columns={\"business_ids\": \"business_id\"})"
   ]
  },
  {
   "cell_type": "code",
   "execution_count": 0,
   "metadata": {
    "colab": {},
    "colab_type": "code",
    "collapsed": true,
    "id": "_3H2qGcRUcQ2"
   },
   "outputs": [],
   "source": [
    "train = pd.merge(train, user, on='user_id')\n",
    "test=pd.merge(test, user, on='user_id')"
   ]
  },
  {
   "cell_type": "code",
   "execution_count": 0,
   "metadata": {
    "colab": {},
    "colab_type": "code",
    "collapsed": true,
    "id": "E4wCfYH6UcYw"
   },
   "outputs": [],
   "source": [
    "train = pd.merge(train, business, on='business_id')\n",
    "test = pd.merge(test, business, on='business_id')"
   ]
  },
  {
   "cell_type": "code",
   "execution_count": 0,
   "metadata": {
    "colab": {
     "base_uri": "https://localhost:8080/",
     "height": 267
    },
    "colab_type": "code",
    "id": "Krrxmn0GVmYP",
    "outputId": "14e8fdd6-328b-4d10-93ca-dbc813896871"
   },
   "outputs": [
    {
     "data": {
      "text/html": [
       "<div>\n",
       "<style scoped>\n",
       "    .dataframe tbody tr th:only-of-type {\n",
       "        vertical-align: middle;\n",
       "    }\n",
       "\n",
       "    .dataframe tbody tr th {\n",
       "        vertical-align: top;\n",
       "    }\n",
       "\n",
       "    .dataframe thead th {\n",
       "        text-align: right;\n",
       "    }\n",
       "</style>\n",
       "<table border=\"1\" class=\"dataframe\">\n",
       "  <thead>\n",
       "    <tr style=\"text-align: right;\">\n",
       "      <th></th>\n",
       "      <th>index</th>\n",
       "      <th>user_id</th>\n",
       "      <th>business_id</th>\n",
       "      <th>rating_review</th>\n",
       "      <th>date_review</th>\n",
       "      <th>useful_review</th>\n",
       "      <th>funny_review</th>\n",
       "      <th>cool_review</th>\n",
       "      <th>freq_business</th>\n",
       "      <th>freq_user</th>\n",
       "      <th>name_x</th>\n",
       "      <th>yelping_since</th>\n",
       "      <th>review_count_x</th>\n",
       "      <th>friends</th>\n",
       "      <th>useful</th>\n",
       "      <th>funny</th>\n",
       "      <th>cool</th>\n",
       "      <th>fans</th>\n",
       "      <th>elite</th>\n",
       "      <th>average_stars</th>\n",
       "      <th>compliment_more</th>\n",
       "      <th>compliment_cute</th>\n",
       "      <th>compliment_funny</th>\n",
       "      <th>num_friends</th>\n",
       "      <th>num_elite</th>\n",
       "      <th>name_y</th>\n",
       "      <th>address</th>\n",
       "      <th>city</th>\n",
       "      <th>state</th>\n",
       "      <th>postal_code</th>\n",
       "      <th>latitude</th>\n",
       "      <th>longtitude</th>\n",
       "      <th>stars</th>\n",
       "      <th>review_count_y</th>\n",
       "      <th>is_open</th>\n",
       "      <th>attributes</th>\n",
       "      <th>categories</th>\n",
       "      <th>hours</th>\n",
       "    </tr>\n",
       "  </thead>\n",
       "  <tbody>\n",
       "    <tr>\n",
       "      <th>0</th>\n",
       "      <td>0</td>\n",
       "      <td>hG7b0MtEbXx5QzbzE6C_VA</td>\n",
       "      <td>ujmEBvifdJM6h6RLv4wQIg</td>\n",
       "      <td>1.0</td>\n",
       "      <td>2013-05-07 04:34:36</td>\n",
       "      <td>6.0</td>\n",
       "      <td>1.0</td>\n",
       "      <td>0.0</td>\n",
       "      <td>183</td>\n",
       "      <td>10</td>\n",
       "      <td>Stefan</td>\n",
       "      <td>2008-07-10 17:24:47</td>\n",
       "      <td>10</td>\n",
       "      <td>frQs7y5qa-X1pvAM0sJe1w</td>\n",
       "      <td>18</td>\n",
       "      <td>4</td>\n",
       "      <td>0</td>\n",
       "      <td>0</td>\n",
       "      <td>NaN</td>\n",
       "      <td>2.0</td>\n",
       "      <td>0</td>\n",
       "      <td>0</td>\n",
       "      <td>0</td>\n",
       "      <td>1</td>\n",
       "      <td>1</td>\n",
       "      <td>MountainView Hospital</td>\n",
       "      <td>3100 N Tenaya Way</td>\n",
       "      <td>Las Vegas</td>\n",
       "      <td>NV</td>\n",
       "      <td>89128</td>\n",
       "      <td>36.215546</td>\n",
       "      <td>-115.248798</td>\n",
       "      <td>2.5</td>\n",
       "      <td>238</td>\n",
       "      <td>1</td>\n",
       "      <td>{'ByAppointmentOnly': 'False', 'GoodForKids': ...</td>\n",
       "      <td>Fitness &amp; Instruction, Doctors, Health &amp; Medic...</td>\n",
       "      <td>{'Monday': '0:0-0:0', 'Tuesday': '0:0-0:0', 'W...</td>\n",
       "    </tr>\n",
       "    <tr>\n",
       "      <th>1</th>\n",
       "      <td>186281</td>\n",
       "      <td>hG7b0MtEbXx5QzbzE6C_VA</td>\n",
       "      <td>ujmEBvifdJM6h6RLv4wQIg</td>\n",
       "      <td>1.0</td>\n",
       "      <td>2013-03-27 14:17:13</td>\n",
       "      <td>3.0</td>\n",
       "      <td>0.0</td>\n",
       "      <td>0.0</td>\n",
       "      <td>183</td>\n",
       "      <td>10</td>\n",
       "      <td>Stefan</td>\n",
       "      <td>2008-07-10 17:24:47</td>\n",
       "      <td>10</td>\n",
       "      <td>frQs7y5qa-X1pvAM0sJe1w</td>\n",
       "      <td>18</td>\n",
       "      <td>4</td>\n",
       "      <td>0</td>\n",
       "      <td>0</td>\n",
       "      <td>NaN</td>\n",
       "      <td>2.0</td>\n",
       "      <td>0</td>\n",
       "      <td>0</td>\n",
       "      <td>0</td>\n",
       "      <td>1</td>\n",
       "      <td>1</td>\n",
       "      <td>MountainView Hospital</td>\n",
       "      <td>3100 N Tenaya Way</td>\n",
       "      <td>Las Vegas</td>\n",
       "      <td>NV</td>\n",
       "      <td>89128</td>\n",
       "      <td>36.215546</td>\n",
       "      <td>-115.248798</td>\n",
       "      <td>2.5</td>\n",
       "      <td>238</td>\n",
       "      <td>1</td>\n",
       "      <td>{'ByAppointmentOnly': 'False', 'GoodForKids': ...</td>\n",
       "      <td>Fitness &amp; Instruction, Doctors, Health &amp; Medic...</td>\n",
       "      <td>{'Monday': '0:0-0:0', 'Tuesday': '0:0-0:0', 'W...</td>\n",
       "    </tr>\n",
       "  </tbody>\n",
       "</table>\n",
       "</div>"
      ],
      "text/plain": [
       "    index  ...                                              hours\n",
       "0       0  ...  {'Monday': '0:0-0:0', 'Tuesday': '0:0-0:0', 'W...\n",
       "1  186281  ...  {'Monday': '0:0-0:0', 'Tuesday': '0:0-0:0', 'W...\n",
       "\n",
       "[2 rows x 38 columns]"
      ]
     },
     "execution_count": 9,
     "metadata": {
      "tags": []
     },
     "output_type": "execute_result"
    }
   ],
   "source": [
    "train.head(2)"
   ]
  },
  {
   "cell_type": "markdown",
   "metadata": {
    "colab_type": "text",
    "id": "LszunM4FSyrC"
   },
   "source": [
    "Select the features we want to use when training the model. We have tried different combination of features. However, for the succinctness of the notebook, we only demonstrate the final features we chose."
   ]
  },
  {
   "cell_type": "code",
   "execution_count": 0,
   "metadata": {
    "colab": {},
    "colab_type": "code",
    "collapsed": true,
    "id": "YZR5l2CtU11N"
   },
   "outputs": [],
   "source": [
    "train1=train[['user_id','business_id','average_stars','stars','city','state','rating_review']]\n",
    "test1=test[['user_id','business_id','average_stars','stars','city','state','rating_review']]"
   ]
  },
  {
   "cell_type": "code",
   "execution_count": 0,
   "metadata": {
    "colab": {
     "base_uri": "https://localhost:8080/",
     "height": 111
    },
    "colab_type": "code",
    "id": "lmdaiinSU19E",
    "outputId": "616f0f0d-5078-4d4b-af92-21402b233bb8"
   },
   "outputs": [
    {
     "data": {
      "text/html": [
       "<div>\n",
       "<style scoped>\n",
       "    .dataframe tbody tr th:only-of-type {\n",
       "        vertical-align: middle;\n",
       "    }\n",
       "\n",
       "    .dataframe tbody tr th {\n",
       "        vertical-align: top;\n",
       "    }\n",
       "\n",
       "    .dataframe thead th {\n",
       "        text-align: right;\n",
       "    }\n",
       "</style>\n",
       "<table border=\"1\" class=\"dataframe\">\n",
       "  <thead>\n",
       "    <tr style=\"text-align: right;\">\n",
       "      <th></th>\n",
       "      <th>user_id</th>\n",
       "      <th>business_id</th>\n",
       "      <th>average_stars</th>\n",
       "      <th>stars</th>\n",
       "      <th>city</th>\n",
       "      <th>state</th>\n",
       "      <th>rating_review</th>\n",
       "    </tr>\n",
       "  </thead>\n",
       "  <tbody>\n",
       "    <tr>\n",
       "      <th>0</th>\n",
       "      <td>hG7b0MtEbXx5QzbzE6C_VA</td>\n",
       "      <td>ujmEBvifdJM6h6RLv4wQIg</td>\n",
       "      <td>2.0</td>\n",
       "      <td>2.5</td>\n",
       "      <td>Las Vegas</td>\n",
       "      <td>NV</td>\n",
       "      <td>1.0</td>\n",
       "    </tr>\n",
       "    <tr>\n",
       "      <th>1</th>\n",
       "      <td>hG7b0MtEbXx5QzbzE6C_VA</td>\n",
       "      <td>ujmEBvifdJM6h6RLv4wQIg</td>\n",
       "      <td>2.0</td>\n",
       "      <td>2.5</td>\n",
       "      <td>Las Vegas</td>\n",
       "      <td>NV</td>\n",
       "      <td>1.0</td>\n",
       "    </tr>\n",
       "  </tbody>\n",
       "</table>\n",
       "</div>"
      ],
      "text/plain": [
       "                  user_id             business_id  ...  state  rating_review\n",
       "0  hG7b0MtEbXx5QzbzE6C_VA  ujmEBvifdJM6h6RLv4wQIg  ...     NV            1.0\n",
       "1  hG7b0MtEbXx5QzbzE6C_VA  ujmEBvifdJM6h6RLv4wQIg  ...     NV            1.0\n",
       "\n",
       "[2 rows x 7 columns]"
      ]
     },
     "execution_count": 25,
     "metadata": {
      "tags": []
     },
     "output_type": "execute_result"
    }
   ],
   "source": [
    "train1.head(2)"
   ]
  },
  {
   "cell_type": "markdown",
   "metadata": {
    "colab_type": "text",
    "id": "UApks1qrTL3k"
   },
   "source": [
    "Renumber the user_id and business_id from 0."
   ]
  },
  {
   "cell_type": "code",
   "execution_count": 0,
   "metadata": {
    "colab": {},
    "colab_type": "code",
    "collapsed": true,
    "id": "bj3iJ9cnXBB0"
   },
   "outputs": [],
   "source": [
    "user_id_addresses = train1.user_id.unique()\n",
    "user_id_dict = dict(zip(user_id_addresses, range(len(user_id_addresses))))\n",
    "train1=train1.applymap(lambda s: user_id_dict.get(s) if s in user_id_dict else s)\n",
    "test1=test1.applymap(lambda s: user_id_dict.get(s) if s in user_id_dict else s)"
   ]
  },
  {
   "cell_type": "code",
   "execution_count": 0,
   "metadata": {
    "colab": {},
    "colab_type": "code",
    "collapsed": true,
    "id": "HaPjdsZBWi3e"
   },
   "outputs": [],
   "source": [
    "total_business_id=list(train1.business_id.unique())+list(test1.business_id.unique())"
   ]
  },
  {
   "cell_type": "code",
   "execution_count": 0,
   "metadata": {
    "colab": {},
    "colab_type": "code",
    "collapsed": true,
    "id": "JUj0p0y0Wy37"
   },
   "outputs": [],
   "source": [
    "business_id_dict = dict(zip(total_business_id, range(len(total_business_id))))"
   ]
  },
  {
   "cell_type": "code",
   "execution_count": 0,
   "metadata": {
    "colab": {},
    "colab_type": "code",
    "collapsed": true,
    "id": "mcmBcP76VDPm"
   },
   "outputs": [],
   "source": [
    "# business_id_addresses = train1.business_id.unique()\n",
    "# business_id_dict = dict(zip(business_id_addresses, range(len(business_id_addresses))))\n",
    "train1=train1.applymap(lambda s: business_id_dict.get(s) if s in business_id_dict else s)\n",
    "test1=test1.applymap(lambda s: business_id_dict.get(s) if s in business_id_dict else s)"
   ]
  },
  {
   "cell_type": "code",
   "execution_count": 0,
   "metadata": {
    "colab": {
     "base_uri": "https://localhost:8080/",
     "height": 111
    },
    "colab_type": "code",
    "id": "9t89NnL1VDEh",
    "outputId": "035f2166-2b39-4e2c-e38a-3ccfb6407c46"
   },
   "outputs": [
    {
     "data": {
      "text/html": [
       "<div>\n",
       "<style scoped>\n",
       "    .dataframe tbody tr th:only-of-type {\n",
       "        vertical-align: middle;\n",
       "    }\n",
       "\n",
       "    .dataframe tbody tr th {\n",
       "        vertical-align: top;\n",
       "    }\n",
       "\n",
       "    .dataframe thead th {\n",
       "        text-align: right;\n",
       "    }\n",
       "</style>\n",
       "<table border=\"1\" class=\"dataframe\">\n",
       "  <thead>\n",
       "    <tr style=\"text-align: right;\">\n",
       "      <th></th>\n",
       "      <th>user_id</th>\n",
       "      <th>business_id</th>\n",
       "      <th>average_stars</th>\n",
       "      <th>stars</th>\n",
       "      <th>city</th>\n",
       "      <th>state</th>\n",
       "      <th>rating_review</th>\n",
       "    </tr>\n",
       "  </thead>\n",
       "  <tbody>\n",
       "    <tr>\n",
       "      <th>0</th>\n",
       "      <td>0</td>\n",
       "      <td>151026</td>\n",
       "      <td>2.0</td>\n",
       "      <td>2.5</td>\n",
       "      <td>Las Vegas</td>\n",
       "      <td>NV</td>\n",
       "      <td>1.0</td>\n",
       "    </tr>\n",
       "    <tr>\n",
       "      <th>1</th>\n",
       "      <td>0</td>\n",
       "      <td>151026</td>\n",
       "      <td>2.0</td>\n",
       "      <td>2.5</td>\n",
       "      <td>Las Vegas</td>\n",
       "      <td>NV</td>\n",
       "      <td>1.0</td>\n",
       "    </tr>\n",
       "  </tbody>\n",
       "</table>\n",
       "</div>"
      ],
      "text/plain": [
       "   user_id  business_id  average_stars  stars       city state  rating_review\n",
       "0        0       151026            2.0    2.5  Las Vegas    NV            1.0\n",
       "1        0       151026            2.0    2.5  Las Vegas    NV            1.0"
      ]
     },
     "execution_count": 30,
     "metadata": {
      "tags": []
     },
     "output_type": "execute_result"
    }
   ],
   "source": [
    "train1.head(2)"
   ]
  },
  {
   "cell_type": "markdown",
   "metadata": {
    "colab_type": "text",
    "id": "uXmcrvHOTRCC"
   },
   "source": [
    "Save the train and test set as txt file."
   ]
  },
  {
   "cell_type": "code",
   "execution_count": 0,
   "metadata": {
    "colab": {},
    "colab_type": "code",
    "collapsed": true,
    "id": "eJGPwU8mU2EB"
   },
   "outputs": [],
   "source": [
    "np.savetxt(path+'test1.txt', test1.values, fmt=['%d','%d','%d','%d','%s','%s','%d'])"
   ]
  },
  {
   "cell_type": "code",
   "execution_count": 0,
   "metadata": {
    "colab": {},
    "colab_type": "code",
    "collapsed": true,
    "id": "T1FgUkxrUche"
   },
   "outputs": [],
   "source": [
    "np.savetxt(path+'train1.txt', train1.values, fmt=['%d','%d','%d','%d','%s','%s','%d'])"
   ]
  },
  {
   "cell_type": "markdown",
   "metadata": {
    "colab_type": "text",
    "id": "HesPbuXRhPDH"
   },
   "source": [
    "### Prepare segmented test dataset in user and business dimension"
   ]
  },
  {
   "cell_type": "markdown",
   "metadata": {
    "colab_type": "text",
    "id": "xlfWxV45Yn2H"
   },
   "source": [
    "The reason we are creating separated test dataset is because that we want to test our models on different levels of users and businesses."
   ]
  },
  {
   "cell_type": "markdown",
   "metadata": {
    "colab_type": "text",
    "id": "WpYgs9SuX7dj"
   },
   "source": [
    "Same data preparation logic applies here, we perform the same procedure above on different classes of users and businesses we segmented before."
   ]
  },
  {
   "cell_type": "code",
   "execution_count": 0,
   "metadata": {
    "colab": {
     "base_uri": "https://localhost:8080/",
     "height": 139
    },
    "colab_type": "code",
    "id": "A4lzgSsihODo",
    "outputId": "29660473-f284-4366-f181-a9cf027008d9"
   },
   "outputs": [
    {
     "name": "stderr",
     "output_type": "stream",
     "text": [
      "/usr/local/lib/python3.6/dist-packages/ipykernel_launcher.py:5: SettingWithCopyWarning: \n",
      "A value is trying to be set on a copy of a slice from a DataFrame.\n",
      "Try using .loc[row_indexer,col_indexer] = value instead\n",
      "\n",
      "See the caveats in the documentation: http://pandas.pydata.org/pandas-docs/stable/user_guide/indexing.html#returning-a-view-versus-a-copy\n",
      "  \"\"\"\n"
     ]
    }
   ],
   "source": [
    "review=pd.read_csv(path+'review.csv')\n",
    "del review['text_review']\n",
    "review['freq_business'] = review.groupby('business_id')['business_id'].transform('count')\n",
    "review2=review.loc[review['freq_business']>2]\n",
    "review2['freq_user'] = review2.groupby('user_id')['user_id'].transform('count')\n",
    "review3=review2.loc[review2['freq_user']>=5]\n",
    "review3=review3.reset_index()\n",
    "test_idx=pd.read_csv(path+'all_test_idx_df2.csv')\n",
    "test_idx=test_idx.rename({'0':'index'},axis=1)\n",
    "test=review3.loc[review3['index'].isin(test_idx['index'])]\n"
   ]
  },
  {
   "cell_type": "markdown",
   "metadata": {
    "colab_type": "text",
    "id": "t0-PETJQXySj"
   },
   "source": [
    "Read the segmented userID/businessID we created before, get the corresponding rows from the test set according to the userID/businessID, join them with user information and business information table, take the feature columns we want, renumber the userid and businessid from 0, and save them as txt files."
   ]
  },
  {
   "cell_type": "code",
   "execution_count": 0,
   "metadata": {
    "colab": {},
    "colab_type": "code",
    "collapsed": true,
    "id": "Y-_4IKcRhOOL"
   },
   "outputs": [],
   "source": [
    "unpopular_userid=pd.read_csv(path+'unpopular_user_ID.csv')\n",
    "midpopular_userid=pd.read_csv(path+'midpopular_user_ID.csv')\n",
    "popular_userid=pd.read_csv(path+'popular_user_ID.csv')"
   ]
  },
  {
   "cell_type": "code",
   "execution_count": 0,
   "metadata": {
    "colab": {},
    "colab_type": "code",
    "collapsed": true,
    "id": "uPTA8ruBiIqO"
   },
   "outputs": [],
   "source": [
    "unpopular_user=test.loc[test['user_id'].isin(unpopular_userid['userId'])]\n",
    "midpopular_user=test.loc[test['user_id'].isin(midpopular_userid['userId'])]\n",
    "popular_user=test.loc[test['user_id'].isin(popular_userid['userId'])]"
   ]
  },
  {
   "cell_type": "code",
   "execution_count": 0,
   "metadata": {
    "colab": {},
    "colab_type": "code",
    "collapsed": true,
    "id": "nAl38idRyqRL"
   },
   "outputs": [],
   "source": [
    "user=pd.read_csv(path+'user2.csv')\n",
    "business=pd.read_csv(path+'business.csv')\n",
    "business=business.rename(columns={\"business_ids\": \"business_id\"})"
   ]
  },
  {
   "cell_type": "code",
   "execution_count": 0,
   "metadata": {
    "colab": {},
    "colab_type": "code",
    "collapsed": true,
    "id": "IxwE0Tr4XmYV"
   },
   "outputs": [],
   "source": [
    "unpopular_user=pd.merge(unpopular_user, user, on='user_id')\n",
    "midpopular_user=pd.merge(midpopular_user, user, on='user_id')\n",
    "popular_user=pd.merge(popular_user, user, on='user_id')"
   ]
  },
  {
   "cell_type": "code",
   "execution_count": 0,
   "metadata": {
    "colab": {},
    "colab_type": "code",
    "collapsed": true,
    "id": "iYGrIxkwXmoM"
   },
   "outputs": [],
   "source": [
    "unpopular_user = pd.merge(unpopular_user, business, on='business_id')\n",
    "midpopular_user = pd.merge(midpopular_user, business, on='business_id')\n",
    "popular_user = pd.merge(popular_user, business, on='business_id')"
   ]
  },
  {
   "cell_type": "code",
   "execution_count": 0,
   "metadata": {
    "colab": {},
    "colab_type": "code",
    "collapsed": true,
    "id": "XlXVvvwPXmkU"
   },
   "outputs": [],
   "source": [
    "unpopular_user=unpopular_user[['user_id','business_id','average_stars','stars','city','state','rating_review']]\n",
    "midpopular_user=midpopular_user[['user_id','business_id','average_stars','stars','city','state','rating_review']]\n",
    "popular_user=popular_user[['user_id','business_id','average_stars','stars','city','state','rating_review']]"
   ]
  },
  {
   "cell_type": "code",
   "execution_count": 0,
   "metadata": {
    "colab": {},
    "colab_type": "code",
    "collapsed": true,
    "id": "TUFZFU1kjVNH"
   },
   "outputs": [],
   "source": [
    "user_id_addresses = train1.user_id.unique()\n",
    "user_id_dict = dict(zip(user_id_addresses, range(len(user_id_addresses))))\n",
    "\n",
    "unpopular_user=unpopular_user.applymap(lambda s: user_id_dict.get(s) if s in user_id_dict else s)\n",
    "midpopular_user=midpopular_user.applymap(lambda s: user_id_dict.get(s) if s in user_id_dict else s)\n",
    "popular_user=popular_user.applymap(lambda s: user_id_dict.get(s) if s in user_id_dict else s)\n",
    "\n",
    "total_business_id=list(train1.business_id.unique())+list(test1.business_id.unique())\n",
    "business_id_dict = dict(zip(total_business_id, range(len(total_business_id))))\n",
    "unpopular_user=unpopular_user.applymap(lambda s: business_id_dict.get(s) if s in business_id_dict else s)\n",
    "midpopular_user=midpopular_user.applymap(lambda s: business_id_dict.get(s) if s in business_id_dict else s)\n",
    "popular_user=popular_user.applymap(lambda s: business_id_dict.get(s) if s in business_id_dict else s)"
   ]
  },
  {
   "cell_type": "code",
   "execution_count": 0,
   "metadata": {
    "colab": {},
    "colab_type": "code",
    "collapsed": true,
    "id": "11EnXQ1jjVTh"
   },
   "outputs": [],
   "source": [
    "np.savetxt(path+'unpopular_user.txt', unpopular_user.values, fmt=['%d','%d','%d','%d','%s','%s','%d'])\n",
    "np.savetxt(path+'midpopular_user.txt', midpopular_user.values, fmt=['%d','%d','%d','%d','%s','%s','%d'])\n",
    "np.savetxt(path+'popular_user.txt', popular_user.values, fmt=['%d','%d','%d','%d','%s','%s','%d'])"
   ]
  },
  {
   "cell_type": "code",
   "execution_count": 0,
   "metadata": {
    "colab": {},
    "colab_type": "code",
    "collapsed": true,
    "id": "utftMGWsXme1"
   },
   "outputs": [],
   "source": []
  },
  {
   "cell_type": "code",
   "execution_count": 0,
   "metadata": {
    "colab": {},
    "colab_type": "code",
    "collapsed": true,
    "id": "vdCoCo8yk2dS"
   },
   "outputs": [],
   "source": []
  },
  {
   "cell_type": "code",
   "execution_count": 0,
   "metadata": {
    "colab": {},
    "colab_type": "code",
    "collapsed": true,
    "id": "DC7eVK1hk7ZV"
   },
   "outputs": [],
   "source": [
    "unpopular_businessid=pd.read_csv(path+'unpopular_business_ID.csv')\n",
    "midpopular_businessid=pd.read_csv(path+'midpopular_business_ID.csv')\n",
    "popular_businessid=pd.read_csv(path+'popular_business_ID.csv')"
   ]
  },
  {
   "cell_type": "code",
   "execution_count": 0,
   "metadata": {
    "colab": {},
    "colab_type": "code",
    "collapsed": true,
    "id": "jA8P5Uirk7ZY"
   },
   "outputs": [],
   "source": [
    "unpopular_business=test.loc[test['business_id'].isin(unpopular_businessid['businessId'])]\n",
    "midpopular_business=test.loc[test['business_id'].isin(midpopular_businessid['businessId'])]\n",
    "popular_business=test.loc[test['business_id'].isin(popular_businessid['businessId'])]"
   ]
  },
  {
   "cell_type": "code",
   "execution_count": 0,
   "metadata": {
    "colab": {},
    "colab_type": "code",
    "collapsed": true,
    "id": "h_SR515Vk6n0"
   },
   "outputs": [],
   "source": [
    "unpopular_business=pd.merge(unpopular_business, user, on='user_id')\n",
    "midpopular_business=pd.merge(midpopular_business, user, on='user_id')\n",
    "popular_business=pd.merge(popular_business, user, on='user_id')"
   ]
  },
  {
   "cell_type": "code",
   "execution_count": 0,
   "metadata": {
    "colab": {},
    "colab_type": "code",
    "collapsed": true,
    "id": "e6F_lkC2k6zQ"
   },
   "outputs": [],
   "source": [
    "unpopular_business = pd.merge(unpopular_business, business, on='business_id')\n",
    "midpopular_business = pd.merge(midpopular_business, business, on='business_id')\n",
    "popular_business= pd.merge(popular_business, business, on='business_id')"
   ]
  },
  {
   "cell_type": "code",
   "execution_count": 0,
   "metadata": {
    "colab": {},
    "colab_type": "code",
    "collapsed": true,
    "id": "V177g_V3lX6i"
   },
   "outputs": [],
   "source": [
    "unpopular_business=unpopular_business[['user_id','business_id','average_stars','stars','city','state','rating_review']]\n",
    "midpopular_business=midpopular_business[['user_id','business_id','average_stars','stars','city','state','rating_review']]\n",
    "popular_business=popular_business[['user_id','business_id','average_stars','stars','city','state','rating_review']]"
   ]
  },
  {
   "cell_type": "code",
   "execution_count": 0,
   "metadata": {
    "colab": {},
    "colab_type": "code",
    "collapsed": true,
    "id": "pzUQ-o6llX6p"
   },
   "outputs": [],
   "source": [
    "# user_id_addresses = train1.user_id.unique()\n",
    "# user_id_dict = dict(zip(user_id_addresses, range(len(user_id_addresses))))\n",
    "\n",
    "unpopular_business=unpopular_business.applymap(lambda s: user_id_dict.get(s) if s in user_id_dict else s)\n",
    "midpopular_business=midpopular_business.applymap(lambda s: user_id_dict.get(s) if s in user_id_dict else s)\n",
    "popular_business=popular_business.applymap(lambda s: user_id_dict.get(s) if s in user_id_dict else s)\n",
    "\n",
    "# total_business_id=list(train1.business_id.unique())+list(test1.business_id.unique())\n",
    "# business_id_dict = dict(zip(total_business_id, range(len(total_business_id))))\n",
    "unpopular_business=unpopular_business.applymap(lambda s: business_id_dict.get(s) if s in business_id_dict else s)\n",
    "midpopular_business=midpopular_business.applymap(lambda s: business_id_dict.get(s) if s in business_id_dict else s)\n",
    "popular_business=popular_business.applymap(lambda s: business_id_dict.get(s) if s in business_id_dict else s)"
   ]
  },
  {
   "cell_type": "code",
   "execution_count": 0,
   "metadata": {
    "colab": {},
    "colab_type": "code",
    "collapsed": true,
    "id": "T_ch9cNFlX6t"
   },
   "outputs": [],
   "source": [
    "np.savetxt(path+'unpopular_business.txt', unpopular_business.values, fmt=['%d','%d','%d','%d','%s','%s','%d'])\n",
    "np.savetxt(path+'midpopular_business.txt', midpopular_business.values, fmt=['%d','%d','%d','%d','%s','%s','%d'])\n",
    "np.savetxt(path+'popular_business.txt', popular_business.values, fmt=['%d','%d','%d','%d','%s','%s','%d'])"
   ]
  },
  {
   "cell_type": "code",
   "execution_count": 0,
   "metadata": {
    "colab": {},
    "colab_type": "code",
    "collapsed": true,
    "id": "nuTLMFnok64I"
   },
   "outputs": [],
   "source": []
  },
  {
   "cell_type": "code",
   "execution_count": 0,
   "metadata": {
    "colab": {},
    "colab_type": "code",
    "collapsed": true,
    "id": "Z-0OjCy6k6vy"
   },
   "outputs": [],
   "source": []
  },
  {
   "cell_type": "code",
   "execution_count": 0,
   "metadata": {
    "colab": {},
    "colab_type": "code",
    "collapsed": true,
    "id": "E7WLcAmvk6sM"
   },
   "outputs": [],
   "source": []
  },
  {
   "cell_type": "code",
   "execution_count": 0,
   "metadata": {
    "colab": {},
    "colab_type": "code",
    "collapsed": true,
    "id": "F_iP0CVCk6kk"
   },
   "outputs": [],
   "source": []
  }
 ],
 "metadata": {
  "colab": {
   "collapsed_sections": [],
   "name": "FM Dataset preparation.ipynb",
   "provenance": []
  },
  "kernelspec": {
   "display_name": "Python 3",
   "name": "python3"
  }
 },
 "nbformat": 4,
 "nbformat_minor": 1
}
